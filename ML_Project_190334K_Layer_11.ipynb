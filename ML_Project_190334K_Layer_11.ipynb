{
  "nbformat": 4,
  "nbformat_minor": 0,
  "metadata": {
    "colab": {
      "provenance": [],
      "toc_visible": true
    },
    "kernelspec": {
      "name": "python3",
      "display_name": "Python 3"
    },
    "language_info": {
      "name": "python"
    }
  },
  "cells": [
    {
      "cell_type": "markdown",
      "source": [
        "Define label names and feature names"
      ],
      "metadata": {
        "id": "u722--M8PrMo"
      }
    },
    {
      "cell_type": "code",
      "execution_count": null,
      "metadata": {
        "id": "-qLEXTkqPkpm"
      },
      "outputs": [],
      "source": [
        "import pandas as pd\n",
        "import numpy as np\n",
        "\n",
        "LABELS = ['label_1','label_2', 'label_3', 'label_4']\n",
        "FEATURES = [f'feature_{i}' for i in range(1, 769)]\n"
      ]
    },
    {
      "cell_type": "markdown",
      "source": [
        "Read training,validation and test data"
      ],
      "metadata": {
        "id": "QqDq0aTB4Nbq"
      }
    },
    {
      "cell_type": "code",
      "source": [
        "from google.colab import drive\n",
        "drive.mount('/content/drive')\n",
        "\n",
        "\n",
        "train_df = pd.read_csv(\"/content/drive/MyDrive/ML_Project_11/train.csv\")\n",
        "valid_df = pd.read_csv(\"/content/drive/MyDrive/ML_Project_11/valid.csv\")\n",
        "test_df = pd.read_csv(\"/content/drive/MyDrive/ML_Project_11/test.csv\")\n"
      ],
      "metadata": {
        "id": "ZyUSroZ1Ty8e",
        "colab": {
          "base_uri": "https://localhost:8080/"
        },
        "outputId": "864aa1bc-1e93-43f4-ebcb-a55f5fad5325"
      },
      "execution_count": null,
      "outputs": [
        {
          "output_type": "stream",
          "name": "stdout",
          "text": [
            "Mounted at /content/drive\n"
          ]
        }
      ]
    },
    {
      "cell_type": "markdown",
      "source": [
        "Initialize dictionaries to store data"
      ],
      "metadata": {
        "id": "KiuiG78eqBmH"
      }
    },
    {
      "cell_type": "code",
      "source": [
        "train_x = {}\n",
        "valid_x = {}\n",
        "test_x = {}\n",
        "train_y = {}\n",
        "valid_y = {}\n",
        "test_y = {}"
      ],
      "metadata": {
        "id": "fX7zKhl7l-AN"
      },
      "execution_count": null,
      "outputs": []
    },
    {
      "cell_type": "markdown",
      "source": [
        "Prepare and preprocess the data. Here, rows with missing values for each label are dropped when train and validation dataframes are created.\n"
      ],
      "metadata": {
        "id": "u5cPLjm34k-_"
      }
    },
    {
      "cell_type": "code",
      "source": [
        "from sklearn.preprocessing import StandardScaler\n",
        "\n",
        "scaler = StandardScaler()\n",
        "for LBL in LABELS:\n",
        "  train_df_new = train_df[train_df[LBL].notna()]# dropping rows with miising values for label 2 column.\n",
        "  valid_df_new = valid_df[valid_df[LBL].notna()]# dropping rows with miising values for label 2 column.\n",
        "  train_x[LBL] = pd.DataFrame(scaler.fit_transform(train_df_new.drop(LABELS, axis=1)), columns = FEATURES)\n",
        "  train_y[LBL] = train_df_new[LBL]\n",
        "  valid_x[LBL] = pd.DataFrame(scaler.transform(valid_df_new.drop(LABELS, axis=1)), columns = FEATURES)\n",
        "  valid_y[LBL] = valid_df_new[LBL]\n",
        "  test_x[LBL] = pd.DataFrame(scaler.transform(test_df.drop(['ID'], axis=1)), columns=FEATURES)"
      ],
      "metadata": {
        "id": "VGLTRP-o4d1o",
        "colab": {
          "base_uri": "https://localhost:8080/"
        },
        "outputId": "5af75284-fb4f-4bb9-e1cc-eebe4c4a1736"
      },
      "execution_count": null,
      "outputs": [
        {
          "output_type": "stream",
          "name": "stderr",
          "text": [
            "<ipython-input-4-941c1b10b98e>:6: UserWarning: Boolean Series key will be reindexed to match DataFrame index.\n",
            "  valid_df_new = valid_df[train_df[LBL].notna()]# dropping rows with miising values for label 2 column.\n",
            "<ipython-input-4-941c1b10b98e>:6: UserWarning: Boolean Series key will be reindexed to match DataFrame index.\n",
            "  valid_df_new = valid_df[train_df[LBL].notna()]# dropping rows with miising values for label 2 column.\n",
            "<ipython-input-4-941c1b10b98e>:6: UserWarning: Boolean Series key will be reindexed to match DataFrame index.\n",
            "  valid_df_new = valid_df[train_df[LBL].notna()]# dropping rows with miising values for label 2 column.\n",
            "<ipython-input-4-941c1b10b98e>:6: UserWarning: Boolean Series key will be reindexed to match DataFrame index.\n",
            "  valid_df_new = valid_df[train_df[LBL].notna()]# dropping rows with miising values for label 2 column.\n"
          ]
        }
      ]
    },
    {
      "cell_type": "markdown",
      "source": [
        "Imports"
      ],
      "metadata": {
        "id": "FdKHtbrepwPD"
      }
    },
    {
      "cell_type": "code",
      "source": [
        "from sklearn.decomposition import PCA\n",
        "from sklearn import svm\n",
        "from sklearn.svm import SVC\n",
        "from sklearn.neighbors import KNeighborsClassifier\n",
        "from sklearn.neighbors import KNeighborsRegressor\n",
        "from sklearn.ensemble import RandomForestClassifier\n",
        "from sklearn.linear_model import LogisticRegression\n",
        "import xgboost as xgb\n",
        "from sklearn.model_selection import cross_val_score, KFold\n",
        "from sklearn.model_selection import GridSearchCV\n",
        "from sklearn.metrics import classification_report"
      ],
      "metadata": {
        "id": "7RYps8bJpyGO"
      },
      "execution_count": null,
      "outputs": []
    },
    {
      "cell_type": "markdown",
      "source": [
        "# For Label 1"
      ],
      "metadata": {
        "id": "nbvKQmri51rX"
      }
    },
    {
      "cell_type": "code",
      "source": [
        "LBL = 'label_1'"
      ],
      "metadata": {
        "id": "dIqeEsPNsZdh"
      },
      "execution_count": null,
      "outputs": []
    },
    {
      "cell_type": "markdown",
      "source": [
        "## Applying Feature Engineering techniques"
      ],
      "metadata": {
        "id": "RSCJlH-1tKl1"
      }
    },
    {
      "cell_type": "markdown",
      "source": [
        "### Using Principal Component Analysis(PCA)"
      ],
      "metadata": {
        "id": "GqAX-ry9tQVN"
      }
    },
    {
      "cell_type": "markdown",
      "source": [
        "Apply PCA on original features"
      ],
      "metadata": {
        "id": "ESvIaRWNtTc9"
      }
    },
    {
      "cell_type": "code",
      "source": [
        "pca = PCA(n_components=0.99, svd_solver='full')\n",
        "pca.fit(train_x[LBL])"
      ],
      "metadata": {
        "id": "erl9HQnc9bC_",
        "colab": {
          "base_uri": "https://localhost:8080/",
          "height": 74
        },
        "outputId": "54dce0f2-c3b9-41b8-b37d-b507ffa6d285"
      },
      "execution_count": null,
      "outputs": [
        {
          "output_type": "execute_result",
          "data": {
            "text/plain": [
              "PCA(n_components=0.99, svd_solver='full')"
            ],
            "text/html": [
              "<style>#sk-container-id-5 {color: black;background-color: white;}#sk-container-id-5 pre{padding: 0;}#sk-container-id-5 div.sk-toggleable {background-color: white;}#sk-container-id-5 label.sk-toggleable__label {cursor: pointer;display: block;width: 100%;margin-bottom: 0;padding: 0.3em;box-sizing: border-box;text-align: center;}#sk-container-id-5 label.sk-toggleable__label-arrow:before {content: \"▸\";float: left;margin-right: 0.25em;color: #696969;}#sk-container-id-5 label.sk-toggleable__label-arrow:hover:before {color: black;}#sk-container-id-5 div.sk-estimator:hover label.sk-toggleable__label-arrow:before {color: black;}#sk-container-id-5 div.sk-toggleable__content {max-height: 0;max-width: 0;overflow: hidden;text-align: left;background-color: #f0f8ff;}#sk-container-id-5 div.sk-toggleable__content pre {margin: 0.2em;color: black;border-radius: 0.25em;background-color: #f0f8ff;}#sk-container-id-5 input.sk-toggleable__control:checked~div.sk-toggleable__content {max-height: 200px;max-width: 100%;overflow: auto;}#sk-container-id-5 input.sk-toggleable__control:checked~label.sk-toggleable__label-arrow:before {content: \"▾\";}#sk-container-id-5 div.sk-estimator input.sk-toggleable__control:checked~label.sk-toggleable__label {background-color: #d4ebff;}#sk-container-id-5 div.sk-label input.sk-toggleable__control:checked~label.sk-toggleable__label {background-color: #d4ebff;}#sk-container-id-5 input.sk-hidden--visually {border: 0;clip: rect(1px 1px 1px 1px);clip: rect(1px, 1px, 1px, 1px);height: 1px;margin: -1px;overflow: hidden;padding: 0;position: absolute;width: 1px;}#sk-container-id-5 div.sk-estimator {font-family: monospace;background-color: #f0f8ff;border: 1px dotted black;border-radius: 0.25em;box-sizing: border-box;margin-bottom: 0.5em;}#sk-container-id-5 div.sk-estimator:hover {background-color: #d4ebff;}#sk-container-id-5 div.sk-parallel-item::after {content: \"\";width: 100%;border-bottom: 1px solid gray;flex-grow: 1;}#sk-container-id-5 div.sk-label:hover label.sk-toggleable__label {background-color: #d4ebff;}#sk-container-id-5 div.sk-serial::before {content: \"\";position: absolute;border-left: 1px solid gray;box-sizing: border-box;top: 0;bottom: 0;left: 50%;z-index: 0;}#sk-container-id-5 div.sk-serial {display: flex;flex-direction: column;align-items: center;background-color: white;padding-right: 0.2em;padding-left: 0.2em;position: relative;}#sk-container-id-5 div.sk-item {position: relative;z-index: 1;}#sk-container-id-5 div.sk-parallel {display: flex;align-items: stretch;justify-content: center;background-color: white;position: relative;}#sk-container-id-5 div.sk-item::before, #sk-container-id-5 div.sk-parallel-item::before {content: \"\";position: absolute;border-left: 1px solid gray;box-sizing: border-box;top: 0;bottom: 0;left: 50%;z-index: -1;}#sk-container-id-5 div.sk-parallel-item {display: flex;flex-direction: column;z-index: 1;position: relative;background-color: white;}#sk-container-id-5 div.sk-parallel-item:first-child::after {align-self: flex-end;width: 50%;}#sk-container-id-5 div.sk-parallel-item:last-child::after {align-self: flex-start;width: 50%;}#sk-container-id-5 div.sk-parallel-item:only-child::after {width: 0;}#sk-container-id-5 div.sk-dashed-wrapped {border: 1px dashed gray;margin: 0 0.4em 0.5em 0.4em;box-sizing: border-box;padding-bottom: 0.4em;background-color: white;}#sk-container-id-5 div.sk-label label {font-family: monospace;font-weight: bold;display: inline-block;line-height: 1.2em;}#sk-container-id-5 div.sk-label-container {text-align: center;}#sk-container-id-5 div.sk-container {/* jupyter's `normalize.less` sets `[hidden] { display: none; }` but bootstrap.min.css set `[hidden] { display: none !important; }` so we also need the `!important` here to be able to override the default hidden behavior on the sphinx rendered scikit-learn.org. See: https://github.com/scikit-learn/scikit-learn/issues/21755 */display: inline-block !important;position: relative;}#sk-container-id-5 div.sk-text-repr-fallback {display: none;}</style><div id=\"sk-container-id-5\" class=\"sk-top-container\"><div class=\"sk-text-repr-fallback\"><pre>PCA(n_components=0.99, svd_solver=&#x27;full&#x27;)</pre><b>In a Jupyter environment, please rerun this cell to show the HTML representation or trust the notebook. <br />On GitHub, the HTML representation is unable to render, please try loading this page with nbviewer.org.</b></div><div class=\"sk-container\" hidden><div class=\"sk-item\"><div class=\"sk-estimator sk-toggleable\"><input class=\"sk-toggleable__control sk-hidden--visually\" id=\"sk-estimator-id-5\" type=\"checkbox\" checked><label for=\"sk-estimator-id-5\" class=\"sk-toggleable__label sk-toggleable__label-arrow\">PCA</label><div class=\"sk-toggleable__content\"><pre>PCA(n_components=0.99, svd_solver=&#x27;full&#x27;)</pre></div></div></div></div></div>"
            ]
          },
          "metadata": {},
          "execution_count": 22
        }
      ]
    },
    {
      "cell_type": "code",
      "source": [
        "train_x_trans = pd.DataFrame(pca.transform(train_x[LBL]))\n",
        "valid_x_trans = pd.DataFrame(pca.transform(valid_x[LBL]))\n",
        "test_x_trans = pd.DataFrame(pca.transform(test_x[LBL]))\n",
        "\n",
        "print(\"Shape after feature reduction:\", train_x_trans.shape)\n",
        "print(\"Shape after feature reduction:\", valid_x_trans.shape)\n",
        "print(\"Shape after feature reduction:\", test_x_trans.shape)"
      ],
      "metadata": {
        "id": "QJgzprrv9pYb",
        "colab": {
          "base_uri": "https://localhost:8080/"
        },
        "outputId": "4c144f4e-d00b-4d56-bc1b-3e1822a4fc6f"
      },
      "execution_count": null,
      "outputs": [
        {
          "output_type": "stream",
          "name": "stdout",
          "text": [
            "Shape after feature reduction: (28520, 386)\n",
            "Shape after feature reduction: (750, 386)\n",
            "Shape after feature reduction: (744, 386)\n"
          ]
        }
      ]
    },
    {
      "cell_type": "markdown",
      "source": [
        "## Model Selection"
      ],
      "metadata": {
        "id": "tBRmsyy_jDJl"
      }
    },
    {
      "cell_type": "markdown",
      "source": [
        "### Cross Validation"
      ],
      "metadata": {
        "id": "fRZIi_vgiCB8"
      }
    },
    {
      "cell_type": "markdown",
      "source": [
        "For Support Vector Machine(SVM) classifier"
      ],
      "metadata": {
        "id": "QL5nB_CuiZ8s"
      }
    },
    {
      "cell_type": "code",
      "source": [
        "svm_classifier = SVC(kernel='rbf')\n",
        "\n",
        "# Define the number of splits for k-fold cross-validation\n",
        "k_folds = 10\n",
        "kf = KFold(n_splits=k_folds, shuffle=True, random_state=42)\n",
        "\n",
        "# Perform k-fold cross-validation\n",
        "cv_scores = cross_val_score(svm_classifier, train_x_trans, train_y[LBL], cv=kf)\n",
        "\n",
        "# Print the cross-validation scores\n",
        "print(f\"Cross-validation scores: {cv_scores}\")\n",
        "print(f\"Mean accuracy: {np.mean(cv_scores)}\")\n"
      ],
      "metadata": {
        "colab": {
          "base_uri": "https://localhost:8080/"
        },
        "id": "o-q1KkM-iKoP",
        "outputId": "9d4b1c5a-bb48-47b1-be22-cd4df1f15c0b"
      },
      "execution_count": null,
      "outputs": [
        {
          "output_type": "stream",
          "name": "stdout",
          "text": [
            "Cross-validation scores: [0.89446003 0.90147265 0.9042777  0.89901823 0.90182328 0.90252454\n",
            " 0.89165498 0.89481066 0.89726508 0.8930575 ]\n",
            "Mean accuracy: 0.8980364656381488\n"
          ]
        }
      ]
    },
    {
      "cell_type": "markdown",
      "source": [
        "For kNN classifier"
      ],
      "metadata": {
        "id": "lsP2yChLkZhH"
      }
    },
    {
      "cell_type": "code",
      "source": [
        "knn_classifier = KNeighborsClassifier(n_neighbors=5)\n",
        "\n",
        "# Perform k-fold cross-validation\n",
        "cv_scores = cross_val_score(knn_classifier, train_x_trans, train_y[LBL], cv=kf)\n",
        "\n",
        "# Print the cross-validation scores\n",
        "print(f\"Cross-validation scores: {cv_scores}\")\n",
        "print(f\"Mean accuracy: {np.mean(cv_scores)}\")"
      ],
      "metadata": {
        "colab": {
          "base_uri": "https://localhost:8080/"
        },
        "id": "hLNtnt5jkb4A",
        "outputId": "e66e753a-0a8e-48a4-b491-ba51c2580d7a"
      },
      "execution_count": null,
      "outputs": [
        {
          "output_type": "stream",
          "name": "stdout",
          "text": [
            "Cross-validation scores: [0.79593268 0.79172511 0.79067321 0.79978962 0.79523142 0.79698457\n",
            " 0.78541374 0.77664797 0.79908836 0.79172511]\n",
            "Mean accuracy: 0.7923211781206172\n"
          ]
        }
      ]
    },
    {
      "cell_type": "markdown",
      "source": [
        "Since SVM has the highest mean accuracy, SVM classifier is selected as the classification model"
      ],
      "metadata": {
        "id": "ED11IfTP2sIb"
      }
    },
    {
      "cell_type": "markdown",
      "source": [
        "## Hyperparameter tuning"
      ],
      "metadata": {
        "id": "ENL-kCHFRCP1"
      }
    },
    {
      "cell_type": "markdown",
      "source": [
        "### Using Grid search"
      ],
      "metadata": {
        "id": "UH9equWXRgcA"
      }
    },
    {
      "cell_type": "code",
      "execution_count": null,
      "metadata": {
        "colab": {
          "base_uri": "https://localhost:8080/"
        },
        "outputId": "3fee7c90-547f-48fb-e60e-4d3844156c9c",
        "id": "JB495NWfNQG9"
      },
      "outputs": [
        {
          "output_type": "stream",
          "name": "stdout",
          "text": [
            "Best Parameters: {'C': 10, 'kernel': 'rbf'}\n"
          ]
        }
      ],
      "source": [
        "# Define the parameter grid for grid search\n",
        "param_grid = {\n",
        "    'C' : [0.1, 1, 10],\n",
        "    'kernel': ['rbf','linear','poly']\n",
        "}\n",
        "\n",
        "# Create the SVM model\n",
        "svm_model = SVC()\n",
        "\n",
        "# Create Grid Search object\n",
        "grid_search = GridSearchCV(svm_model, param_grid, cv=3, scoring='accuracy')\n",
        "\n",
        "# Fit the model\n",
        "grid_search.fit(train_x_trans, train_y[LBL])\n",
        "\n",
        "# Get the best parameters\n",
        "best_params = grid_search.best_params_\n",
        "print(\"Best Parameters:\", best_params)"
      ]
    },
    {
      "cell_type": "markdown",
      "source": [
        "C = 10 and kernel = 'rbf' are used for training the SVM model"
      ],
      "metadata": {
        "id": "ak1nBuBzYbsQ"
      }
    },
    {
      "cell_type": "markdown",
      "source": [
        "## Train, Evaluation and Prediction"
      ],
      "metadata": {
        "id": "oY2X_-zESy4O"
      }
    },
    {
      "cell_type": "markdown",
      "source": [
        "Train the SVM classifier\n"
      ],
      "metadata": {
        "id": "z8iS7v7D7ZUe"
      }
    },
    {
      "cell_type": "code",
      "source": [
        "classifier = svm.SVC(kernel='rbf',C=10)\n",
        "classifier.fit(train_x_trans, train_y[LBL])"
      ],
      "metadata": {
        "id": "9pAUm4O8z1WS",
        "colab": {
          "base_uri": "https://localhost:8080/",
          "height": 74
        },
        "outputId": "17115421-5df0-415b-e785-dd66cad1231f"
      },
      "execution_count": null,
      "outputs": [
        {
          "output_type": "execute_result",
          "data": {
            "text/plain": [
              "SVC(C=10)"
            ],
            "text/html": [
              "<style>#sk-container-id-6 {color: black;background-color: white;}#sk-container-id-6 pre{padding: 0;}#sk-container-id-6 div.sk-toggleable {background-color: white;}#sk-container-id-6 label.sk-toggleable__label {cursor: pointer;display: block;width: 100%;margin-bottom: 0;padding: 0.3em;box-sizing: border-box;text-align: center;}#sk-container-id-6 label.sk-toggleable__label-arrow:before {content: \"▸\";float: left;margin-right: 0.25em;color: #696969;}#sk-container-id-6 label.sk-toggleable__label-arrow:hover:before {color: black;}#sk-container-id-6 div.sk-estimator:hover label.sk-toggleable__label-arrow:before {color: black;}#sk-container-id-6 div.sk-toggleable__content {max-height: 0;max-width: 0;overflow: hidden;text-align: left;background-color: #f0f8ff;}#sk-container-id-6 div.sk-toggleable__content pre {margin: 0.2em;color: black;border-radius: 0.25em;background-color: #f0f8ff;}#sk-container-id-6 input.sk-toggleable__control:checked~div.sk-toggleable__content {max-height: 200px;max-width: 100%;overflow: auto;}#sk-container-id-6 input.sk-toggleable__control:checked~label.sk-toggleable__label-arrow:before {content: \"▾\";}#sk-container-id-6 div.sk-estimator input.sk-toggleable__control:checked~label.sk-toggleable__label {background-color: #d4ebff;}#sk-container-id-6 div.sk-label input.sk-toggleable__control:checked~label.sk-toggleable__label {background-color: #d4ebff;}#sk-container-id-6 input.sk-hidden--visually {border: 0;clip: rect(1px 1px 1px 1px);clip: rect(1px, 1px, 1px, 1px);height: 1px;margin: -1px;overflow: hidden;padding: 0;position: absolute;width: 1px;}#sk-container-id-6 div.sk-estimator {font-family: monospace;background-color: #f0f8ff;border: 1px dotted black;border-radius: 0.25em;box-sizing: border-box;margin-bottom: 0.5em;}#sk-container-id-6 div.sk-estimator:hover {background-color: #d4ebff;}#sk-container-id-6 div.sk-parallel-item::after {content: \"\";width: 100%;border-bottom: 1px solid gray;flex-grow: 1;}#sk-container-id-6 div.sk-label:hover label.sk-toggleable__label {background-color: #d4ebff;}#sk-container-id-6 div.sk-serial::before {content: \"\";position: absolute;border-left: 1px solid gray;box-sizing: border-box;top: 0;bottom: 0;left: 50%;z-index: 0;}#sk-container-id-6 div.sk-serial {display: flex;flex-direction: column;align-items: center;background-color: white;padding-right: 0.2em;padding-left: 0.2em;position: relative;}#sk-container-id-6 div.sk-item {position: relative;z-index: 1;}#sk-container-id-6 div.sk-parallel {display: flex;align-items: stretch;justify-content: center;background-color: white;position: relative;}#sk-container-id-6 div.sk-item::before, #sk-container-id-6 div.sk-parallel-item::before {content: \"\";position: absolute;border-left: 1px solid gray;box-sizing: border-box;top: 0;bottom: 0;left: 50%;z-index: -1;}#sk-container-id-6 div.sk-parallel-item {display: flex;flex-direction: column;z-index: 1;position: relative;background-color: white;}#sk-container-id-6 div.sk-parallel-item:first-child::after {align-self: flex-end;width: 50%;}#sk-container-id-6 div.sk-parallel-item:last-child::after {align-self: flex-start;width: 50%;}#sk-container-id-6 div.sk-parallel-item:only-child::after {width: 0;}#sk-container-id-6 div.sk-dashed-wrapped {border: 1px dashed gray;margin: 0 0.4em 0.5em 0.4em;box-sizing: border-box;padding-bottom: 0.4em;background-color: white;}#sk-container-id-6 div.sk-label label {font-family: monospace;font-weight: bold;display: inline-block;line-height: 1.2em;}#sk-container-id-6 div.sk-label-container {text-align: center;}#sk-container-id-6 div.sk-container {/* jupyter's `normalize.less` sets `[hidden] { display: none; }` but bootstrap.min.css set `[hidden] { display: none !important; }` so we also need the `!important` here to be able to override the default hidden behavior on the sphinx rendered scikit-learn.org. See: https://github.com/scikit-learn/scikit-learn/issues/21755 */display: inline-block !important;position: relative;}#sk-container-id-6 div.sk-text-repr-fallback {display: none;}</style><div id=\"sk-container-id-6\" class=\"sk-top-container\"><div class=\"sk-text-repr-fallback\"><pre>SVC(C=10)</pre><b>In a Jupyter environment, please rerun this cell to show the HTML representation or trust the notebook. <br />On GitHub, the HTML representation is unable to render, please try loading this page with nbviewer.org.</b></div><div class=\"sk-container\" hidden><div class=\"sk-item\"><div class=\"sk-estimator sk-toggleable\"><input class=\"sk-toggleable__control sk-hidden--visually\" id=\"sk-estimator-id-6\" type=\"checkbox\" checked><label for=\"sk-estimator-id-6\" class=\"sk-toggleable__label sk-toggleable__label-arrow\">SVC</label><div class=\"sk-toggleable__content\"><pre>SVC(C=10)</pre></div></div></div></div></div>"
            ]
          },
          "metadata": {},
          "execution_count": 24
        }
      ]
    },
    {
      "cell_type": "markdown",
      "source": [
        "Prediction and evaluation for valid set."
      ],
      "metadata": {
        "id": "Z9ldGEsOYtQZ"
      }
    },
    {
      "cell_type": "code",
      "source": [
        "y_predict_valid = classifier.predict(valid_x_trans)\n",
        "print(classification_report(valid_y[LBL], y_predict_valid))"
      ],
      "metadata": {
        "id": "LvsIOLu9ig26",
        "colab": {
          "base_uri": "https://localhost:8080/"
        },
        "outputId": "56ff8d25-626f-40f6-ec4a-c1b6096d744d"
      },
      "execution_count": null,
      "outputs": [
        {
          "output_type": "stream",
          "name": "stdout",
          "text": [
            "              precision    recall  f1-score   support\n",
            "\n",
            "           1       0.93      1.00      0.96        13\n",
            "           2       1.00      0.89      0.94         9\n",
            "           3       0.86      1.00      0.92        12\n",
            "           4       0.93      0.88      0.90        16\n",
            "           5       0.94      0.83      0.88        18\n",
            "           6       1.00      0.89      0.94         9\n",
            "           7       0.89      0.94      0.91        17\n",
            "           8       0.92      0.86      0.89        14\n",
            "           9       1.00      0.91      0.95        11\n",
            "          10       1.00      1.00      1.00         8\n",
            "          11       1.00      1.00      1.00        19\n",
            "          12       1.00      1.00      1.00         7\n",
            "          13       0.91      0.91      0.91        11\n",
            "          14       1.00      0.93      0.97        15\n",
            "          15       0.94      0.88      0.91        17\n",
            "          16       1.00      1.00      1.00        14\n",
            "          17       1.00      0.93      0.96        14\n",
            "          18       1.00      0.95      0.97        19\n",
            "          19       0.78      0.93      0.85        15\n",
            "          20       1.00      0.82      0.90        11\n",
            "          21       0.93      1.00      0.97        14\n",
            "          22       1.00      0.91      0.95        11\n",
            "          23       0.83      1.00      0.91        10\n",
            "          24       0.86      1.00      0.92        12\n",
            "          25       1.00      0.91      0.95        11\n",
            "          26       1.00      1.00      1.00         7\n",
            "          27       1.00      0.94      0.97        16\n",
            "          28       1.00      1.00      1.00        11\n",
            "          29       1.00      0.93      0.97        15\n",
            "          30       0.70      0.88      0.78         8\n",
            "          31       0.86      1.00      0.92        12\n",
            "          32       1.00      1.00      1.00         9\n",
            "          33       0.75      1.00      0.86         6\n",
            "          34       1.00      0.85      0.92        13\n",
            "          35       1.00      1.00      1.00         8\n",
            "          36       1.00      1.00      1.00        18\n",
            "          37       1.00      0.81      0.90        16\n",
            "          38       1.00      0.91      0.95        11\n",
            "          39       0.86      0.92      0.89        13\n",
            "          40       0.92      0.92      0.92        12\n",
            "          41       0.83      1.00      0.91        10\n",
            "          42       0.86      1.00      0.92        12\n",
            "          43       1.00      1.00      1.00        12\n",
            "          44       1.00      0.95      0.97        19\n",
            "          45       0.93      0.93      0.93        14\n",
            "          46       1.00      1.00      1.00        11\n",
            "          47       1.00      1.00      1.00         8\n",
            "          48       1.00      0.94      0.97        17\n",
            "          49       0.93      1.00      0.96        13\n",
            "          50       1.00      1.00      1.00        13\n",
            "          51       0.80      1.00      0.89         8\n",
            "          52       0.92      1.00      0.96        11\n",
            "          53       1.00      1.00      1.00        15\n",
            "          54       1.00      1.00      1.00         9\n",
            "          55       1.00      1.00      1.00         8\n",
            "          56       1.00      0.90      0.95        10\n",
            "          57       1.00      1.00      1.00        18\n",
            "          58       1.00      1.00      1.00        20\n",
            "          59       1.00      1.00      1.00        10\n",
            "          60       1.00      0.90      0.95        10\n",
            "\n",
            "    accuracy                           0.95       750\n",
            "   macro avg       0.95      0.95      0.95       750\n",
            "weighted avg       0.95      0.95      0.95       750\n",
            "\n"
          ]
        }
      ]
    },
    {
      "cell_type": "markdown",
      "source": [
        "Prediction for test dataset"
      ],
      "metadata": {
        "id": "nfmac3ooISPJ"
      }
    },
    {
      "cell_type": "code",
      "source": [
        "test_y[LBL] = classifier.predict(test_x_trans)"
      ],
      "metadata": {
        "id": "kIf-ZcvwISPS"
      },
      "execution_count": null,
      "outputs": []
    },
    {
      "cell_type": "markdown",
      "source": [
        "# For Label 2"
      ],
      "metadata": {
        "id": "oxyTyTQav85h"
      }
    },
    {
      "cell_type": "code",
      "source": [
        "LBL = 'label_2'"
      ],
      "metadata": {
        "id": "-fO_Wrphv_hv"
      },
      "execution_count": null,
      "outputs": []
    },
    {
      "cell_type": "markdown",
      "source": [
        "## Applying Feature Engineering techniques"
      ],
      "metadata": {
        "id": "i7q3Bj5z64IJ"
      }
    },
    {
      "cell_type": "markdown",
      "source": [
        "### Using Principal Component Analysis(PCA)\n",
        "\n"
      ],
      "metadata": {
        "id": "qzM31JWJfUQe"
      }
    },
    {
      "cell_type": "markdown",
      "source": [
        "Apply PCA on original features"
      ],
      "metadata": {
        "id": "Li6zKtCnfowQ"
      }
    },
    {
      "cell_type": "code",
      "source": [
        "pca = PCA(n_components=0.99, svd_solver='full')\n",
        "pca.fit(train_x[LBL])"
      ],
      "metadata": {
        "id": "ZtB5-Yl4v85p",
        "colab": {
          "base_uri": "https://localhost:8080/",
          "height": 74
        },
        "outputId": "dc9d0c07-f5d8-4399-a1ef-50f40d96e3fe"
      },
      "execution_count": null,
      "outputs": [
        {
          "output_type": "execute_result",
          "data": {
            "text/plain": [
              "PCA(n_components=0.99, svd_solver='full')"
            ],
            "text/html": [
              "<style>#sk-container-id-9 {color: black;background-color: white;}#sk-container-id-9 pre{padding: 0;}#sk-container-id-9 div.sk-toggleable {background-color: white;}#sk-container-id-9 label.sk-toggleable__label {cursor: pointer;display: block;width: 100%;margin-bottom: 0;padding: 0.3em;box-sizing: border-box;text-align: center;}#sk-container-id-9 label.sk-toggleable__label-arrow:before {content: \"▸\";float: left;margin-right: 0.25em;color: #696969;}#sk-container-id-9 label.sk-toggleable__label-arrow:hover:before {color: black;}#sk-container-id-9 div.sk-estimator:hover label.sk-toggleable__label-arrow:before {color: black;}#sk-container-id-9 div.sk-toggleable__content {max-height: 0;max-width: 0;overflow: hidden;text-align: left;background-color: #f0f8ff;}#sk-container-id-9 div.sk-toggleable__content pre {margin: 0.2em;color: black;border-radius: 0.25em;background-color: #f0f8ff;}#sk-container-id-9 input.sk-toggleable__control:checked~div.sk-toggleable__content {max-height: 200px;max-width: 100%;overflow: auto;}#sk-container-id-9 input.sk-toggleable__control:checked~label.sk-toggleable__label-arrow:before {content: \"▾\";}#sk-container-id-9 div.sk-estimator input.sk-toggleable__control:checked~label.sk-toggleable__label {background-color: #d4ebff;}#sk-container-id-9 div.sk-label input.sk-toggleable__control:checked~label.sk-toggleable__label {background-color: #d4ebff;}#sk-container-id-9 input.sk-hidden--visually {border: 0;clip: rect(1px 1px 1px 1px);clip: rect(1px, 1px, 1px, 1px);height: 1px;margin: -1px;overflow: hidden;padding: 0;position: absolute;width: 1px;}#sk-container-id-9 div.sk-estimator {font-family: monospace;background-color: #f0f8ff;border: 1px dotted black;border-radius: 0.25em;box-sizing: border-box;margin-bottom: 0.5em;}#sk-container-id-9 div.sk-estimator:hover {background-color: #d4ebff;}#sk-container-id-9 div.sk-parallel-item::after {content: \"\";width: 100%;border-bottom: 1px solid gray;flex-grow: 1;}#sk-container-id-9 div.sk-label:hover label.sk-toggleable__label {background-color: #d4ebff;}#sk-container-id-9 div.sk-serial::before {content: \"\";position: absolute;border-left: 1px solid gray;box-sizing: border-box;top: 0;bottom: 0;left: 50%;z-index: 0;}#sk-container-id-9 div.sk-serial {display: flex;flex-direction: column;align-items: center;background-color: white;padding-right: 0.2em;padding-left: 0.2em;position: relative;}#sk-container-id-9 div.sk-item {position: relative;z-index: 1;}#sk-container-id-9 div.sk-parallel {display: flex;align-items: stretch;justify-content: center;background-color: white;position: relative;}#sk-container-id-9 div.sk-item::before, #sk-container-id-9 div.sk-parallel-item::before {content: \"\";position: absolute;border-left: 1px solid gray;box-sizing: border-box;top: 0;bottom: 0;left: 50%;z-index: -1;}#sk-container-id-9 div.sk-parallel-item {display: flex;flex-direction: column;z-index: 1;position: relative;background-color: white;}#sk-container-id-9 div.sk-parallel-item:first-child::after {align-self: flex-end;width: 50%;}#sk-container-id-9 div.sk-parallel-item:last-child::after {align-self: flex-start;width: 50%;}#sk-container-id-9 div.sk-parallel-item:only-child::after {width: 0;}#sk-container-id-9 div.sk-dashed-wrapped {border: 1px dashed gray;margin: 0 0.4em 0.5em 0.4em;box-sizing: border-box;padding-bottom: 0.4em;background-color: white;}#sk-container-id-9 div.sk-label label {font-family: monospace;font-weight: bold;display: inline-block;line-height: 1.2em;}#sk-container-id-9 div.sk-label-container {text-align: center;}#sk-container-id-9 div.sk-container {/* jupyter's `normalize.less` sets `[hidden] { display: none; }` but bootstrap.min.css set `[hidden] { display: none !important; }` so we also need the `!important` here to be able to override the default hidden behavior on the sphinx rendered scikit-learn.org. See: https://github.com/scikit-learn/scikit-learn/issues/21755 */display: inline-block !important;position: relative;}#sk-container-id-9 div.sk-text-repr-fallback {display: none;}</style><div id=\"sk-container-id-9\" class=\"sk-top-container\"><div class=\"sk-text-repr-fallback\"><pre>PCA(n_components=0.99, svd_solver=&#x27;full&#x27;)</pre><b>In a Jupyter environment, please rerun this cell to show the HTML representation or trust the notebook. <br />On GitHub, the HTML representation is unable to render, please try loading this page with nbviewer.org.</b></div><div class=\"sk-container\" hidden><div class=\"sk-item\"><div class=\"sk-estimator sk-toggleable\"><input class=\"sk-toggleable__control sk-hidden--visually\" id=\"sk-estimator-id-9\" type=\"checkbox\" checked><label for=\"sk-estimator-id-9\" class=\"sk-toggleable__label sk-toggleable__label-arrow\">PCA</label><div class=\"sk-toggleable__content\"><pre>PCA(n_components=0.99, svd_solver=&#x27;full&#x27;)</pre></div></div></div></div></div>"
            ]
          },
          "metadata": {},
          "execution_count": 38
        }
      ]
    },
    {
      "cell_type": "code",
      "source": [
        "train_x_trans = pd.DataFrame(pca.transform(train_x[LBL]))\n",
        "valid_x_trans = pd.DataFrame(pca.transform(valid_x[LBL]))\n",
        "test_x_trans = pd.DataFrame(pca.transform(test_x[LBL]))\n",
        "\n",
        "print(\"Shape after feature reduction:\", train_x_trans.shape)\n",
        "print(\"Shape after feature reduction:\", valid_x_trans.shape)\n",
        "print(\"Shape after feature reduction:\", test_x_trans.shape)"
      ],
      "metadata": {
        "id": "0sdiQRhfv85q",
        "colab": {
          "base_uri": "https://localhost:8080/"
        },
        "outputId": "d5b61f77-fe83-475a-c5a1-17ad8fca6e21"
      },
      "execution_count": null,
      "outputs": [
        {
          "output_type": "stream",
          "name": "stdout",
          "text": [
            "Shape after feature reduction: (28040, 385)\n",
            "Shape after feature reduction: (270, 385)\n",
            "Shape after feature reduction: (744, 385)\n"
          ]
        }
      ]
    },
    {
      "cell_type": "markdown",
      "source": [
        "## Model Selection"
      ],
      "metadata": {
        "id": "Qq84Yzmvv85q"
      }
    },
    {
      "cell_type": "markdown",
      "source": [
        "### Cross Validation"
      ],
      "metadata": {
        "id": "kjV1T_eJv85q"
      }
    },
    {
      "cell_type": "markdown",
      "source": [
        "For SVM classifier"
      ],
      "metadata": {
        "id": "ZRMiudvmv85q"
      }
    },
    {
      "cell_type": "code",
      "source": [
        "svm_classifier = SVC(kernel='rbf')\n",
        "\n",
        "# Define the number of splits for k-fold cross-validation\n",
        "k_folds = 10\n",
        "kf = KFold(n_splits=k_folds, shuffle=True, random_state=42)\n",
        "\n",
        "# Perform k-fold cross-validation\n",
        "cv_scores = cross_val_score(svm_classifier, train_x_trans, train_y[LBL], cv=kf)\n",
        "\n",
        "# Print the cross-validation scores\n",
        "print(f\"Cross-validation scores: {cv_scores}\")\n",
        "print(f\"Mean accuracy: {np.mean(cv_scores)}\")\n"
      ],
      "metadata": {
        "id": "D7VGrdWTv85q",
        "colab": {
          "base_uri": "https://localhost:8080/"
        },
        "outputId": "05cf111c-296e-4527-e6a1-521489416e74"
      },
      "execution_count": null,
      "outputs": [
        {
          "output_type": "stream",
          "name": "stdout",
          "text": [
            "Cross-validation scores: [0.82667618 0.80563481 0.80563481 0.82275321 0.81134094 0.81669044\n",
            " 0.79957204 0.79671897 0.81811698 0.81241084]\n",
            "Mean accuracy: 0.8115549215406563\n"
          ]
        }
      ]
    },
    {
      "cell_type": "markdown",
      "source": [
        "For kNN classifier"
      ],
      "metadata": {
        "id": "lFiFgatvv85q"
      }
    },
    {
      "cell_type": "code",
      "source": [
        "knn_classifier = KNeighborsClassifier(n_neighbors=10)\n",
        "\n",
        "# Perform k-fold cross-validation\n",
        "cv_scores = cross_val_score(knn_classifier, train_x_trans, train_y[LBL], cv=kf)\n",
        "\n",
        "# Print the cross-validation scores\n",
        "print(f\"Cross-validation scores: {cv_scores}\")\n",
        "print(f\"Mean accuracy: {np.mean(cv_scores)}\")"
      ],
      "metadata": {
        "id": "UxOq1GGnv85q",
        "colab": {
          "base_uri": "https://localhost:8080/"
        },
        "outputId": "0b15c038-becb-4cd3-ebba-66d42cd54a77"
      },
      "execution_count": null,
      "outputs": [
        {
          "output_type": "stream",
          "name": "stdout",
          "text": [
            "Cross-validation scores: [0.80527817 0.80099857 0.79315264 0.80563481 0.79350927 0.79992867\n",
            " 0.7853067  0.79136947 0.79386591 0.80278174]\n",
            "Mean accuracy: 0.7971825962910128\n"
          ]
        }
      ]
    },
    {
      "cell_type": "markdown",
      "source": [
        "For kNN Regressor"
      ],
      "metadata": {
        "id": "P2KpT8wxe7q1"
      }
    },
    {
      "cell_type": "code",
      "source": [
        "knn_Regressor = KNeighborsRegressor(n_neighbors=10)\n",
        "\n",
        "# Perform k-fold cross-validation\n",
        "cv_scores = cross_val_score(knn_Regressor, train_x_trans, train_y[LBL], cv=kf)\n",
        "\n",
        "# Print the cross-validation scores\n",
        "print(f\"Cross-validation scores: {cv_scores}\")\n",
        "print(f\"Mean accuracy: {np.mean(cv_scores)}\")"
      ],
      "metadata": {
        "id": "5mrpmZEie-jM",
        "colab": {
          "base_uri": "https://localhost:8080/"
        },
        "outputId": "9ad26ff7-5349-45d9-b8d5-878183dc4548"
      },
      "execution_count": null,
      "outputs": [
        {
          "output_type": "stream",
          "name": "stdout",
          "text": [
            "Cross-validation scores: [0.76794367 0.76566956 0.6868348  0.73104268 0.79017328 0.74575592\n",
            " 0.75141086 0.72771798 0.73703345 0.7025901 ]\n",
            "Mean accuracy: 0.740617230505225\n"
          ]
        }
      ]
    },
    {
      "cell_type": "markdown",
      "source": [
        "For Random Forest classifier"
      ],
      "metadata": {
        "id": "h6NsuStViPPH"
      }
    },
    {
      "cell_type": "code",
      "source": [
        "random_forest_classifier = RandomForestClassifier(n_estimators=100, random_state=42)\n",
        "k_folds = 10\n",
        "kf = KFold(n_splits=k_folds, shuffle=True, random_state=42)\n",
        "# Perform k-fold cross-validation\n",
        "cv_scores = cross_val_score(random_forest_classifier, train_x_trans, train_y[LBL], cv=kf)\n",
        "\n",
        "# Print the cross-validation scores\n",
        "print(f\"Cross-validation scores: {cv_scores}\")\n",
        "print(f\"Mean accuracy: {np.mean(cv_scores)}\")"
      ],
      "metadata": {
        "id": "PxjH4v-1iRl0",
        "colab": {
          "base_uri": "https://localhost:8080/"
        },
        "outputId": "ccb90bc0-f89c-4f83-fdd2-6371a772c282"
      },
      "execution_count": null,
      "outputs": [
        {
          "output_type": "stream",
          "name": "stdout",
          "text": [
            "Cross-validation scores: [0.59522111 0.58059914 0.60877318 0.60805991 0.60128388 0.60271041\n",
            " 0.57774608 0.59058488 0.58987161 0.58059914]\n",
            "Mean accuracy: 0.5935449358059914\n"
          ]
        }
      ]
    },
    {
      "cell_type": "markdown",
      "source": [
        "Since SVM has the highest mean accuracy, SVM classifier is selected as the classification model"
      ],
      "metadata": {
        "id": "Tk4F9UkVv85r"
      }
    },
    {
      "cell_type": "markdown",
      "source": [
        "## Hyperparameter tuning"
      ],
      "metadata": {
        "id": "uKrqp-B-v85r"
      }
    },
    {
      "cell_type": "markdown",
      "source": [
        "### Using Grid search"
      ],
      "metadata": {
        "id": "dclJyDdNv85r"
      }
    },
    {
      "cell_type": "code",
      "source": [
        "# Define the parameter grid for grid search\n",
        "param_grid = {\n",
        "    'C': [100,1000,10000],\n",
        "    'kernel': ['rbf','linear']\n",
        "}\n",
        "\n",
        "# Create the SVM model\n",
        "svm_model = SVC()\n",
        "\n",
        "# Create Grid Search object\n",
        "grid_search = GridSearchCV(svm_model, param_grid, cv=3, scoring='accuracy')\n",
        "\n",
        "# Fit the model\n",
        "grid_search.fit(train_x_trans, train_y[LBL])\n",
        "\n",
        "# Get the best parameters\n",
        "best_params = grid_search.best_params_\n",
        "print(\"Best Parameters:\", best_params)"
      ],
      "metadata": {
        "id": "2hRJEWUuv85r"
      },
      "execution_count": null,
      "outputs": []
    },
    {
      "cell_type": "markdown",
      "source": [
        "C = 1000 and kernel = 'rbf' are used for training the SVM model"
      ],
      "metadata": {
        "id": "ZaUA0Bw6ap2w"
      }
    },
    {
      "cell_type": "markdown",
      "source": [
        "## Train, Evaluation and Prediction"
      ],
      "metadata": {
        "id": "hP0f-Dpuv85r"
      }
    },
    {
      "cell_type": "markdown",
      "source": [
        "Train the SVC classifier\n"
      ],
      "metadata": {
        "id": "OVHzPEp1v85r"
      }
    },
    {
      "cell_type": "code",
      "source": [
        "train_x_trans = train_x[LBL]\n",
        "valid_x_trans = valid_x[LBL]\n",
        "test_x_trans = test_x[LBL]"
      ],
      "metadata": {
        "id": "dvq9G1pFlrbL"
      },
      "execution_count": null,
      "outputs": []
    },
    {
      "cell_type": "code",
      "source": [
        "classifier = svm.SVC(kernel='rbf',C =1000)\n",
        "classifier.fit(train_x_trans, train_y[LBL])"
      ],
      "metadata": {
        "id": "r_jYqQ8Yv85r",
        "colab": {
          "base_uri": "https://localhost:8080/",
          "height": 74
        },
        "outputId": "6bc7f99e-2679-40c8-d7c5-637b3f44cd17"
      },
      "execution_count": null,
      "outputs": [
        {
          "output_type": "execute_result",
          "data": {
            "text/plain": [
              "SVC(C=1000)"
            ],
            "text/html": [
              "<style>#sk-container-id-11 {color: black;background-color: white;}#sk-container-id-11 pre{padding: 0;}#sk-container-id-11 div.sk-toggleable {background-color: white;}#sk-container-id-11 label.sk-toggleable__label {cursor: pointer;display: block;width: 100%;margin-bottom: 0;padding: 0.3em;box-sizing: border-box;text-align: center;}#sk-container-id-11 label.sk-toggleable__label-arrow:before {content: \"▸\";float: left;margin-right: 0.25em;color: #696969;}#sk-container-id-11 label.sk-toggleable__label-arrow:hover:before {color: black;}#sk-container-id-11 div.sk-estimator:hover label.sk-toggleable__label-arrow:before {color: black;}#sk-container-id-11 div.sk-toggleable__content {max-height: 0;max-width: 0;overflow: hidden;text-align: left;background-color: #f0f8ff;}#sk-container-id-11 div.sk-toggleable__content pre {margin: 0.2em;color: black;border-radius: 0.25em;background-color: #f0f8ff;}#sk-container-id-11 input.sk-toggleable__control:checked~div.sk-toggleable__content {max-height: 200px;max-width: 100%;overflow: auto;}#sk-container-id-11 input.sk-toggleable__control:checked~label.sk-toggleable__label-arrow:before {content: \"▾\";}#sk-container-id-11 div.sk-estimator input.sk-toggleable__control:checked~label.sk-toggleable__label {background-color: #d4ebff;}#sk-container-id-11 div.sk-label input.sk-toggleable__control:checked~label.sk-toggleable__label {background-color: #d4ebff;}#sk-container-id-11 input.sk-hidden--visually {border: 0;clip: rect(1px 1px 1px 1px);clip: rect(1px, 1px, 1px, 1px);height: 1px;margin: -1px;overflow: hidden;padding: 0;position: absolute;width: 1px;}#sk-container-id-11 div.sk-estimator {font-family: monospace;background-color: #f0f8ff;border: 1px dotted black;border-radius: 0.25em;box-sizing: border-box;margin-bottom: 0.5em;}#sk-container-id-11 div.sk-estimator:hover {background-color: #d4ebff;}#sk-container-id-11 div.sk-parallel-item::after {content: \"\";width: 100%;border-bottom: 1px solid gray;flex-grow: 1;}#sk-container-id-11 div.sk-label:hover label.sk-toggleable__label {background-color: #d4ebff;}#sk-container-id-11 div.sk-serial::before {content: \"\";position: absolute;border-left: 1px solid gray;box-sizing: border-box;top: 0;bottom: 0;left: 50%;z-index: 0;}#sk-container-id-11 div.sk-serial {display: flex;flex-direction: column;align-items: center;background-color: white;padding-right: 0.2em;padding-left: 0.2em;position: relative;}#sk-container-id-11 div.sk-item {position: relative;z-index: 1;}#sk-container-id-11 div.sk-parallel {display: flex;align-items: stretch;justify-content: center;background-color: white;position: relative;}#sk-container-id-11 div.sk-item::before, #sk-container-id-11 div.sk-parallel-item::before {content: \"\";position: absolute;border-left: 1px solid gray;box-sizing: border-box;top: 0;bottom: 0;left: 50%;z-index: -1;}#sk-container-id-11 div.sk-parallel-item {display: flex;flex-direction: column;z-index: 1;position: relative;background-color: white;}#sk-container-id-11 div.sk-parallel-item:first-child::after {align-self: flex-end;width: 50%;}#sk-container-id-11 div.sk-parallel-item:last-child::after {align-self: flex-start;width: 50%;}#sk-container-id-11 div.sk-parallel-item:only-child::after {width: 0;}#sk-container-id-11 div.sk-dashed-wrapped {border: 1px dashed gray;margin: 0 0.4em 0.5em 0.4em;box-sizing: border-box;padding-bottom: 0.4em;background-color: white;}#sk-container-id-11 div.sk-label label {font-family: monospace;font-weight: bold;display: inline-block;line-height: 1.2em;}#sk-container-id-11 div.sk-label-container {text-align: center;}#sk-container-id-11 div.sk-container {/* jupyter's `normalize.less` sets `[hidden] { display: none; }` but bootstrap.min.css set `[hidden] { display: none !important; }` so we also need the `!important` here to be able to override the default hidden behavior on the sphinx rendered scikit-learn.org. See: https://github.com/scikit-learn/scikit-learn/issues/21755 */display: inline-block !important;position: relative;}#sk-container-id-11 div.sk-text-repr-fallback {display: none;}</style><div id=\"sk-container-id-11\" class=\"sk-top-container\"><div class=\"sk-text-repr-fallback\"><pre>SVC(C=1000)</pre><b>In a Jupyter environment, please rerun this cell to show the HTML representation or trust the notebook. <br />On GitHub, the HTML representation is unable to render, please try loading this page with nbviewer.org.</b></div><div class=\"sk-container\" hidden><div class=\"sk-item\"><div class=\"sk-estimator sk-toggleable\"><input class=\"sk-toggleable__control sk-hidden--visually\" id=\"sk-estimator-id-11\" type=\"checkbox\" checked><label for=\"sk-estimator-id-11\" class=\"sk-toggleable__label sk-toggleable__label-arrow\">SVC</label><div class=\"sk-toggleable__content\"><pre>SVC(C=1000)</pre></div></div></div></div></div>"
            ]
          },
          "metadata": {},
          "execution_count": 41
        }
      ]
    },
    {
      "cell_type": "code",
      "source": [
        "classifier = svm.SVC(kernel='rbf',C =10)\n",
        "classifier.fit(train_x_trans, train_y[LBL])"
      ],
      "metadata": {
        "colab": {
          "base_uri": "https://localhost:8080/",
          "height": 74
        },
        "id": "BBXcf_iMmH0o",
        "outputId": "c840c061-8dbf-4a44-e6dc-e09f619e63ed"
      },
      "execution_count": null,
      "outputs": [
        {
          "output_type": "execute_result",
          "data": {
            "text/plain": [
              "SVC(C=10)"
            ],
            "text/html": [
              "<style>#sk-container-id-13 {color: black;background-color: white;}#sk-container-id-13 pre{padding: 0;}#sk-container-id-13 div.sk-toggleable {background-color: white;}#sk-container-id-13 label.sk-toggleable__label {cursor: pointer;display: block;width: 100%;margin-bottom: 0;padding: 0.3em;box-sizing: border-box;text-align: center;}#sk-container-id-13 label.sk-toggleable__label-arrow:before {content: \"▸\";float: left;margin-right: 0.25em;color: #696969;}#sk-container-id-13 label.sk-toggleable__label-arrow:hover:before {color: black;}#sk-container-id-13 div.sk-estimator:hover label.sk-toggleable__label-arrow:before {color: black;}#sk-container-id-13 div.sk-toggleable__content {max-height: 0;max-width: 0;overflow: hidden;text-align: left;background-color: #f0f8ff;}#sk-container-id-13 div.sk-toggleable__content pre {margin: 0.2em;color: black;border-radius: 0.25em;background-color: #f0f8ff;}#sk-container-id-13 input.sk-toggleable__control:checked~div.sk-toggleable__content {max-height: 200px;max-width: 100%;overflow: auto;}#sk-container-id-13 input.sk-toggleable__control:checked~label.sk-toggleable__label-arrow:before {content: \"▾\";}#sk-container-id-13 div.sk-estimator input.sk-toggleable__control:checked~label.sk-toggleable__label {background-color: #d4ebff;}#sk-container-id-13 div.sk-label input.sk-toggleable__control:checked~label.sk-toggleable__label {background-color: #d4ebff;}#sk-container-id-13 input.sk-hidden--visually {border: 0;clip: rect(1px 1px 1px 1px);clip: rect(1px, 1px, 1px, 1px);height: 1px;margin: -1px;overflow: hidden;padding: 0;position: absolute;width: 1px;}#sk-container-id-13 div.sk-estimator {font-family: monospace;background-color: #f0f8ff;border: 1px dotted black;border-radius: 0.25em;box-sizing: border-box;margin-bottom: 0.5em;}#sk-container-id-13 div.sk-estimator:hover {background-color: #d4ebff;}#sk-container-id-13 div.sk-parallel-item::after {content: \"\";width: 100%;border-bottom: 1px solid gray;flex-grow: 1;}#sk-container-id-13 div.sk-label:hover label.sk-toggleable__label {background-color: #d4ebff;}#sk-container-id-13 div.sk-serial::before {content: \"\";position: absolute;border-left: 1px solid gray;box-sizing: border-box;top: 0;bottom: 0;left: 50%;z-index: 0;}#sk-container-id-13 div.sk-serial {display: flex;flex-direction: column;align-items: center;background-color: white;padding-right: 0.2em;padding-left: 0.2em;position: relative;}#sk-container-id-13 div.sk-item {position: relative;z-index: 1;}#sk-container-id-13 div.sk-parallel {display: flex;align-items: stretch;justify-content: center;background-color: white;position: relative;}#sk-container-id-13 div.sk-item::before, #sk-container-id-13 div.sk-parallel-item::before {content: \"\";position: absolute;border-left: 1px solid gray;box-sizing: border-box;top: 0;bottom: 0;left: 50%;z-index: -1;}#sk-container-id-13 div.sk-parallel-item {display: flex;flex-direction: column;z-index: 1;position: relative;background-color: white;}#sk-container-id-13 div.sk-parallel-item:first-child::after {align-self: flex-end;width: 50%;}#sk-container-id-13 div.sk-parallel-item:last-child::after {align-self: flex-start;width: 50%;}#sk-container-id-13 div.sk-parallel-item:only-child::after {width: 0;}#sk-container-id-13 div.sk-dashed-wrapped {border: 1px dashed gray;margin: 0 0.4em 0.5em 0.4em;box-sizing: border-box;padding-bottom: 0.4em;background-color: white;}#sk-container-id-13 div.sk-label label {font-family: monospace;font-weight: bold;display: inline-block;line-height: 1.2em;}#sk-container-id-13 div.sk-label-container {text-align: center;}#sk-container-id-13 div.sk-container {/* jupyter's `normalize.less` sets `[hidden] { display: none; }` but bootstrap.min.css set `[hidden] { display: none !important; }` so we also need the `!important` here to be able to override the default hidden behavior on the sphinx rendered scikit-learn.org. See: https://github.com/scikit-learn/scikit-learn/issues/21755 */display: inline-block !important;position: relative;}#sk-container-id-13 div.sk-text-repr-fallback {display: none;}</style><div id=\"sk-container-id-13\" class=\"sk-top-container\"><div class=\"sk-text-repr-fallback\"><pre>SVC(C=10)</pre><b>In a Jupyter environment, please rerun this cell to show the HTML representation or trust the notebook. <br />On GitHub, the HTML representation is unable to render, please try loading this page with nbviewer.org.</b></div><div class=\"sk-container\" hidden><div class=\"sk-item\"><div class=\"sk-estimator sk-toggleable\"><input class=\"sk-toggleable__control sk-hidden--visually\" id=\"sk-estimator-id-13\" type=\"checkbox\" checked><label for=\"sk-estimator-id-13\" class=\"sk-toggleable__label sk-toggleable__label-arrow\">SVC</label><div class=\"sk-toggleable__content\"><pre>SVC(C=10)</pre></div></div></div></div></div>"
            ]
          },
          "metadata": {},
          "execution_count": 53
        }
      ]
    },
    {
      "cell_type": "markdown",
      "source": [
        "Prediction and evaluation for valid set."
      ],
      "metadata": {
        "id": "6o9gHftBYyRl"
      }
    },
    {
      "cell_type": "code",
      "source": [
        "y_predict_valid = classifier.predict(valid_x_trans)\n",
        "print(classification_report(valid_y[LBL], y_predict_valid))"
      ],
      "metadata": {
        "id": "pthMHtS0sxPT",
        "colab": {
          "base_uri": "https://localhost:8080/"
        },
        "outputId": "7fb36e10-c541-4ba1-8f75-b61ba3a8d3ab"
      },
      "execution_count": null,
      "outputs": [
        {
          "output_type": "stream",
          "name": "stdout",
          "text": [
            "              precision    recall  f1-score   support\n",
            "\n",
            "        22.0       1.00      0.86      0.92         7\n",
            "        23.0       0.71      0.80      0.75        15\n",
            "        24.0       0.93      1.00      0.96        13\n",
            "        25.0       0.90      0.95      0.92        19\n",
            "        26.0       0.89      0.93      0.91        43\n",
            "        27.0       0.97      0.97      0.97        29\n",
            "        28.0       0.92      0.88      0.90        25\n",
            "        29.0       1.00      1.00      1.00        25\n",
            "        30.0       1.00      0.95      0.97        37\n",
            "        31.0       0.91      0.94      0.92        32\n",
            "        35.0       1.00      0.91      0.95        11\n",
            "        41.0       1.00      0.86      0.92        14\n",
            "\n",
            "    accuracy                           0.93       270\n",
            "   macro avg       0.93      0.92      0.93       270\n",
            "weighted avg       0.93      0.93      0.93       270\n",
            "\n"
          ]
        }
      ]
    },
    {
      "cell_type": "code",
      "source": [
        "y_predict_valid = classifier.predict(valid_x_trans)\n",
        "print(classification_report(valid_y[LBL], y_predict_valid))"
      ],
      "metadata": {
        "colab": {
          "base_uri": "https://localhost:8080/"
        },
        "id": "_KazumCmmOWD",
        "outputId": "640eb117-04b4-4d0d-f2d9-36c86d8f300d"
      },
      "execution_count": null,
      "outputs": [
        {
          "output_type": "stream",
          "name": "stdout",
          "text": [
            "              precision    recall  f1-score   support\n",
            "\n",
            "        22.0       1.00      0.86      0.92         7\n",
            "        23.0       0.62      0.87      0.72        15\n",
            "        24.0       0.87      1.00      0.93        13\n",
            "        25.0       0.94      0.79      0.86        19\n",
            "        26.0       0.89      0.95      0.92        43\n",
            "        27.0       0.93      0.93      0.93        29\n",
            "        28.0       0.96      0.88      0.92        25\n",
            "        29.0       1.00      0.96      0.98        25\n",
            "        30.0       1.00      0.95      0.97        37\n",
            "        31.0       0.88      0.94      0.91        32\n",
            "        35.0       1.00      0.91      0.95        11\n",
            "        41.0       1.00      0.79      0.88        14\n",
            "\n",
            "    accuracy                           0.91       270\n",
            "   macro avg       0.92      0.90      0.91       270\n",
            "weighted avg       0.93      0.91      0.92       270\n",
            "\n"
          ]
        }
      ]
    },
    {
      "cell_type": "markdown",
      "source": [
        "Prediction for test dataset"
      ],
      "metadata": {
        "id": "UxEopbstv85s"
      }
    },
    {
      "cell_type": "code",
      "source": [
        "test_y[LBL] = classifier.predict(test_x_trans)"
      ],
      "metadata": {
        "id": "xtEJN-3Gv85s"
      },
      "execution_count": null,
      "outputs": []
    },
    {
      "cell_type": "code",
      "source": [
        "test_y[LBL] = classifier.predict(test_x_trans)"
      ],
      "metadata": {
        "id": "z0KPGuDsmQ-7"
      },
      "execution_count": null,
      "outputs": []
    },
    {
      "cell_type": "markdown",
      "source": [
        "# For Label 3"
      ],
      "metadata": {
        "id": "BDuIrxjOicq_"
      }
    },
    {
      "cell_type": "code",
      "source": [
        "LBL = 'label_3'"
      ],
      "metadata": {
        "id": "S2urnfQwihtu"
      },
      "execution_count": null,
      "outputs": []
    },
    {
      "cell_type": "markdown",
      "source": [
        "## Applying Feature Engineering techniques"
      ],
      "metadata": {
        "id": "zFiIPUcvicrA"
      }
    },
    {
      "cell_type": "markdown",
      "source": [
        "### Using Principal Component Analysis(PCA)\n",
        "\n"
      ],
      "metadata": {
        "id": "oRy6m4thicrA"
      }
    },
    {
      "cell_type": "markdown",
      "source": [
        "Apply PCA on original features"
      ],
      "metadata": {
        "id": "WUfuMbV8icrB"
      }
    },
    {
      "cell_type": "code",
      "source": [
        "pca = PCA(n_components=0.98, svd_solver='full')\n",
        "pca.fit(train_x[LBL])"
      ],
      "metadata": {
        "id": "ZyeuZ15licrB",
        "colab": {
          "base_uri": "https://localhost:8080/",
          "height": 74
        },
        "outputId": "43547cd7-fb30-4324-ba87-f23811a2e0fb"
      },
      "execution_count": null,
      "outputs": [
        {
          "output_type": "execute_result",
          "data": {
            "text/plain": [
              "PCA(n_components=0.98, svd_solver='full')"
            ],
            "text/html": [
              "<style>#sk-container-id-1 {color: black;background-color: white;}#sk-container-id-1 pre{padding: 0;}#sk-container-id-1 div.sk-toggleable {background-color: white;}#sk-container-id-1 label.sk-toggleable__label {cursor: pointer;display: block;width: 100%;margin-bottom: 0;padding: 0.3em;box-sizing: border-box;text-align: center;}#sk-container-id-1 label.sk-toggleable__label-arrow:before {content: \"▸\";float: left;margin-right: 0.25em;color: #696969;}#sk-container-id-1 label.sk-toggleable__label-arrow:hover:before {color: black;}#sk-container-id-1 div.sk-estimator:hover label.sk-toggleable__label-arrow:before {color: black;}#sk-container-id-1 div.sk-toggleable__content {max-height: 0;max-width: 0;overflow: hidden;text-align: left;background-color: #f0f8ff;}#sk-container-id-1 div.sk-toggleable__content pre {margin: 0.2em;color: black;border-radius: 0.25em;background-color: #f0f8ff;}#sk-container-id-1 input.sk-toggleable__control:checked~div.sk-toggleable__content {max-height: 200px;max-width: 100%;overflow: auto;}#sk-container-id-1 input.sk-toggleable__control:checked~label.sk-toggleable__label-arrow:before {content: \"▾\";}#sk-container-id-1 div.sk-estimator input.sk-toggleable__control:checked~label.sk-toggleable__label {background-color: #d4ebff;}#sk-container-id-1 div.sk-label input.sk-toggleable__control:checked~label.sk-toggleable__label {background-color: #d4ebff;}#sk-container-id-1 input.sk-hidden--visually {border: 0;clip: rect(1px 1px 1px 1px);clip: rect(1px, 1px, 1px, 1px);height: 1px;margin: -1px;overflow: hidden;padding: 0;position: absolute;width: 1px;}#sk-container-id-1 div.sk-estimator {font-family: monospace;background-color: #f0f8ff;border: 1px dotted black;border-radius: 0.25em;box-sizing: border-box;margin-bottom: 0.5em;}#sk-container-id-1 div.sk-estimator:hover {background-color: #d4ebff;}#sk-container-id-1 div.sk-parallel-item::after {content: \"\";width: 100%;border-bottom: 1px solid gray;flex-grow: 1;}#sk-container-id-1 div.sk-label:hover label.sk-toggleable__label {background-color: #d4ebff;}#sk-container-id-1 div.sk-serial::before {content: \"\";position: absolute;border-left: 1px solid gray;box-sizing: border-box;top: 0;bottom: 0;left: 50%;z-index: 0;}#sk-container-id-1 div.sk-serial {display: flex;flex-direction: column;align-items: center;background-color: white;padding-right: 0.2em;padding-left: 0.2em;position: relative;}#sk-container-id-1 div.sk-item {position: relative;z-index: 1;}#sk-container-id-1 div.sk-parallel {display: flex;align-items: stretch;justify-content: center;background-color: white;position: relative;}#sk-container-id-1 div.sk-item::before, #sk-container-id-1 div.sk-parallel-item::before {content: \"\";position: absolute;border-left: 1px solid gray;box-sizing: border-box;top: 0;bottom: 0;left: 50%;z-index: -1;}#sk-container-id-1 div.sk-parallel-item {display: flex;flex-direction: column;z-index: 1;position: relative;background-color: white;}#sk-container-id-1 div.sk-parallel-item:first-child::after {align-self: flex-end;width: 50%;}#sk-container-id-1 div.sk-parallel-item:last-child::after {align-self: flex-start;width: 50%;}#sk-container-id-1 div.sk-parallel-item:only-child::after {width: 0;}#sk-container-id-1 div.sk-dashed-wrapped {border: 1px dashed gray;margin: 0 0.4em 0.5em 0.4em;box-sizing: border-box;padding-bottom: 0.4em;background-color: white;}#sk-container-id-1 div.sk-label label {font-family: monospace;font-weight: bold;display: inline-block;line-height: 1.2em;}#sk-container-id-1 div.sk-label-container {text-align: center;}#sk-container-id-1 div.sk-container {/* jupyter's `normalize.less` sets `[hidden] { display: none; }` but bootstrap.min.css set `[hidden] { display: none !important; }` so we also need the `!important` here to be able to override the default hidden behavior on the sphinx rendered scikit-learn.org. See: https://github.com/scikit-learn/scikit-learn/issues/21755 */display: inline-block !important;position: relative;}#sk-container-id-1 div.sk-text-repr-fallback {display: none;}</style><div id=\"sk-container-id-1\" class=\"sk-top-container\"><div class=\"sk-text-repr-fallback\"><pre>PCA(n_components=0.98, svd_solver=&#x27;full&#x27;)</pre><b>In a Jupyter environment, please rerun this cell to show the HTML representation or trust the notebook. <br />On GitHub, the HTML representation is unable to render, please try loading this page with nbviewer.org.</b></div><div class=\"sk-container\" hidden><div class=\"sk-item\"><div class=\"sk-estimator sk-toggleable\"><input class=\"sk-toggleable__control sk-hidden--visually\" id=\"sk-estimator-id-1\" type=\"checkbox\" checked><label for=\"sk-estimator-id-1\" class=\"sk-toggleable__label sk-toggleable__label-arrow\">PCA</label><div class=\"sk-toggleable__content\"><pre>PCA(n_components=0.98, svd_solver=&#x27;full&#x27;)</pre></div></div></div></div></div>"
            ]
          },
          "metadata": {},
          "execution_count": 8
        }
      ]
    },
    {
      "cell_type": "code",
      "source": [
        "train_x_trans = pd.DataFrame(pca.transform(train_x[LBL]))\n",
        "valid_x_trans = pd.DataFrame(pca.transform(valid_x[LBL]))\n",
        "test_x_trans = pd.DataFrame(pca.transform(test_x[LBL]))\n",
        "\n",
        "print(\"Shape after feature reduction:\", train_x_trans.shape)\n",
        "print(\"Shape after feature reduction:\", valid_x_trans.shape)\n",
        "print(\"Shape after feature reduction:\", test_x_trans.shape)"
      ],
      "metadata": {
        "id": "HnjbZkVuicrC",
        "colab": {
          "base_uri": "https://localhost:8080/"
        },
        "outputId": "2bc8961c-53ca-4fe6-9e79-12fcad0daf8d"
      },
      "execution_count": null,
      "outputs": [
        {
          "output_type": "stream",
          "name": "stdout",
          "text": [
            "Shape after feature reduction: (28520, 282)\n",
            "Shape after feature reduction: (750, 282)\n",
            "Shape after feature reduction: (744, 282)\n"
          ]
        }
      ]
    },
    {
      "cell_type": "markdown",
      "source": [
        "## Model Selection"
      ],
      "metadata": {
        "id": "13PmEHsHicrC"
      }
    },
    {
      "cell_type": "markdown",
      "source": [
        "### Cross Validation"
      ],
      "metadata": {
        "id": "WCLG_MGLicrC"
      }
    },
    {
      "cell_type": "markdown",
      "source": [
        "For SVM classifier"
      ],
      "metadata": {
        "id": "RHLIPKB3icrD"
      }
    },
    {
      "cell_type": "code",
      "source": [
        "svm_classifier = SVC(kernel='rbf')\n",
        "\n",
        "# Define the number of splits for k-fold cross-validation\n",
        "k_folds = 10\n",
        "kf = KFold(n_splits=k_folds, shuffle=True, random_state=42)\n",
        "\n",
        "# Perform k-fold cross-validation\n",
        "cv_scores = cross_val_score(svm_classifier, train_x_trans, train_y[LBL], cv=kf)\n",
        "\n",
        "# Print the cross-validation scores\n",
        "print(f\"Cross-validation scores: {cv_scores}\")\n",
        "print(f\"Mean accuracy: {np.mean(cv_scores)}\")\n"
      ],
      "metadata": {
        "id": "Isl_BQyLicrD",
        "colab": {
          "base_uri": "https://localhost:8080/"
        },
        "outputId": "9f7d05d9-fac9-4408-eedf-9896259b2685"
      },
      "execution_count": null,
      "outputs": [
        {
          "output_type": "stream",
          "name": "stdout",
          "text": [
            "Cross-validation scores: [0.9898317  0.99123422 0.99018233 0.99298738 0.99053296 0.98842917\n",
            " 0.99263675 0.98772791 0.99053296 0.99123422]\n",
            "Mean accuracy: 0.9905329593267883\n"
          ]
        }
      ]
    },
    {
      "cell_type": "markdown",
      "source": [
        "For kNN classifier"
      ],
      "metadata": {
        "id": "XZlwaa6gicrD"
      }
    },
    {
      "cell_type": "code",
      "source": [
        "knn_classifier = KNeighborsClassifier(n_neighbors=5)\n",
        "\n",
        "# Perform k-fold cross-validation\n",
        "cv_scores = cross_val_score(knn_classifier, train_x_trans, train_y[LBL], cv=kf)\n",
        "\n",
        "# Print the cross-validation scores\n",
        "print(f\"Cross-validation scores: {cv_scores}\")\n",
        "print(f\"Mean accuracy: {np.mean(cv_scores)}\")"
      ],
      "metadata": {
        "id": "peNNQwVwicrD",
        "colab": {
          "base_uri": "https://localhost:8080/"
        },
        "outputId": "a46f4344-d2ea-47c1-9b91-f18052819a88"
      },
      "execution_count": null,
      "outputs": [
        {
          "output_type": "stream",
          "name": "stdout",
          "text": [
            "Cross-validation scores: [0.98036466 0.98246844 0.97370266 0.97650771 0.98281907 0.97685835\n",
            " 0.97931276 0.97159888 0.9730014  0.97545582]\n",
            "Mean accuracy: 0.9772089761570827\n"
          ]
        }
      ]
    },
    {
      "cell_type": "markdown",
      "source": [
        "For XGBoost classifier"
      ],
      "metadata": {
        "id": "24OtRC1bPsSY"
      }
    },
    {
      "cell_type": "code",
      "source": [
        "xgb_classifier = xgb.XGBClassifier()\n",
        "\n",
        "cv_scores = cross_val_score(xgb_classifier, train_x_trans, train_y[LBL], cv=kf)\n",
        "\n",
        "# Print the cross-validation scores\n",
        "print(f\"Cross-validation scores: {cv_scores}\")\n",
        "print(f\"Mean accuracy: {np.mean(cv_scores)}\")"
      ],
      "metadata": {
        "id": "zrHIJmB8Pw0q",
        "colab": {
          "base_uri": "https://localhost:8080/"
        },
        "outputId": "6a1545bd-87c9-427e-e5d4-2e331896160c"
      },
      "execution_count": null,
      "outputs": [
        {
          "output_type": "stream",
          "name": "stdout",
          "text": [
            "Cross-validation scores: [0.98667602 0.98597475 0.98597475 0.98316971 0.98913043 0.98352034\n",
            " 0.98702665 0.98562412 0.98352034 0.98281907]\n",
            "Mean accuracy: 0.9853436185133239\n"
          ]
        }
      ]
    },
    {
      "cell_type": "markdown",
      "source": [
        "Since SVM has the highest mean accuracy, SVM classifier is selected as the classification model"
      ],
      "metadata": {
        "id": "HzJn9IdiicrE"
      }
    },
    {
      "cell_type": "markdown",
      "source": [
        "## Hyperparameter tuning"
      ],
      "metadata": {
        "id": "iVj6ANexicrE"
      }
    },
    {
      "cell_type": "markdown",
      "source": [
        "### Using Grid search"
      ],
      "metadata": {
        "id": "pjd0G_eWicrE"
      }
    },
    {
      "cell_type": "code",
      "source": [
        "# Define the parameter grid for grid search\n",
        "param_grid = {\n",
        "    'C' : [1, 10],\n",
        "    'kernel': ['rbf','linear','poly']\n",
        "}\n",
        "\n",
        "# Create the SVM model\n",
        "svm_model = SVC()\n",
        "\n",
        "# Create Grid Search object\n",
        "grid_search = GridSearchCV(svm_model, param_grid, cv=3, scoring='accuracy')\n",
        "\n",
        "# Fit the model\n",
        "grid_search.fit(train_x_trans, train_y[LBL])\n",
        "\n",
        "# Get the best parameters\n",
        "best_params = grid_search.best_params_\n",
        "print(\"Best Parameters:\", best_params)"
      ],
      "metadata": {
        "id": "IGmut4UYicrE",
        "colab": {
          "base_uri": "https://localhost:8080/"
        },
        "outputId": "48c1cc9b-a1e1-4e1b-b22d-945b1b1ae722"
      },
      "execution_count": null,
      "outputs": [
        {
          "output_type": "stream",
          "name": "stdout",
          "text": [
            "Best Parameters: {'C': 10, 'kernel': 'rbf'}\n"
          ]
        }
      ]
    },
    {
      "cell_type": "markdown",
      "source": [
        "C = 10 and kernel = 'rbf' are used for training the SVM model"
      ],
      "metadata": {
        "id": "yYxesrQla8Nr"
      }
    },
    {
      "cell_type": "markdown",
      "source": [
        "## Train, Evaluation and Prediction"
      ],
      "metadata": {
        "id": "CjCg2S0oicrF"
      }
    },
    {
      "cell_type": "markdown",
      "source": [
        "Train the SVM classifier\n"
      ],
      "metadata": {
        "id": "Z5thtnTvicrF"
      }
    },
    {
      "cell_type": "code",
      "source": [
        "classifier = svm.SVC(kernel='rbf', C = 10)\n",
        "classifier.fit(train_x_trans, train_y[LBL])"
      ],
      "metadata": {
        "id": "xEXCLOpJicrF",
        "colab": {
          "base_uri": "https://localhost:8080/",
          "height": 74
        },
        "outputId": "31402fd7-89b3-4af5-c924-ead86faabba6"
      },
      "execution_count": null,
      "outputs": [
        {
          "output_type": "execute_result",
          "data": {
            "text/plain": [
              "SVC(C=10)"
            ],
            "text/html": [
              "<style>#sk-container-id-2 {color: black;background-color: white;}#sk-container-id-2 pre{padding: 0;}#sk-container-id-2 div.sk-toggleable {background-color: white;}#sk-container-id-2 label.sk-toggleable__label {cursor: pointer;display: block;width: 100%;margin-bottom: 0;padding: 0.3em;box-sizing: border-box;text-align: center;}#sk-container-id-2 label.sk-toggleable__label-arrow:before {content: \"▸\";float: left;margin-right: 0.25em;color: #696969;}#sk-container-id-2 label.sk-toggleable__label-arrow:hover:before {color: black;}#sk-container-id-2 div.sk-estimator:hover label.sk-toggleable__label-arrow:before {color: black;}#sk-container-id-2 div.sk-toggleable__content {max-height: 0;max-width: 0;overflow: hidden;text-align: left;background-color: #f0f8ff;}#sk-container-id-2 div.sk-toggleable__content pre {margin: 0.2em;color: black;border-radius: 0.25em;background-color: #f0f8ff;}#sk-container-id-2 input.sk-toggleable__control:checked~div.sk-toggleable__content {max-height: 200px;max-width: 100%;overflow: auto;}#sk-container-id-2 input.sk-toggleable__control:checked~label.sk-toggleable__label-arrow:before {content: \"▾\";}#sk-container-id-2 div.sk-estimator input.sk-toggleable__control:checked~label.sk-toggleable__label {background-color: #d4ebff;}#sk-container-id-2 div.sk-label input.sk-toggleable__control:checked~label.sk-toggleable__label {background-color: #d4ebff;}#sk-container-id-2 input.sk-hidden--visually {border: 0;clip: rect(1px 1px 1px 1px);clip: rect(1px, 1px, 1px, 1px);height: 1px;margin: -1px;overflow: hidden;padding: 0;position: absolute;width: 1px;}#sk-container-id-2 div.sk-estimator {font-family: monospace;background-color: #f0f8ff;border: 1px dotted black;border-radius: 0.25em;box-sizing: border-box;margin-bottom: 0.5em;}#sk-container-id-2 div.sk-estimator:hover {background-color: #d4ebff;}#sk-container-id-2 div.sk-parallel-item::after {content: \"\";width: 100%;border-bottom: 1px solid gray;flex-grow: 1;}#sk-container-id-2 div.sk-label:hover label.sk-toggleable__label {background-color: #d4ebff;}#sk-container-id-2 div.sk-serial::before {content: \"\";position: absolute;border-left: 1px solid gray;box-sizing: border-box;top: 0;bottom: 0;left: 50%;z-index: 0;}#sk-container-id-2 div.sk-serial {display: flex;flex-direction: column;align-items: center;background-color: white;padding-right: 0.2em;padding-left: 0.2em;position: relative;}#sk-container-id-2 div.sk-item {position: relative;z-index: 1;}#sk-container-id-2 div.sk-parallel {display: flex;align-items: stretch;justify-content: center;background-color: white;position: relative;}#sk-container-id-2 div.sk-item::before, #sk-container-id-2 div.sk-parallel-item::before {content: \"\";position: absolute;border-left: 1px solid gray;box-sizing: border-box;top: 0;bottom: 0;left: 50%;z-index: -1;}#sk-container-id-2 div.sk-parallel-item {display: flex;flex-direction: column;z-index: 1;position: relative;background-color: white;}#sk-container-id-2 div.sk-parallel-item:first-child::after {align-self: flex-end;width: 50%;}#sk-container-id-2 div.sk-parallel-item:last-child::after {align-self: flex-start;width: 50%;}#sk-container-id-2 div.sk-parallel-item:only-child::after {width: 0;}#sk-container-id-2 div.sk-dashed-wrapped {border: 1px dashed gray;margin: 0 0.4em 0.5em 0.4em;box-sizing: border-box;padding-bottom: 0.4em;background-color: white;}#sk-container-id-2 div.sk-label label {font-family: monospace;font-weight: bold;display: inline-block;line-height: 1.2em;}#sk-container-id-2 div.sk-label-container {text-align: center;}#sk-container-id-2 div.sk-container {/* jupyter's `normalize.less` sets `[hidden] { display: none; }` but bootstrap.min.css set `[hidden] { display: none !important; }` so we also need the `!important` here to be able to override the default hidden behavior on the sphinx rendered scikit-learn.org. See: https://github.com/scikit-learn/scikit-learn/issues/21755 */display: inline-block !important;position: relative;}#sk-container-id-2 div.sk-text-repr-fallback {display: none;}</style><div id=\"sk-container-id-2\" class=\"sk-top-container\"><div class=\"sk-text-repr-fallback\"><pre>SVC(C=10)</pre><b>In a Jupyter environment, please rerun this cell to show the HTML representation or trust the notebook. <br />On GitHub, the HTML representation is unable to render, please try loading this page with nbviewer.org.</b></div><div class=\"sk-container\" hidden><div class=\"sk-item\"><div class=\"sk-estimator sk-toggleable\"><input class=\"sk-toggleable__control sk-hidden--visually\" id=\"sk-estimator-id-2\" type=\"checkbox\" checked><label for=\"sk-estimator-id-2\" class=\"sk-toggleable__label sk-toggleable__label-arrow\">SVC</label><div class=\"sk-toggleable__content\"><pre>SVC(C=10)</pre></div></div></div></div></div>"
            ]
          },
          "metadata": {},
          "execution_count": 12
        }
      ]
    },
    {
      "cell_type": "markdown",
      "source": [
        "Prediction and evaluation for valid set."
      ],
      "metadata": {
        "id": "Mx9ni0gGY0Nr"
      }
    },
    {
      "cell_type": "code",
      "source": [
        "y_predict_valid = classifier.predict(valid_x_trans)\n",
        "print(classification_report(valid_y[LBL], y_predict_valid))"
      ],
      "metadata": {
        "id": "ksfHqUyMicrF",
        "colab": {
          "base_uri": "https://localhost:8080/"
        },
        "outputId": "7704f828-95bc-473e-bddb-2c6d84cf4412"
      },
      "execution_count": null,
      "outputs": [
        {
          "output_type": "stream",
          "name": "stdout",
          "text": [
            "              precision    recall  f1-score   support\n",
            "\n",
            "           0       0.99      0.99      0.99       142\n",
            "           1       1.00      1.00      1.00       608\n",
            "\n",
            "    accuracy                           1.00       750\n",
            "   macro avg       0.99      0.99      0.99       750\n",
            "weighted avg       1.00      1.00      1.00       750\n",
            "\n"
          ]
        }
      ]
    },
    {
      "cell_type": "markdown",
      "source": [
        "Prediction for test dataset"
      ],
      "metadata": {
        "id": "ZLMBDZDwicrF"
      }
    },
    {
      "cell_type": "code",
      "source": [
        "test_y[LBL] = classifier.predict(test_x_trans)"
      ],
      "metadata": {
        "id": "susXCP81icrG"
      },
      "execution_count": null,
      "outputs": []
    },
    {
      "cell_type": "markdown",
      "source": [
        "# For Label 4"
      ],
      "metadata": {
        "id": "1ESSgD_NjBpr"
      }
    },
    {
      "cell_type": "code",
      "source": [
        "LBL = 'label_4'"
      ],
      "metadata": {
        "id": "XL3TjnsfjL6L"
      },
      "execution_count": null,
      "outputs": []
    },
    {
      "cell_type": "markdown",
      "source": [
        "## Applying Feature Engineering techniques"
      ],
      "metadata": {
        "id": "3ho7dnPyjBps"
      }
    },
    {
      "cell_type": "markdown",
      "source": [
        "### Using Principal Component Analysis(PCA)\n",
        "\n"
      ],
      "metadata": {
        "id": "LVIcCJNyjBps"
      }
    },
    {
      "cell_type": "markdown",
      "source": [
        "Apply PCA on original features"
      ],
      "metadata": {
        "id": "6wVEBRyKjBps"
      }
    },
    {
      "cell_type": "code",
      "source": [
        "pca = PCA(n_components=0.99, svd_solver='full')\n",
        "pca.fit(train_x[LBL])"
      ],
      "metadata": {
        "id": "bVATBCf_jBpt",
        "colab": {
          "base_uri": "https://localhost:8080/",
          "height": 74
        },
        "outputId": "ab187d98-5822-4077-b6ab-e5525d820208"
      },
      "execution_count": null,
      "outputs": [
        {
          "output_type": "execute_result",
          "data": {
            "text/plain": [
              "PCA(n_components=0.99, svd_solver='full')"
            ],
            "text/html": [
              "<style>#sk-container-id-3 {color: black;background-color: white;}#sk-container-id-3 pre{padding: 0;}#sk-container-id-3 div.sk-toggleable {background-color: white;}#sk-container-id-3 label.sk-toggleable__label {cursor: pointer;display: block;width: 100%;margin-bottom: 0;padding: 0.3em;box-sizing: border-box;text-align: center;}#sk-container-id-3 label.sk-toggleable__label-arrow:before {content: \"▸\";float: left;margin-right: 0.25em;color: #696969;}#sk-container-id-3 label.sk-toggleable__label-arrow:hover:before {color: black;}#sk-container-id-3 div.sk-estimator:hover label.sk-toggleable__label-arrow:before {color: black;}#sk-container-id-3 div.sk-toggleable__content {max-height: 0;max-width: 0;overflow: hidden;text-align: left;background-color: #f0f8ff;}#sk-container-id-3 div.sk-toggleable__content pre {margin: 0.2em;color: black;border-radius: 0.25em;background-color: #f0f8ff;}#sk-container-id-3 input.sk-toggleable__control:checked~div.sk-toggleable__content {max-height: 200px;max-width: 100%;overflow: auto;}#sk-container-id-3 input.sk-toggleable__control:checked~label.sk-toggleable__label-arrow:before {content: \"▾\";}#sk-container-id-3 div.sk-estimator input.sk-toggleable__control:checked~label.sk-toggleable__label {background-color: #d4ebff;}#sk-container-id-3 div.sk-label input.sk-toggleable__control:checked~label.sk-toggleable__label {background-color: #d4ebff;}#sk-container-id-3 input.sk-hidden--visually {border: 0;clip: rect(1px 1px 1px 1px);clip: rect(1px, 1px, 1px, 1px);height: 1px;margin: -1px;overflow: hidden;padding: 0;position: absolute;width: 1px;}#sk-container-id-3 div.sk-estimator {font-family: monospace;background-color: #f0f8ff;border: 1px dotted black;border-radius: 0.25em;box-sizing: border-box;margin-bottom: 0.5em;}#sk-container-id-3 div.sk-estimator:hover {background-color: #d4ebff;}#sk-container-id-3 div.sk-parallel-item::after {content: \"\";width: 100%;border-bottom: 1px solid gray;flex-grow: 1;}#sk-container-id-3 div.sk-label:hover label.sk-toggleable__label {background-color: #d4ebff;}#sk-container-id-3 div.sk-serial::before {content: \"\";position: absolute;border-left: 1px solid gray;box-sizing: border-box;top: 0;bottom: 0;left: 50%;z-index: 0;}#sk-container-id-3 div.sk-serial {display: flex;flex-direction: column;align-items: center;background-color: white;padding-right: 0.2em;padding-left: 0.2em;position: relative;}#sk-container-id-3 div.sk-item {position: relative;z-index: 1;}#sk-container-id-3 div.sk-parallel {display: flex;align-items: stretch;justify-content: center;background-color: white;position: relative;}#sk-container-id-3 div.sk-item::before, #sk-container-id-3 div.sk-parallel-item::before {content: \"\";position: absolute;border-left: 1px solid gray;box-sizing: border-box;top: 0;bottom: 0;left: 50%;z-index: -1;}#sk-container-id-3 div.sk-parallel-item {display: flex;flex-direction: column;z-index: 1;position: relative;background-color: white;}#sk-container-id-3 div.sk-parallel-item:first-child::after {align-self: flex-end;width: 50%;}#sk-container-id-3 div.sk-parallel-item:last-child::after {align-self: flex-start;width: 50%;}#sk-container-id-3 div.sk-parallel-item:only-child::after {width: 0;}#sk-container-id-3 div.sk-dashed-wrapped {border: 1px dashed gray;margin: 0 0.4em 0.5em 0.4em;box-sizing: border-box;padding-bottom: 0.4em;background-color: white;}#sk-container-id-3 div.sk-label label {font-family: monospace;font-weight: bold;display: inline-block;line-height: 1.2em;}#sk-container-id-3 div.sk-label-container {text-align: center;}#sk-container-id-3 div.sk-container {/* jupyter's `normalize.less` sets `[hidden] { display: none; }` but bootstrap.min.css set `[hidden] { display: none !important; }` so we also need the `!important` here to be able to override the default hidden behavior on the sphinx rendered scikit-learn.org. See: https://github.com/scikit-learn/scikit-learn/issues/21755 */display: inline-block !important;position: relative;}#sk-container-id-3 div.sk-text-repr-fallback {display: none;}</style><div id=\"sk-container-id-3\" class=\"sk-top-container\"><div class=\"sk-text-repr-fallback\"><pre>PCA(n_components=0.99, svd_solver=&#x27;full&#x27;)</pre><b>In a Jupyter environment, please rerun this cell to show the HTML representation or trust the notebook. <br />On GitHub, the HTML representation is unable to render, please try loading this page with nbviewer.org.</b></div><div class=\"sk-container\" hidden><div class=\"sk-item\"><div class=\"sk-estimator sk-toggleable\"><input class=\"sk-toggleable__control sk-hidden--visually\" id=\"sk-estimator-id-3\" type=\"checkbox\" checked><label for=\"sk-estimator-id-3\" class=\"sk-toggleable__label sk-toggleable__label-arrow\">PCA</label><div class=\"sk-toggleable__content\"><pre>PCA(n_components=0.99, svd_solver=&#x27;full&#x27;)</pre></div></div></div></div></div>"
            ]
          },
          "metadata": {},
          "execution_count": 16
        }
      ]
    },
    {
      "cell_type": "code",
      "source": [
        "train_x_trans = pd.DataFrame(pca.transform(train_x[LBL]))\n",
        "valid_x_trans = pd.DataFrame(pca.transform(valid_x[LBL]))\n",
        "test_x_trans = pd.DataFrame(pca.transform(test_x[LBL]))\n",
        "\n",
        "print(\"Shape after feature reduction:\", train_x_trans.shape)\n",
        "print(\"Shape after feature reduction:\", valid_x_trans.shape)\n",
        "print(\"Shape after feature reduction:\", test_x_trans.shape)"
      ],
      "metadata": {
        "id": "A0sHRNp2jBpt",
        "colab": {
          "base_uri": "https://localhost:8080/"
        },
        "outputId": "65ac8a16-885e-424a-c4ac-96a247420f53"
      },
      "execution_count": null,
      "outputs": [
        {
          "output_type": "stream",
          "name": "stdout",
          "text": [
            "Shape after feature reduction: (28520, 386)\n",
            "Shape after feature reduction: (750, 386)\n",
            "Shape after feature reduction: (744, 386)\n"
          ]
        }
      ]
    },
    {
      "cell_type": "markdown",
      "source": [
        "## Model Selection"
      ],
      "metadata": {
        "id": "XybXsRH-jBpu"
      }
    },
    {
      "cell_type": "markdown",
      "source": [
        "### Cross Validation"
      ],
      "metadata": {
        "id": "0RFEdmFHjBpu"
      }
    },
    {
      "cell_type": "markdown",
      "source": [
        "For SVM classifier"
      ],
      "metadata": {
        "id": "EEgnvvx6jBpu"
      }
    },
    {
      "cell_type": "code",
      "source": [
        "svm_classifier = SVC(kernel='rbf')\n",
        "\n",
        "# Define the number of splits for k-fold cross-validation\n",
        "k_folds = 10\n",
        "kf = KFold(n_splits=k_folds, shuffle=True, random_state=42)\n",
        "\n",
        "# Perform k-fold cross-validation\n",
        "cv_scores = cross_val_score(svm_classifier, train_x_trans, train_y[LBL], cv=kf)\n",
        "\n",
        "# Print the cross-validation scores\n",
        "print(f\"Cross-validation scores: {cv_scores}\")\n",
        "print(f\"Mean accuracy: {np.mean(cv_scores)}\")\n"
      ],
      "metadata": {
        "id": "eVkrFufYjBpu",
        "colab": {
          "base_uri": "https://localhost:8080/"
        },
        "outputId": "a8c33959-6187-4995-efbd-46d2b48793c7"
      },
      "execution_count": null,
      "outputs": [
        {
          "output_type": "stream",
          "name": "stdout",
          "text": [
            "Cross-validation scores: [0.89726508 0.8997195  0.88920056 0.90112202 0.90813464 0.89761571\n",
            " 0.90007013 0.89936886 0.90112202 0.88990182]\n",
            "Mean accuracy: 0.898352033660589\n"
          ]
        }
      ]
    },
    {
      "cell_type": "markdown",
      "source": [
        "For kNN classifier"
      ],
      "metadata": {
        "id": "hFa25lJ8jBpv"
      }
    },
    {
      "cell_type": "code",
      "source": [
        "knn_classifier = KNeighborsClassifier(n_neighbors=5)\n",
        "\n",
        "# Perform k-fold cross-validation\n",
        "cv_scores = cross_val_score(knn_classifier, train_x_trans, train_y[LBL], cv=kf)\n",
        "\n",
        "# Print the cross-validation scores\n",
        "print(f\"Cross-validation scores: {cv_scores}\")\n",
        "print(f\"Mean accuracy: {np.mean(cv_scores)}\")"
      ],
      "metadata": {
        "id": "4VPb1HGPjBpv",
        "colab": {
          "base_uri": "https://localhost:8080/"
        },
        "outputId": "08bfa098-e1c5-43a4-f8fd-8d02d4170501"
      },
      "execution_count": null,
      "outputs": [
        {
          "output_type": "stream",
          "name": "stdout",
          "text": [
            "Cross-validation scores: [0.90287518 0.90462833 0.90147265 0.914446   0.91409537 0.91654979\n",
            " 0.90462833 0.90077139 0.91409537 0.90077139]\n",
            "Mean accuracy: 0.9074333800841515\n"
          ]
        }
      ]
    },
    {
      "cell_type": "markdown",
      "source": [
        "For Random Forest classifier"
      ],
      "metadata": {
        "id": "ftqVuU1jjBpw"
      }
    },
    {
      "cell_type": "code",
      "source": [
        "random_forest_classifier = RandomForestClassifier(n_estimators=100, random_state=42)\n",
        "\n",
        "# Perform k-fold cross-validation\n",
        "cv_scores = cross_val_score(random_forest_classifier, train_x_trans, train_y[LBL], cv=kf)\n",
        "\n",
        "# Print the cross-validation scores\n",
        "print(f\"Cross-validation scores: {cv_scores}\")\n",
        "print(f\"Mean accuracy: {np.mean(cv_scores)}\")\n"
      ],
      "metadata": {
        "id": "OhTQx_-yjBpx",
        "colab": {
          "base_uri": "https://localhost:8080/"
        },
        "outputId": "028afa1b-4dd8-4fea-d0ce-e445010a34fe"
      },
      "execution_count": null,
      "outputs": [
        {
          "output_type": "stream",
          "name": "stdout",
          "text": [
            "Cross-validation scores: [0.69775596 0.70967742 0.70336606 0.7173913  0.72615708 0.72019635\n",
            " 0.71774194 0.71248247 0.71563815 0.69915849]\n",
            "Mean accuracy: 0.7119565217391305\n"
          ]
        }
      ]
    },
    {
      "cell_type": "markdown",
      "source": [
        "Since SVM has the highest mean accuracy, SVM classifier is selected as the classification model"
      ],
      "metadata": {
        "id": "glLOWbAAjBpx"
      }
    },
    {
      "cell_type": "markdown",
      "source": [
        "## Hyperparameter tuning"
      ],
      "metadata": {
        "id": "Hie6p-hnjBpx"
      }
    },
    {
      "cell_type": "markdown",
      "source": [
        "### Using Grid search"
      ],
      "metadata": {
        "id": "3GLaACvQjBpx"
      }
    },
    {
      "cell_type": "code",
      "execution_count": null,
      "metadata": {
        "id": "qafFNTAxjBpx",
        "colab": {
          "base_uri": "https://localhost:8080/"
        },
        "outputId": "e2694295-df56-416a-ae60-381315dfb38a"
      },
      "outputs": [
        {
          "output_type": "stream",
          "name": "stdout",
          "text": [
            "Best Parameters: {'C': 10, 'kernel': 'rbf'}\n"
          ]
        }
      ],
      "source": [
        "# Define the parameter grid for grid search\n",
        "param_grid = {\n",
        "    'C': [1, 10, 100],\n",
        "    'kernel': ['rbf','linear','poly']\n",
        "}\n",
        "\n",
        "# Create the SVM model\n",
        "svm_model = SVC()\n",
        "\n",
        "# Create Grid Search object\n",
        "grid_search = GridSearchCV(svm_model, param_grid, cv=3, scoring='accuracy')\n",
        "\n",
        "# Fit the model\n",
        "grid_search.fit(train_x_trans, train_y[LBL])\n",
        "\n",
        "# Get the best parameters\n",
        "best_params = grid_search.best_params_\n",
        "print(\"Best Parameters:\", best_params)"
      ]
    },
    {
      "cell_type": "markdown",
      "source": [
        "C = 10 and kernel = 'rbf' are used for training the SVM model"
      ],
      "metadata": {
        "id": "AgiaSiCqbOWW"
      }
    },
    {
      "cell_type": "markdown",
      "source": [
        "## Train, Evaluation and Prediction"
      ],
      "metadata": {
        "id": "0nioCiI8jBpy"
      }
    },
    {
      "cell_type": "markdown",
      "source": [
        "Train the SVM classifier\n"
      ],
      "metadata": {
        "id": "4T60anIKjBpy"
      }
    },
    {
      "cell_type": "code",
      "source": [
        "classifier = svm.SVC(kernel='rbf', C = 10)\n",
        "classifier.fit(train_x_trans, train_y[LBL])"
      ],
      "metadata": {
        "id": "-2e2g25fjBpy",
        "colab": {
          "base_uri": "https://localhost:8080/",
          "height": 74
        },
        "outputId": "d30bbce6-b681-48b6-991e-b4f50470aa92"
      },
      "execution_count": null,
      "outputs": [
        {
          "output_type": "execute_result",
          "data": {
            "text/plain": [
              "SVC(C=10)"
            ],
            "text/html": [
              "<style>#sk-container-id-4 {color: black;background-color: white;}#sk-container-id-4 pre{padding: 0;}#sk-container-id-4 div.sk-toggleable {background-color: white;}#sk-container-id-4 label.sk-toggleable__label {cursor: pointer;display: block;width: 100%;margin-bottom: 0;padding: 0.3em;box-sizing: border-box;text-align: center;}#sk-container-id-4 label.sk-toggleable__label-arrow:before {content: \"▸\";float: left;margin-right: 0.25em;color: #696969;}#sk-container-id-4 label.sk-toggleable__label-arrow:hover:before {color: black;}#sk-container-id-4 div.sk-estimator:hover label.sk-toggleable__label-arrow:before {color: black;}#sk-container-id-4 div.sk-toggleable__content {max-height: 0;max-width: 0;overflow: hidden;text-align: left;background-color: #f0f8ff;}#sk-container-id-4 div.sk-toggleable__content pre {margin: 0.2em;color: black;border-radius: 0.25em;background-color: #f0f8ff;}#sk-container-id-4 input.sk-toggleable__control:checked~div.sk-toggleable__content {max-height: 200px;max-width: 100%;overflow: auto;}#sk-container-id-4 input.sk-toggleable__control:checked~label.sk-toggleable__label-arrow:before {content: \"▾\";}#sk-container-id-4 div.sk-estimator input.sk-toggleable__control:checked~label.sk-toggleable__label {background-color: #d4ebff;}#sk-container-id-4 div.sk-label input.sk-toggleable__control:checked~label.sk-toggleable__label {background-color: #d4ebff;}#sk-container-id-4 input.sk-hidden--visually {border: 0;clip: rect(1px 1px 1px 1px);clip: rect(1px, 1px, 1px, 1px);height: 1px;margin: -1px;overflow: hidden;padding: 0;position: absolute;width: 1px;}#sk-container-id-4 div.sk-estimator {font-family: monospace;background-color: #f0f8ff;border: 1px dotted black;border-radius: 0.25em;box-sizing: border-box;margin-bottom: 0.5em;}#sk-container-id-4 div.sk-estimator:hover {background-color: #d4ebff;}#sk-container-id-4 div.sk-parallel-item::after {content: \"\";width: 100%;border-bottom: 1px solid gray;flex-grow: 1;}#sk-container-id-4 div.sk-label:hover label.sk-toggleable__label {background-color: #d4ebff;}#sk-container-id-4 div.sk-serial::before {content: \"\";position: absolute;border-left: 1px solid gray;box-sizing: border-box;top: 0;bottom: 0;left: 50%;z-index: 0;}#sk-container-id-4 div.sk-serial {display: flex;flex-direction: column;align-items: center;background-color: white;padding-right: 0.2em;padding-left: 0.2em;position: relative;}#sk-container-id-4 div.sk-item {position: relative;z-index: 1;}#sk-container-id-4 div.sk-parallel {display: flex;align-items: stretch;justify-content: center;background-color: white;position: relative;}#sk-container-id-4 div.sk-item::before, #sk-container-id-4 div.sk-parallel-item::before {content: \"\";position: absolute;border-left: 1px solid gray;box-sizing: border-box;top: 0;bottom: 0;left: 50%;z-index: -1;}#sk-container-id-4 div.sk-parallel-item {display: flex;flex-direction: column;z-index: 1;position: relative;background-color: white;}#sk-container-id-4 div.sk-parallel-item:first-child::after {align-self: flex-end;width: 50%;}#sk-container-id-4 div.sk-parallel-item:last-child::after {align-self: flex-start;width: 50%;}#sk-container-id-4 div.sk-parallel-item:only-child::after {width: 0;}#sk-container-id-4 div.sk-dashed-wrapped {border: 1px dashed gray;margin: 0 0.4em 0.5em 0.4em;box-sizing: border-box;padding-bottom: 0.4em;background-color: white;}#sk-container-id-4 div.sk-label label {font-family: monospace;font-weight: bold;display: inline-block;line-height: 1.2em;}#sk-container-id-4 div.sk-label-container {text-align: center;}#sk-container-id-4 div.sk-container {/* jupyter's `normalize.less` sets `[hidden] { display: none; }` but bootstrap.min.css set `[hidden] { display: none !important; }` so we also need the `!important` here to be able to override the default hidden behavior on the sphinx rendered scikit-learn.org. See: https://github.com/scikit-learn/scikit-learn/issues/21755 */display: inline-block !important;position: relative;}#sk-container-id-4 div.sk-text-repr-fallback {display: none;}</style><div id=\"sk-container-id-4\" class=\"sk-top-container\"><div class=\"sk-text-repr-fallback\"><pre>SVC(C=10)</pre><b>In a Jupyter environment, please rerun this cell to show the HTML representation or trust the notebook. <br />On GitHub, the HTML representation is unable to render, please try loading this page with nbviewer.org.</b></div><div class=\"sk-container\" hidden><div class=\"sk-item\"><div class=\"sk-estimator sk-toggleable\"><input class=\"sk-toggleable__control sk-hidden--visually\" id=\"sk-estimator-id-4\" type=\"checkbox\" checked><label for=\"sk-estimator-id-4\" class=\"sk-toggleable__label sk-toggleable__label-arrow\">SVC</label><div class=\"sk-toggleable__content\"><pre>SVC(C=10)</pre></div></div></div></div></div>"
            ]
          },
          "metadata": {},
          "execution_count": 18
        }
      ]
    },
    {
      "cell_type": "markdown",
      "source": [
        "Prediction and evaluation for valid set."
      ],
      "metadata": {
        "id": "2MDyb5eWY1_U"
      }
    },
    {
      "cell_type": "code",
      "source": [
        "y_predict_valid = classifier.predict(valid_x_trans)\n",
        "print(classification_report(valid_y[LBL], y_predict_valid))"
      ],
      "metadata": {
        "id": "lOPez6PEjBpy",
        "colab": {
          "base_uri": "https://localhost:8080/"
        },
        "outputId": "63e3a528-b4d9-4e07-8c1c-8f4014ff9122"
      },
      "execution_count": null,
      "outputs": [
        {
          "output_type": "stream",
          "name": "stdout",
          "text": [
            "              precision    recall  f1-score   support\n",
            "\n",
            "           0       1.00      1.00      1.00        21\n",
            "           1       1.00      0.91      0.95        11\n",
            "           2       1.00      0.93      0.96        27\n",
            "           3       1.00      1.00      1.00         8\n",
            "           4       0.90      0.60      0.72        15\n",
            "           5       0.91      0.91      0.91        11\n",
            "           6       0.95      1.00      0.97       532\n",
            "           7       1.00      0.88      0.93        32\n",
            "           8       1.00      0.84      0.91        19\n",
            "           9       1.00      0.82      0.90        17\n",
            "          10       1.00      0.90      0.95        10\n",
            "          11       1.00      0.91      0.95        11\n",
            "          12       1.00      0.81      0.89        26\n",
            "          13       1.00      0.80      0.89        10\n",
            "\n",
            "    accuracy                           0.96       750\n",
            "   macro avg       0.98      0.88      0.92       750\n",
            "weighted avg       0.96      0.96      0.96       750\n",
            "\n"
          ]
        }
      ]
    },
    {
      "cell_type": "markdown",
      "source": [
        "Prediction for test dataset"
      ],
      "metadata": {
        "id": "gpIzH2YvjBpy"
      }
    },
    {
      "cell_type": "code",
      "source": [
        "test_y[LBL] = classifier.predict(test_x_trans)"
      ],
      "metadata": {
        "id": "kOI64M_2jBpy"
      },
      "execution_count": null,
      "outputs": []
    },
    {
      "cell_type": "code",
      "source": [
        "IDs = [i for i in range(1, 745)]\n",
        "output_df = pd.DataFrame({\n",
        "    'ID': IDs,\n",
        "})\n",
        "for l in LABELS:\n",
        "  lbl_df = pd.DataFrame({l : test_y[l]})\n",
        "  output_df = pd.concat([output_df, lbl_df], axis=1)\n"
      ],
      "metadata": {
        "id": "LEFmUPasjbNm"
      },
      "execution_count": null,
      "outputs": []
    },
    {
      "cell_type": "code",
      "source": [
        "output_df.to_csv('/content/drive/MyDrive/ML_Project_11/output.csv', index=False)"
      ],
      "metadata": {
        "id": "Q14VbO5yke3b"
      },
      "execution_count": null,
      "outputs": []
    }
  ]
}