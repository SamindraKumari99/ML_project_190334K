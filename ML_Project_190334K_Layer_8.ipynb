{
  "cells": [
    {
      "cell_type": "markdown",
      "metadata": {
        "id": "u722--M8PrMo"
      },
      "source": [
        "Define label names and feature names"
      ]
    },
    {
      "cell_type": "code",
      "execution_count": 1,
      "metadata": {
        "id": "-qLEXTkqPkpm"
      },
      "outputs": [],
      "source": [
        "import pandas as pd\n",
        "import numpy as np\n",
        "\n",
        "LABELS = ['label_1','label_2', 'label_3', 'label_4']\n",
        "FEATURES = [f'feature_{i}' for i in range(1, 769)]\n"
      ]
    },
    {
      "cell_type": "markdown",
      "metadata": {
        "id": "QqDq0aTB4Nbq"
      },
      "source": [
        "Read training,validation and test data"
      ]
    },
    {
      "cell_type": "code",
      "execution_count": null,
      "metadata": {
        "colab": {
          "base_uri": "https://localhost:8080/"
        },
        "id": "ZyUSroZ1Ty8e",
        "outputId": "29a499f3-775a-4fcf-bdac-427bc4816de3"
      },
      "outputs": [
        {
          "output_type": "stream",
          "name": "stdout",
          "text": [
            "Drive already mounted at /content/drive; to attempt to forcibly remount, call drive.mount(\"/content/drive\", force_remount=True).\n"
          ]
        }
      ],
      "source": [
        "from google.colab import drive\n",
        "drive.mount('/content/drive')\n",
        "\n",
        "\n",
        "train_df = pd.read_csv(\"/content/drive/MyDrive/ML_Project/train.csv\")\n",
        "valid_df = pd.read_csv(\"/content/drive/MyDrive/ML_Project/valid.csv\")\n",
        "test_df = pd.read_csv(\"/content/drive/MyDrive/ML_Project/test.csv\")\n"
      ]
    },
    {
      "cell_type": "markdown",
      "metadata": {
        "id": "KiuiG78eqBmH"
      },
      "source": [
        "Initialize dictionaries to store data"
      ]
    },
    {
      "cell_type": "code",
      "execution_count": null,
      "metadata": {
        "id": "fX7zKhl7l-AN"
      },
      "outputs": [],
      "source": [
        "train_x = {}\n",
        "valid_x = {}\n",
        "test_x = {}\n",
        "train_y = {}\n",
        "valid_y = {}\n",
        "test_y = {}"
      ]
    },
    {
      "cell_type": "markdown",
      "metadata": {
        "id": "u5cPLjm34k-_"
      },
      "source": [
        "Prepare and preprocess the data. Here, rows with missing values for each label are dropped when train and validation dataframes are created.\n"
      ]
    },
    {
      "cell_type": "code",
      "execution_count": null,
      "metadata": {
        "colab": {
          "base_uri": "https://localhost:8080/"
        },
        "id": "VGLTRP-o4d1o",
        "outputId": "0df6ddbf-acf3-4551-8384-647a07d78d89"
      },
      "outputs": [
        {
          "output_type": "stream",
          "name": "stderr",
          "text": [
            "<ipython-input-31-8f83c9faec2b>:6: UserWarning: Boolean Series key will be reindexed to match DataFrame index.\n",
            "  valid_df_new = valid_df[train_df[LBL].notna()]\n",
            "<ipython-input-31-8f83c9faec2b>:6: UserWarning: Boolean Series key will be reindexed to match DataFrame index.\n",
            "  valid_df_new = valid_df[train_df[LBL].notna()]\n",
            "<ipython-input-31-8f83c9faec2b>:6: UserWarning: Boolean Series key will be reindexed to match DataFrame index.\n",
            "  valid_df_new = valid_df[train_df[LBL].notna()]\n",
            "<ipython-input-31-8f83c9faec2b>:6: UserWarning: Boolean Series key will be reindexed to match DataFrame index.\n",
            "  valid_df_new = valid_df[train_df[LBL].notna()]\n"
          ]
        }
      ],
      "source": [
        "from sklearn.preprocessing import StandardScaler\n",
        "\n",
        "scaler = StandardScaler()\n",
        "for LBL in LABELS:\n",
        "  train_df_new = train_df[train_df[LBL].notna()]\n",
        "  valid_df_new = valid_df[valid_df[LBL].notna()]\n",
        "  train_x[LBL] = pd.DataFrame(scaler.fit_transform(train_df_new.drop(LABELS, axis=1)), columns = FEATURES)\n",
        "  train_y[LBL] = train_df_new[LBL]\n",
        "  valid_x[LBL] = pd.DataFrame(scaler.transform(valid_df_new.drop(LABELS, axis=1)), columns = FEATURES)\n",
        "  valid_y[LBL] = valid_df_new[LBL]\n",
        "  test_x[LBL] = pd.DataFrame(scaler.transform(test_df.drop(['ID'], axis=1)), columns=FEATURES)"
      ]
    },
    {
      "cell_type": "markdown",
      "source": [
        "Imports"
      ],
      "metadata": {
        "id": "ulla-9eSgNeg"
      }
    },
    {
      "cell_type": "code",
      "source": [
        "from sklearn.decomposition import PCA\n",
        "from sklearn import svm\n",
        "from sklearn.svm import SVC\n",
        "from sklearn.neighbors import KNeighborsClassifier\n",
        "from sklearn.neighbors import KNeighborsRegressor\n",
        "from sklearn.ensemble import RandomForestClassifier\n",
        "from sklearn.linear_model import LogisticRegression\n",
        "import xgboost as xgb\n",
        "from sklearn.model_selection import cross_val_score, KFold\n",
        "from sklearn.model_selection import GridSearchCV\n",
        "from sklearn.metrics import classification_report\n",
        "\n"
      ],
      "metadata": {
        "id": "nvrCe9AwgP8S"
      },
      "execution_count": null,
      "outputs": []
    },
    {
      "cell_type": "markdown",
      "metadata": {
        "id": "zXANoZcmjC7b"
      },
      "source": [
        "# For Label 1"
      ]
    },
    {
      "cell_type": "code",
      "execution_count": null,
      "metadata": {
        "id": "4eenTFHtjC7h"
      },
      "outputs": [],
      "source": [
        "LBL = 'label_1'"
      ]
    },
    {
      "cell_type": "markdown",
      "metadata": {
        "id": "P01YI2PbjC7h"
      },
      "source": [
        "## Applying Feature Engineering techniques"
      ]
    },
    {
      "cell_type": "markdown",
      "metadata": {
        "id": "bw_-vZkejC7h"
      },
      "source": [
        "### Using Principal Component Analysis(PCA)\n",
        "\n"
      ]
    },
    {
      "cell_type": "markdown",
      "metadata": {
        "id": "Ubow2w_bjC7h"
      },
      "source": [
        "Apply PCA on original features"
      ]
    },
    {
      "cell_type": "code",
      "execution_count": null,
      "metadata": {
        "colab": {
          "base_uri": "https://localhost:8080/",
          "height": 74
        },
        "outputId": "d5a8c068-f2d3-44fe-e2cf-dbe0fdec27e0",
        "id": "EaARdQn4jC7h"
      },
      "outputs": [
        {
          "output_type": "execute_result",
          "data": {
            "text/plain": [
              "PCA(n_components=0.99, svd_solver='full')"
            ],
            "text/html": [
              "<style>#sk-container-id-6 {color: black;background-color: white;}#sk-container-id-6 pre{padding: 0;}#sk-container-id-6 div.sk-toggleable {background-color: white;}#sk-container-id-6 label.sk-toggleable__label {cursor: pointer;display: block;width: 100%;margin-bottom: 0;padding: 0.3em;box-sizing: border-box;text-align: center;}#sk-container-id-6 label.sk-toggleable__label-arrow:before {content: \"▸\";float: left;margin-right: 0.25em;color: #696969;}#sk-container-id-6 label.sk-toggleable__label-arrow:hover:before {color: black;}#sk-container-id-6 div.sk-estimator:hover label.sk-toggleable__label-arrow:before {color: black;}#sk-container-id-6 div.sk-toggleable__content {max-height: 0;max-width: 0;overflow: hidden;text-align: left;background-color: #f0f8ff;}#sk-container-id-6 div.sk-toggleable__content pre {margin: 0.2em;color: black;border-radius: 0.25em;background-color: #f0f8ff;}#sk-container-id-6 input.sk-toggleable__control:checked~div.sk-toggleable__content {max-height: 200px;max-width: 100%;overflow: auto;}#sk-container-id-6 input.sk-toggleable__control:checked~label.sk-toggleable__label-arrow:before {content: \"▾\";}#sk-container-id-6 div.sk-estimator input.sk-toggleable__control:checked~label.sk-toggleable__label {background-color: #d4ebff;}#sk-container-id-6 div.sk-label input.sk-toggleable__control:checked~label.sk-toggleable__label {background-color: #d4ebff;}#sk-container-id-6 input.sk-hidden--visually {border: 0;clip: rect(1px 1px 1px 1px);clip: rect(1px, 1px, 1px, 1px);height: 1px;margin: -1px;overflow: hidden;padding: 0;position: absolute;width: 1px;}#sk-container-id-6 div.sk-estimator {font-family: monospace;background-color: #f0f8ff;border: 1px dotted black;border-radius: 0.25em;box-sizing: border-box;margin-bottom: 0.5em;}#sk-container-id-6 div.sk-estimator:hover {background-color: #d4ebff;}#sk-container-id-6 div.sk-parallel-item::after {content: \"\";width: 100%;border-bottom: 1px solid gray;flex-grow: 1;}#sk-container-id-6 div.sk-label:hover label.sk-toggleable__label {background-color: #d4ebff;}#sk-container-id-6 div.sk-serial::before {content: \"\";position: absolute;border-left: 1px solid gray;box-sizing: border-box;top: 0;bottom: 0;left: 50%;z-index: 0;}#sk-container-id-6 div.sk-serial {display: flex;flex-direction: column;align-items: center;background-color: white;padding-right: 0.2em;padding-left: 0.2em;position: relative;}#sk-container-id-6 div.sk-item {position: relative;z-index: 1;}#sk-container-id-6 div.sk-parallel {display: flex;align-items: stretch;justify-content: center;background-color: white;position: relative;}#sk-container-id-6 div.sk-item::before, #sk-container-id-6 div.sk-parallel-item::before {content: \"\";position: absolute;border-left: 1px solid gray;box-sizing: border-box;top: 0;bottom: 0;left: 50%;z-index: -1;}#sk-container-id-6 div.sk-parallel-item {display: flex;flex-direction: column;z-index: 1;position: relative;background-color: white;}#sk-container-id-6 div.sk-parallel-item:first-child::after {align-self: flex-end;width: 50%;}#sk-container-id-6 div.sk-parallel-item:last-child::after {align-self: flex-start;width: 50%;}#sk-container-id-6 div.sk-parallel-item:only-child::after {width: 0;}#sk-container-id-6 div.sk-dashed-wrapped {border: 1px dashed gray;margin: 0 0.4em 0.5em 0.4em;box-sizing: border-box;padding-bottom: 0.4em;background-color: white;}#sk-container-id-6 div.sk-label label {font-family: monospace;font-weight: bold;display: inline-block;line-height: 1.2em;}#sk-container-id-6 div.sk-label-container {text-align: center;}#sk-container-id-6 div.sk-container {/* jupyter's `normalize.less` sets `[hidden] { display: none; }` but bootstrap.min.css set `[hidden] { display: none !important; }` so we also need the `!important` here to be able to override the default hidden behavior on the sphinx rendered scikit-learn.org. See: https://github.com/scikit-learn/scikit-learn/issues/21755 */display: inline-block !important;position: relative;}#sk-container-id-6 div.sk-text-repr-fallback {display: none;}</style><div id=\"sk-container-id-6\" class=\"sk-top-container\"><div class=\"sk-text-repr-fallback\"><pre>PCA(n_components=0.99, svd_solver=&#x27;full&#x27;)</pre><b>In a Jupyter environment, please rerun this cell to show the HTML representation or trust the notebook. <br />On GitHub, the HTML representation is unable to render, please try loading this page with nbviewer.org.</b></div><div class=\"sk-container\" hidden><div class=\"sk-item\"><div class=\"sk-estimator sk-toggleable\"><input class=\"sk-toggleable__control sk-hidden--visually\" id=\"sk-estimator-id-6\" type=\"checkbox\" checked><label for=\"sk-estimator-id-6\" class=\"sk-toggleable__label sk-toggleable__label-arrow\">PCA</label><div class=\"sk-toggleable__content\"><pre>PCA(n_components=0.99, svd_solver=&#x27;full&#x27;)</pre></div></div></div></div></div>"
            ]
          },
          "metadata": {},
          "execution_count": 34
        }
      ],
      "source": [
        "pca = PCA(n_components=0.99, svd_solver='full')\n",
        "pca.fit(train_x[LBL])"
      ]
    },
    {
      "cell_type": "code",
      "execution_count": null,
      "metadata": {
        "colab": {
          "base_uri": "https://localhost:8080/"
        },
        "outputId": "54b80467-b84c-44b4-fd54-da982222847b",
        "id": "qIBXii1WjC7h"
      },
      "outputs": [
        {
          "output_type": "stream",
          "name": "stdout",
          "text": [
            "Shape after feature reduction: (28520, 572)\n",
            "Shape after feature reduction: (750, 572)\n",
            "Shape after feature reduction: (744, 572)\n"
          ]
        }
      ],
      "source": [
        "train_x_trans = pd.DataFrame(pca.transform(train_x[LBL]))\n",
        "valid_x_trans = pd.DataFrame(pca.transform(valid_x[LBL]))\n",
        "test_x_trans = pd.DataFrame(pca.transform(test_x[LBL]))\n",
        "\n",
        "print(\"Shape after feature reduction:\", train_x_trans.shape)\n",
        "print(\"Shape after feature reduction:\", valid_x_trans.shape)\n",
        "print(\"Shape after feature reduction:\", test_x_trans.shape)"
      ]
    },
    {
      "cell_type": "markdown",
      "source": [
        "Number of features are reduced to 572."
      ],
      "metadata": {
        "id": "5GVNg-HOjC7i"
      }
    },
    {
      "cell_type": "markdown",
      "metadata": {
        "id": "veJK3bQujC7i"
      },
      "source": [
        "## Model Selection"
      ]
    },
    {
      "cell_type": "markdown",
      "metadata": {
        "id": "sCCrT3fojC7i"
      },
      "source": [
        "### Cross Validation"
      ]
    },
    {
      "cell_type": "markdown",
      "metadata": {
        "id": "zRKruw68jC7i"
      },
      "source": [
        "For Support Vector Machine(SVM) classifier"
      ]
    },
    {
      "cell_type": "code",
      "execution_count": null,
      "metadata": {
        "colab": {
          "base_uri": "https://localhost:8080/"
        },
        "outputId": "05910fc5-3bd9-4d55-da09-e4d6c90b5ce2",
        "id": "3C8hVfPCjC7i"
      },
      "outputs": [
        {
          "name": "stdout",
          "output_type": "stream",
          "text": [
            "Cross-validation scores: [0.93723703 0.93899018 0.93232819 0.93338008 0.93267882 0.93723703\n",
            " 0.9312763  0.94109397 0.93443198 0.93267882]\n",
            "Mean accuracy: 0.9351332398316972\n"
          ]
        }
      ],
      "source": [
        "svm_classifier = SVC(kernel='rbf')\n",
        "\n",
        "# Define the number of splits for k-fold cross-validation\n",
        "k_folds = 10\n",
        "kf = KFold(n_splits=k_folds, shuffle=True, random_state=42)\n",
        "\n",
        "# Perform k-fold cross-validation\n",
        "cv_scores = cross_val_score(svm_classifier, train_x_trans, train_y[LBL], cv=kf)\n",
        "\n",
        "# Print the cross-validation scores\n",
        "print(f\"Cross-validation scores: {cv_scores}\")\n",
        "print(f\"Mean accuracy: {np.mean(cv_scores)}\")\n"
      ]
    },
    {
      "cell_type": "markdown",
      "metadata": {
        "id": "luMJ00iLjC7i"
      },
      "source": [
        "For kNN classifier"
      ]
    },
    {
      "cell_type": "code",
      "execution_count": null,
      "metadata": {
        "colab": {
          "base_uri": "https://localhost:8080/"
        },
        "outputId": "ef287aa3-cef4-4c5b-bc3d-308ff054da40",
        "id": "1S6Y6KmWjC7i"
      },
      "outputs": [
        {
          "name": "stdout",
          "output_type": "stream",
          "text": [
            "Cross-validation scores: [0.82573633 0.83660589 0.83204769 0.8411641  0.83520337 0.83695652\n",
            " 0.82643759 0.83906031 0.83590463 0.82748948]\n",
            "Mean accuracy: 0.8336605890603087\n"
          ]
        }
      ],
      "source": [
        "knn_classifier = KNeighborsClassifier(n_neighbors=5)\n",
        "\n",
        "# Perform k-fold cross-validation\n",
        "cv_scores = cross_val_score(knn_classifier, train_x_trans, train_y[LBL], cv=kf)\n",
        "\n",
        "# Print the cross-validation scores\n",
        "print(f\"Cross-validation scores: {cv_scores}\")\n",
        "print(f\"Mean accuracy: {np.mean(cv_scores)}\")"
      ]
    },
    {
      "cell_type": "markdown",
      "metadata": {
        "id": "oL4R39XpjC7i"
      },
      "source": [
        "Since SVM has the highest mean accuracy, SVM classifier is selected as the classification model"
      ]
    },
    {
      "cell_type": "markdown",
      "metadata": {
        "id": "YH7llUtrjC7i"
      },
      "source": [
        "## Hyperparameter tuning"
      ]
    },
    {
      "cell_type": "markdown",
      "metadata": {
        "id": "GFYr1K5WjC7i"
      },
      "source": [
        "### Using Grid search"
      ]
    },
    {
      "cell_type": "code",
      "execution_count": null,
      "metadata": {
        "colab": {
          "base_uri": "https://localhost:8080/"
        },
        "outputId": "b4dc4121-89a8-4fee-f160-2cca12f445ae",
        "id": "nkCOkENnjC7i"
      },
      "outputs": [
        {
          "name": "stdout",
          "output_type": "stream",
          "text": [
            "Best Parameters: {'C': 10, 'kernel': 'rbf'}\n"
          ]
        }
      ],
      "source": [
        "# Define the parameter grid for grid search\n",
        "param_grid = {\n",
        "    'C': [0.1, 1, 10],\n",
        "    'kernel': ['rbf','linear','poly']\n",
        "}\n",
        "\n",
        "# Create the SVM model\n",
        "svm_model = SVC()\n",
        "\n",
        "# Create Grid Search object\n",
        "grid_search = GridSearchCV(svm_model, param_grid, cv=3, scoring='accuracy')\n",
        "\n",
        "# Fit the model\n",
        "grid_search.fit(train_x_trans, train_y[LBL])\n",
        "\n",
        "# Get the best parameters\n",
        "best_params = grid_search.best_params_\n",
        "print(\"Best Parameters:\", best_params)"
      ]
    },
    {
      "cell_type": "markdown",
      "source": [
        "C = 10 and kernel = 'rbf' are used for training the SVM model"
      ],
      "metadata": {
        "id": "-TtkZNZNjC7i"
      }
    },
    {
      "cell_type": "markdown",
      "metadata": {
        "id": "PIAKOTlqjC7j"
      },
      "source": [
        "## Train, Evaluation and Prediction"
      ]
    },
    {
      "cell_type": "markdown",
      "metadata": {
        "id": "i2XYStY7jC7j"
      },
      "source": [
        "Train the SVM classifier\n"
      ]
    },
    {
      "cell_type": "code",
      "execution_count": null,
      "metadata": {
        "colab": {
          "base_uri": "https://localhost:8080/",
          "height": 74
        },
        "outputId": "2c83fce0-ef81-42a4-9100-4a80ccf17a31",
        "id": "2Vkx4izjjC7j"
      },
      "outputs": [
        {
          "output_type": "execute_result",
          "data": {
            "text/plain": [
              "SVC(C=10)"
            ],
            "text/html": [
              "<style>#sk-container-id-7 {color: black;background-color: white;}#sk-container-id-7 pre{padding: 0;}#sk-container-id-7 div.sk-toggleable {background-color: white;}#sk-container-id-7 label.sk-toggleable__label {cursor: pointer;display: block;width: 100%;margin-bottom: 0;padding: 0.3em;box-sizing: border-box;text-align: center;}#sk-container-id-7 label.sk-toggleable__label-arrow:before {content: \"▸\";float: left;margin-right: 0.25em;color: #696969;}#sk-container-id-7 label.sk-toggleable__label-arrow:hover:before {color: black;}#sk-container-id-7 div.sk-estimator:hover label.sk-toggleable__label-arrow:before {color: black;}#sk-container-id-7 div.sk-toggleable__content {max-height: 0;max-width: 0;overflow: hidden;text-align: left;background-color: #f0f8ff;}#sk-container-id-7 div.sk-toggleable__content pre {margin: 0.2em;color: black;border-radius: 0.25em;background-color: #f0f8ff;}#sk-container-id-7 input.sk-toggleable__control:checked~div.sk-toggleable__content {max-height: 200px;max-width: 100%;overflow: auto;}#sk-container-id-7 input.sk-toggleable__control:checked~label.sk-toggleable__label-arrow:before {content: \"▾\";}#sk-container-id-7 div.sk-estimator input.sk-toggleable__control:checked~label.sk-toggleable__label {background-color: #d4ebff;}#sk-container-id-7 div.sk-label input.sk-toggleable__control:checked~label.sk-toggleable__label {background-color: #d4ebff;}#sk-container-id-7 input.sk-hidden--visually {border: 0;clip: rect(1px 1px 1px 1px);clip: rect(1px, 1px, 1px, 1px);height: 1px;margin: -1px;overflow: hidden;padding: 0;position: absolute;width: 1px;}#sk-container-id-7 div.sk-estimator {font-family: monospace;background-color: #f0f8ff;border: 1px dotted black;border-radius: 0.25em;box-sizing: border-box;margin-bottom: 0.5em;}#sk-container-id-7 div.sk-estimator:hover {background-color: #d4ebff;}#sk-container-id-7 div.sk-parallel-item::after {content: \"\";width: 100%;border-bottom: 1px solid gray;flex-grow: 1;}#sk-container-id-7 div.sk-label:hover label.sk-toggleable__label {background-color: #d4ebff;}#sk-container-id-7 div.sk-serial::before {content: \"\";position: absolute;border-left: 1px solid gray;box-sizing: border-box;top: 0;bottom: 0;left: 50%;z-index: 0;}#sk-container-id-7 div.sk-serial {display: flex;flex-direction: column;align-items: center;background-color: white;padding-right: 0.2em;padding-left: 0.2em;position: relative;}#sk-container-id-7 div.sk-item {position: relative;z-index: 1;}#sk-container-id-7 div.sk-parallel {display: flex;align-items: stretch;justify-content: center;background-color: white;position: relative;}#sk-container-id-7 div.sk-item::before, #sk-container-id-7 div.sk-parallel-item::before {content: \"\";position: absolute;border-left: 1px solid gray;box-sizing: border-box;top: 0;bottom: 0;left: 50%;z-index: -1;}#sk-container-id-7 div.sk-parallel-item {display: flex;flex-direction: column;z-index: 1;position: relative;background-color: white;}#sk-container-id-7 div.sk-parallel-item:first-child::after {align-self: flex-end;width: 50%;}#sk-container-id-7 div.sk-parallel-item:last-child::after {align-self: flex-start;width: 50%;}#sk-container-id-7 div.sk-parallel-item:only-child::after {width: 0;}#sk-container-id-7 div.sk-dashed-wrapped {border: 1px dashed gray;margin: 0 0.4em 0.5em 0.4em;box-sizing: border-box;padding-bottom: 0.4em;background-color: white;}#sk-container-id-7 div.sk-label label {font-family: monospace;font-weight: bold;display: inline-block;line-height: 1.2em;}#sk-container-id-7 div.sk-label-container {text-align: center;}#sk-container-id-7 div.sk-container {/* jupyter's `normalize.less` sets `[hidden] { display: none; }` but bootstrap.min.css set `[hidden] { display: none !important; }` so we also need the `!important` here to be able to override the default hidden behavior on the sphinx rendered scikit-learn.org. See: https://github.com/scikit-learn/scikit-learn/issues/21755 */display: inline-block !important;position: relative;}#sk-container-id-7 div.sk-text-repr-fallback {display: none;}</style><div id=\"sk-container-id-7\" class=\"sk-top-container\"><div class=\"sk-text-repr-fallback\"><pre>SVC(C=10)</pre><b>In a Jupyter environment, please rerun this cell to show the HTML representation or trust the notebook. <br />On GitHub, the HTML representation is unable to render, please try loading this page with nbviewer.org.</b></div><div class=\"sk-container\" hidden><div class=\"sk-item\"><div class=\"sk-estimator sk-toggleable\"><input class=\"sk-toggleable__control sk-hidden--visually\" id=\"sk-estimator-id-7\" type=\"checkbox\" checked><label for=\"sk-estimator-id-7\" class=\"sk-toggleable__label sk-toggleable__label-arrow\">SVC</label><div class=\"sk-toggleable__content\"><pre>SVC(C=10)</pre></div></div></div></div></div>"
            ]
          },
          "metadata": {},
          "execution_count": 36
        }
      ],
      "source": [
        "classifier = svm.SVC(kernel='rbf',C=10)\n",
        "classifier.fit(train_x_trans, train_y[LBL])"
      ]
    },
    {
      "cell_type": "markdown",
      "source": [
        "Prediction and evaluation for valid set."
      ],
      "metadata": {
        "id": "d1aPdkeCjC7j"
      }
    },
    {
      "cell_type": "code",
      "execution_count": null,
      "metadata": {
        "colab": {
          "base_uri": "https://localhost:8080/"
        },
        "outputId": "a08cf531-95a1-45fc-8186-f4e3f5eda336",
        "id": "RVqrYz8-jC7j"
      },
      "outputs": [
        {
          "output_type": "stream",
          "name": "stdout",
          "text": [
            "              precision    recall  f1-score   support\n",
            "\n",
            "           1       0.92      0.92      0.92        13\n",
            "           2       1.00      1.00      1.00         9\n",
            "           3       1.00      1.00      1.00        12\n",
            "           4       1.00      1.00      1.00        16\n",
            "           5       1.00      0.94      0.97        18\n",
            "           6       1.00      1.00      1.00         9\n",
            "           7       0.89      0.94      0.91        17\n",
            "           8       1.00      0.86      0.92        14\n",
            "           9       1.00      0.91      0.95        11\n",
            "          10       1.00      1.00      1.00         8\n",
            "          11       0.95      1.00      0.97        19\n",
            "          12       1.00      1.00      1.00         7\n",
            "          13       1.00      0.91      0.95        11\n",
            "          14       0.93      0.93      0.93        15\n",
            "          15       1.00      0.88      0.94        17\n",
            "          16       1.00      0.93      0.96        14\n",
            "          17       1.00      1.00      1.00        14\n",
            "          18       0.95      0.95      0.95        19\n",
            "          19       0.82      0.93      0.87        15\n",
            "          20       1.00      1.00      1.00        11\n",
            "          21       0.93      0.93      0.93        14\n",
            "          22       0.92      1.00      0.96        11\n",
            "          23       0.83      1.00      0.91        10\n",
            "          24       0.80      1.00      0.89        12\n",
            "          25       1.00      0.82      0.90        11\n",
            "          26       1.00      1.00      1.00         7\n",
            "          27       0.94      1.00      0.97        16\n",
            "          28       1.00      1.00      1.00        11\n",
            "          29       1.00      0.87      0.93        15\n",
            "          30       1.00      0.88      0.93         8\n",
            "          31       0.92      0.92      0.92        12\n",
            "          32       1.00      1.00      1.00         9\n",
            "          33       0.86      1.00      0.92         6\n",
            "          34       1.00      0.85      0.92        13\n",
            "          35       0.80      1.00      0.89         8\n",
            "          36       0.90      1.00      0.95        18\n",
            "          37       0.94      0.94      0.94        16\n",
            "          38       1.00      1.00      1.00        11\n",
            "          39       1.00      1.00      1.00        13\n",
            "          40       1.00      0.92      0.96        12\n",
            "          41       0.91      1.00      0.95        10\n",
            "          42       1.00      1.00      1.00        12\n",
            "          43       1.00      1.00      1.00        12\n",
            "          44       1.00      0.95      0.97        19\n",
            "          45       0.93      1.00      0.97        14\n",
            "          46       1.00      1.00      1.00        11\n",
            "          47       1.00      0.88      0.93         8\n",
            "          48       1.00      0.94      0.97        17\n",
            "          49       1.00      1.00      1.00        13\n",
            "          50       1.00      1.00      1.00        13\n",
            "          51       0.89      1.00      0.94         8\n",
            "          52       1.00      1.00      1.00        11\n",
            "          53       1.00      1.00      1.00        15\n",
            "          54       1.00      0.89      0.94         9\n",
            "          55       0.89      1.00      0.94         8\n",
            "          56       1.00      0.90      0.95        10\n",
            "          57       1.00      1.00      1.00        18\n",
            "          58       1.00      1.00      1.00        20\n",
            "          59       0.91      1.00      0.95        10\n",
            "          60       1.00      1.00      1.00        10\n",
            "\n",
            "    accuracy                           0.96       750\n",
            "   macro avg       0.96      0.96      0.96       750\n",
            "weighted avg       0.97      0.96      0.96       750\n",
            "\n"
          ]
        }
      ],
      "source": [
        "y_predict_valid = classifier.predict(valid_x_trans)\n",
        "print(classification_report(valid_y[LBL], y_predict_valid))"
      ]
    },
    {
      "cell_type": "markdown",
      "metadata": {
        "id": "7hy2lpUCjC7j"
      },
      "source": [
        "Prediction for test dataset"
      ]
    },
    {
      "cell_type": "code",
      "execution_count": null,
      "metadata": {
        "id": "AhNNys9CjC7j"
      },
      "outputs": [],
      "source": [
        "test_y[LBL] = classifier.predict(test_x_trans)"
      ]
    },
    {
      "cell_type": "markdown",
      "metadata": {
        "id": "oxyTyTQav85h"
      },
      "source": [
        "# For Label 2"
      ]
    },
    {
      "cell_type": "code",
      "execution_count": null,
      "metadata": {
        "id": "-fO_Wrphv_hv"
      },
      "outputs": [],
      "source": [
        "LBL = 'label_2'"
      ]
    },
    {
      "cell_type": "markdown",
      "metadata": {
        "id": "i7q3Bj5z64IJ"
      },
      "source": [
        "## Applying Feature Engineering techniques"
      ]
    },
    {
      "cell_type": "markdown",
      "metadata": {
        "id": "qzM31JWJfUQe"
      },
      "source": [
        "### Using Principal Component Analysis(PCA)\n",
        "\n"
      ]
    },
    {
      "cell_type": "markdown",
      "metadata": {
        "id": "Li6zKtCnfowQ"
      },
      "source": [
        "Apply PCA on original features"
      ]
    },
    {
      "cell_type": "code",
      "execution_count": null,
      "metadata": {
        "colab": {
          "base_uri": "https://localhost:8080/",
          "height": 74
        },
        "id": "ZtB5-Yl4v85p",
        "outputId": "ef7295b1-854c-420b-fece-ed17d4479c95"
      },
      "outputs": [
        {
          "output_type": "execute_result",
          "data": {
            "text/plain": [
              "PCA(n_components=0.99, svd_solver='full')"
            ],
            "text/html": [
              "<style>#sk-container-id-8 {color: black;background-color: white;}#sk-container-id-8 pre{padding: 0;}#sk-container-id-8 div.sk-toggleable {background-color: white;}#sk-container-id-8 label.sk-toggleable__label {cursor: pointer;display: block;width: 100%;margin-bottom: 0;padding: 0.3em;box-sizing: border-box;text-align: center;}#sk-container-id-8 label.sk-toggleable__label-arrow:before {content: \"▸\";float: left;margin-right: 0.25em;color: #696969;}#sk-container-id-8 label.sk-toggleable__label-arrow:hover:before {color: black;}#sk-container-id-8 div.sk-estimator:hover label.sk-toggleable__label-arrow:before {color: black;}#sk-container-id-8 div.sk-toggleable__content {max-height: 0;max-width: 0;overflow: hidden;text-align: left;background-color: #f0f8ff;}#sk-container-id-8 div.sk-toggleable__content pre {margin: 0.2em;color: black;border-radius: 0.25em;background-color: #f0f8ff;}#sk-container-id-8 input.sk-toggleable__control:checked~div.sk-toggleable__content {max-height: 200px;max-width: 100%;overflow: auto;}#sk-container-id-8 input.sk-toggleable__control:checked~label.sk-toggleable__label-arrow:before {content: \"▾\";}#sk-container-id-8 div.sk-estimator input.sk-toggleable__control:checked~label.sk-toggleable__label {background-color: #d4ebff;}#sk-container-id-8 div.sk-label input.sk-toggleable__control:checked~label.sk-toggleable__label {background-color: #d4ebff;}#sk-container-id-8 input.sk-hidden--visually {border: 0;clip: rect(1px 1px 1px 1px);clip: rect(1px, 1px, 1px, 1px);height: 1px;margin: -1px;overflow: hidden;padding: 0;position: absolute;width: 1px;}#sk-container-id-8 div.sk-estimator {font-family: monospace;background-color: #f0f8ff;border: 1px dotted black;border-radius: 0.25em;box-sizing: border-box;margin-bottom: 0.5em;}#sk-container-id-8 div.sk-estimator:hover {background-color: #d4ebff;}#sk-container-id-8 div.sk-parallel-item::after {content: \"\";width: 100%;border-bottom: 1px solid gray;flex-grow: 1;}#sk-container-id-8 div.sk-label:hover label.sk-toggleable__label {background-color: #d4ebff;}#sk-container-id-8 div.sk-serial::before {content: \"\";position: absolute;border-left: 1px solid gray;box-sizing: border-box;top: 0;bottom: 0;left: 50%;z-index: 0;}#sk-container-id-8 div.sk-serial {display: flex;flex-direction: column;align-items: center;background-color: white;padding-right: 0.2em;padding-left: 0.2em;position: relative;}#sk-container-id-8 div.sk-item {position: relative;z-index: 1;}#sk-container-id-8 div.sk-parallel {display: flex;align-items: stretch;justify-content: center;background-color: white;position: relative;}#sk-container-id-8 div.sk-item::before, #sk-container-id-8 div.sk-parallel-item::before {content: \"\";position: absolute;border-left: 1px solid gray;box-sizing: border-box;top: 0;bottom: 0;left: 50%;z-index: -1;}#sk-container-id-8 div.sk-parallel-item {display: flex;flex-direction: column;z-index: 1;position: relative;background-color: white;}#sk-container-id-8 div.sk-parallel-item:first-child::after {align-self: flex-end;width: 50%;}#sk-container-id-8 div.sk-parallel-item:last-child::after {align-self: flex-start;width: 50%;}#sk-container-id-8 div.sk-parallel-item:only-child::after {width: 0;}#sk-container-id-8 div.sk-dashed-wrapped {border: 1px dashed gray;margin: 0 0.4em 0.5em 0.4em;box-sizing: border-box;padding-bottom: 0.4em;background-color: white;}#sk-container-id-8 div.sk-label label {font-family: monospace;font-weight: bold;display: inline-block;line-height: 1.2em;}#sk-container-id-8 div.sk-label-container {text-align: center;}#sk-container-id-8 div.sk-container {/* jupyter's `normalize.less` sets `[hidden] { display: none; }` but bootstrap.min.css set `[hidden] { display: none !important; }` so we also need the `!important` here to be able to override the default hidden behavior on the sphinx rendered scikit-learn.org. See: https://github.com/scikit-learn/scikit-learn/issues/21755 */display: inline-block !important;position: relative;}#sk-container-id-8 div.sk-text-repr-fallback {display: none;}</style><div id=\"sk-container-id-8\" class=\"sk-top-container\"><div class=\"sk-text-repr-fallback\"><pre>PCA(n_components=0.99, svd_solver=&#x27;full&#x27;)</pre><b>In a Jupyter environment, please rerun this cell to show the HTML representation or trust the notebook. <br />On GitHub, the HTML representation is unable to render, please try loading this page with nbviewer.org.</b></div><div class=\"sk-container\" hidden><div class=\"sk-item\"><div class=\"sk-estimator sk-toggleable\"><input class=\"sk-toggleable__control sk-hidden--visually\" id=\"sk-estimator-id-8\" type=\"checkbox\" checked><label for=\"sk-estimator-id-8\" class=\"sk-toggleable__label sk-toggleable__label-arrow\">PCA</label><div class=\"sk-toggleable__content\"><pre>PCA(n_components=0.99, svd_solver=&#x27;full&#x27;)</pre></div></div></div></div></div>"
            ]
          },
          "metadata": {},
          "execution_count": 40
        }
      ],
      "source": [
        "pca = PCA(n_components=0.99, svd_solver='full')\n",
        "pca.fit(train_x[LBL])"
      ]
    },
    {
      "cell_type": "code",
      "execution_count": null,
      "metadata": {
        "colab": {
          "base_uri": "https://localhost:8080/"
        },
        "id": "0sdiQRhfv85q",
        "outputId": "bc68ef48-9392-4a8c-ca55-734820b82dfd"
      },
      "outputs": [
        {
          "output_type": "stream",
          "name": "stdout",
          "text": [
            "Shape after feature reduction: (28040, 571)\n",
            "Shape after feature reduction: (270, 571)\n",
            "Shape after feature reduction: (744, 571)\n"
          ]
        }
      ],
      "source": [
        "train_x_trans = pd.DataFrame(pca.transform(train_x[LBL]))\n",
        "valid_x_trans = pd.DataFrame(pca.transform(valid_x[LBL]))\n",
        "test_x_trans = pd.DataFrame(pca.transform(test_x[LBL]))\n",
        "\n",
        "print(\"Shape after feature reduction:\", train_x_trans.shape)\n",
        "print(\"Shape after feature reduction:\", valid_x_trans.shape)\n",
        "print(\"Shape after feature reduction:\", test_x_trans.shape)"
      ]
    },
    {
      "cell_type": "markdown",
      "source": [
        "Number of features are reduced to 571."
      ],
      "metadata": {
        "id": "pq9KXHBHpUPr"
      }
    },
    {
      "cell_type": "markdown",
      "metadata": {
        "id": "Qq84Yzmvv85q"
      },
      "source": [
        "## Model Selection"
      ]
    },
    {
      "cell_type": "markdown",
      "metadata": {
        "id": "kjV1T_eJv85q"
      },
      "source": [
        "### Cross Validation"
      ]
    },
    {
      "cell_type": "markdown",
      "metadata": {
        "id": "ZRMiudvmv85q"
      },
      "source": [
        "For Support Vector Machine(SVM) classifier"
      ]
    },
    {
      "cell_type": "code",
      "execution_count": null,
      "metadata": {
        "colab": {
          "base_uri": "https://localhost:8080/"
        },
        "id": "D7VGrdWTv85q",
        "outputId": "b044088c-e7ec-4103-b06b-8e8859e25b15"
      },
      "outputs": [
        {
          "name": "stdout",
          "output_type": "stream",
          "text": [
            "Cross-validation scores: [0.89300999 0.88801712 0.88445078 0.89728959 0.88552068 0.89586305\n",
            " 0.89265335 0.88266762 0.89443652 0.89158345]\n",
            "Mean accuracy: 0.890549215406562\n"
          ]
        }
      ],
      "source": [
        "svm_classifier = SVC(kernel='rbf')\n",
        "\n",
        "# Define the number of splits for k-fold cross-validation\n",
        "k_folds = 10\n",
        "kf = KFold(n_splits=k_folds, shuffle=True, random_state=42)\n",
        "\n",
        "# Perform k-fold cross-validation\n",
        "cv_scores = cross_val_score(svm_classifier, train_x_trans, train_y[LBL], cv=kf)\n",
        "\n",
        "# Print the cross-validation scores\n",
        "print(f\"Cross-validation scores: {cv_scores}\")\n",
        "print(f\"Mean accuracy: {np.mean(cv_scores)}\")\n"
      ]
    },
    {
      "cell_type": "markdown",
      "metadata": {
        "id": "lFiFgatvv85q"
      },
      "source": [
        "For kNN classifier"
      ]
    },
    {
      "cell_type": "code",
      "execution_count": null,
      "metadata": {
        "colab": {
          "base_uri": "https://localhost:8080/"
        },
        "id": "UxOq1GGnv85q",
        "outputId": "1a8fb9f9-dd01-4982-e9ca-c3b64f99faca"
      },
      "outputs": [
        {
          "name": "stdout",
          "output_type": "stream",
          "text": [
            "Cross-validation scores: [0.83523538 0.83666191 0.83523538 0.84343795 0.83844508 0.83024251\n",
            " 0.83202568 0.81990014 0.83238231 0.83701854]\n",
            "Mean accuracy: 0.834058487874465\n"
          ]
        }
      ],
      "source": [
        "knn_classifier = KNeighborsClassifier(n_neighbors=10)\n",
        "\n",
        "# Perform k-fold cross-validation\n",
        "cv_scores = cross_val_score(knn_classifier, train_x_trans, train_y[LBL], cv=kf)\n",
        "\n",
        "# Print the cross-validation scores\n",
        "print(f\"Cross-validation scores: {cv_scores}\")\n",
        "print(f\"Mean accuracy: {np.mean(cv_scores)}\")"
      ]
    },
    {
      "cell_type": "markdown",
      "metadata": {
        "id": "P2KpT8wxe7q1"
      },
      "source": [
        "For kNN Regressor"
      ]
    },
    {
      "cell_type": "code",
      "execution_count": null,
      "metadata": {
        "colab": {
          "base_uri": "https://localhost:8080/"
        },
        "id": "5mrpmZEie-jM",
        "outputId": "a92d9239-157a-40a0-e9ee-1f634876a716"
      },
      "outputs": [
        {
          "name": "stdout",
          "output_type": "stream",
          "text": [
            "Cross-validation scores: [0.77794691 0.76339131 0.70736884 0.7540827  0.76570915 0.75829413\n",
            " 0.80219981 0.75171115 0.80157323 0.76069942]\n",
            "Mean accuracy: 0.7642976670032424\n"
          ]
        }
      ],
      "source": [
        "knn_Regressor = KNeighborsRegressor(n_neighbors=10)\n",
        "\n",
        "# Perform k-fold cross-validation\n",
        "cv_scores = cross_val_score(knn_Regressor, train_x_trans, train_y[LBL], cv=kf)\n",
        "\n",
        "# Print the cross-validation scores\n",
        "print(f\"Cross-validation scores: {cv_scores}\")\n",
        "print(f\"Mean accuracy: {np.mean(cv_scores)}\")"
      ]
    },
    {
      "cell_type": "markdown",
      "metadata": {
        "id": "h6NsuStViPPH"
      },
      "source": [
        "For Random Forest classifier"
      ]
    },
    {
      "cell_type": "code",
      "execution_count": null,
      "metadata": {
        "colab": {
          "base_uri": "https://localhost:8080/"
        },
        "id": "PxjH4v-1iRl0",
        "outputId": "9591d135-5fca-485d-9d4f-3a6edc078e40"
      },
      "outputs": [
        {
          "name": "stdout",
          "output_type": "stream",
          "text": [
            "Cross-validation scores: [0.51141227 0.51355207 0.521398   0.53994294 0.53887304 0.51854494\n",
            " 0.5171184  0.50891583 0.5353067  0.51426534]\n",
            "Mean accuracy: 0.5219329529243937\n"
          ]
        }
      ],
      "source": [
        "random_forest_classifier = RandomForestClassifier(n_estimators=100, random_state=42)\n",
        "k_folds = 10\n",
        "kf = KFold(n_splits=k_folds, shuffle=True, random_state=42)\n",
        "# Perform k-fold cross-validation\n",
        "cv_scores = cross_val_score(random_forest_classifier, train_x_trans, train_y[LBL], cv=kf)\n",
        "\n",
        "# Print the cross-validation scores\n",
        "print(f\"Cross-validation scores: {cv_scores}\")\n",
        "print(f\"Mean accuracy: {np.mean(cv_scores)}\")"
      ]
    },
    {
      "cell_type": "markdown",
      "metadata": {
        "id": "Tk4F9UkVv85r"
      },
      "source": [
        "Since SVM has the highest mean accuracy, SVM classifier is selected as the classification model"
      ]
    },
    {
      "cell_type": "markdown",
      "metadata": {
        "id": "uKrqp-B-v85r"
      },
      "source": [
        "## Hyperparameter tuning"
      ]
    },
    {
      "cell_type": "markdown",
      "metadata": {
        "id": "dclJyDdNv85r"
      },
      "source": [
        "### Using Grid search"
      ]
    },
    {
      "cell_type": "code",
      "execution_count": null,
      "metadata": {
        "colab": {
          "base_uri": "https://localhost:8080/"
        },
        "id": "2hRJEWUuv85r",
        "outputId": "b4dc4121-89a8-4fee-f160-2cca12f445ae"
      },
      "outputs": [
        {
          "name": "stdout",
          "output_type": "stream",
          "text": [
            "Best Parameters: {'C': 10, 'kernel': 'rbf'}\n"
          ]
        }
      ],
      "source": [
        "# Define the parameter grid for grid search\n",
        "param_grid = {\n",
        "    'C': [1,10,100],\n",
        "    'kernel': ['rbf','linear','poly']\n",
        "}\n",
        "\n",
        "# Create the SVM model\n",
        "svm_model = SVC()\n",
        "\n",
        "# Create Grid Search object\n",
        "grid_search = GridSearchCV(svm_model, param_grid, cv=3, scoring='accuracy')\n",
        "\n",
        "# Fit the model\n",
        "grid_search.fit(train_x_trans, train_y[LBL])\n",
        "\n",
        "# Get the best parameters\n",
        "best_params = grid_search.best_params_\n",
        "print(\"Best Parameters:\", best_params)"
      ]
    },
    {
      "cell_type": "markdown",
      "source": [
        "C = 10 and kernel = 'rbf' are used for training the SVM model"
      ],
      "metadata": {
        "id": "x4jvtFyarOW1"
      }
    },
    {
      "cell_type": "markdown",
      "metadata": {
        "id": "hP0f-Dpuv85r"
      },
      "source": [
        "## Train, Evaluation and Prediction"
      ]
    },
    {
      "cell_type": "markdown",
      "metadata": {
        "id": "OVHzPEp1v85r"
      },
      "source": [
        "Train the SVM classifier\n"
      ]
    },
    {
      "cell_type": "code",
      "execution_count": null,
      "metadata": {
        "colab": {
          "base_uri": "https://localhost:8080/",
          "height": 74
        },
        "id": "r_jYqQ8Yv85r",
        "outputId": "56935990-25a3-44b9-bb08-7a8e1713fefb"
      },
      "outputs": [
        {
          "output_type": "execute_result",
          "data": {
            "text/plain": [
              "SVC(C=10)"
            ],
            "text/html": [
              "<style>#sk-container-id-9 {color: black;background-color: white;}#sk-container-id-9 pre{padding: 0;}#sk-container-id-9 div.sk-toggleable {background-color: white;}#sk-container-id-9 label.sk-toggleable__label {cursor: pointer;display: block;width: 100%;margin-bottom: 0;padding: 0.3em;box-sizing: border-box;text-align: center;}#sk-container-id-9 label.sk-toggleable__label-arrow:before {content: \"▸\";float: left;margin-right: 0.25em;color: #696969;}#sk-container-id-9 label.sk-toggleable__label-arrow:hover:before {color: black;}#sk-container-id-9 div.sk-estimator:hover label.sk-toggleable__label-arrow:before {color: black;}#sk-container-id-9 div.sk-toggleable__content {max-height: 0;max-width: 0;overflow: hidden;text-align: left;background-color: #f0f8ff;}#sk-container-id-9 div.sk-toggleable__content pre {margin: 0.2em;color: black;border-radius: 0.25em;background-color: #f0f8ff;}#sk-container-id-9 input.sk-toggleable__control:checked~div.sk-toggleable__content {max-height: 200px;max-width: 100%;overflow: auto;}#sk-container-id-9 input.sk-toggleable__control:checked~label.sk-toggleable__label-arrow:before {content: \"▾\";}#sk-container-id-9 div.sk-estimator input.sk-toggleable__control:checked~label.sk-toggleable__label {background-color: #d4ebff;}#sk-container-id-9 div.sk-label input.sk-toggleable__control:checked~label.sk-toggleable__label {background-color: #d4ebff;}#sk-container-id-9 input.sk-hidden--visually {border: 0;clip: rect(1px 1px 1px 1px);clip: rect(1px, 1px, 1px, 1px);height: 1px;margin: -1px;overflow: hidden;padding: 0;position: absolute;width: 1px;}#sk-container-id-9 div.sk-estimator {font-family: monospace;background-color: #f0f8ff;border: 1px dotted black;border-radius: 0.25em;box-sizing: border-box;margin-bottom: 0.5em;}#sk-container-id-9 div.sk-estimator:hover {background-color: #d4ebff;}#sk-container-id-9 div.sk-parallel-item::after {content: \"\";width: 100%;border-bottom: 1px solid gray;flex-grow: 1;}#sk-container-id-9 div.sk-label:hover label.sk-toggleable__label {background-color: #d4ebff;}#sk-container-id-9 div.sk-serial::before {content: \"\";position: absolute;border-left: 1px solid gray;box-sizing: border-box;top: 0;bottom: 0;left: 50%;z-index: 0;}#sk-container-id-9 div.sk-serial {display: flex;flex-direction: column;align-items: center;background-color: white;padding-right: 0.2em;padding-left: 0.2em;position: relative;}#sk-container-id-9 div.sk-item {position: relative;z-index: 1;}#sk-container-id-9 div.sk-parallel {display: flex;align-items: stretch;justify-content: center;background-color: white;position: relative;}#sk-container-id-9 div.sk-item::before, #sk-container-id-9 div.sk-parallel-item::before {content: \"\";position: absolute;border-left: 1px solid gray;box-sizing: border-box;top: 0;bottom: 0;left: 50%;z-index: -1;}#sk-container-id-9 div.sk-parallel-item {display: flex;flex-direction: column;z-index: 1;position: relative;background-color: white;}#sk-container-id-9 div.sk-parallel-item:first-child::after {align-self: flex-end;width: 50%;}#sk-container-id-9 div.sk-parallel-item:last-child::after {align-self: flex-start;width: 50%;}#sk-container-id-9 div.sk-parallel-item:only-child::after {width: 0;}#sk-container-id-9 div.sk-dashed-wrapped {border: 1px dashed gray;margin: 0 0.4em 0.5em 0.4em;box-sizing: border-box;padding-bottom: 0.4em;background-color: white;}#sk-container-id-9 div.sk-label label {font-family: monospace;font-weight: bold;display: inline-block;line-height: 1.2em;}#sk-container-id-9 div.sk-label-container {text-align: center;}#sk-container-id-9 div.sk-container {/* jupyter's `normalize.less` sets `[hidden] { display: none; }` but bootstrap.min.css set `[hidden] { display: none !important; }` so we also need the `!important` here to be able to override the default hidden behavior on the sphinx rendered scikit-learn.org. See: https://github.com/scikit-learn/scikit-learn/issues/21755 */display: inline-block !important;position: relative;}#sk-container-id-9 div.sk-text-repr-fallback {display: none;}</style><div id=\"sk-container-id-9\" class=\"sk-top-container\"><div class=\"sk-text-repr-fallback\"><pre>SVC(C=10)</pre><b>In a Jupyter environment, please rerun this cell to show the HTML representation or trust the notebook. <br />On GitHub, the HTML representation is unable to render, please try loading this page with nbviewer.org.</b></div><div class=\"sk-container\" hidden><div class=\"sk-item\"><div class=\"sk-estimator sk-toggleable\"><input class=\"sk-toggleable__control sk-hidden--visually\" id=\"sk-estimator-id-9\" type=\"checkbox\" checked><label for=\"sk-estimator-id-9\" class=\"sk-toggleable__label sk-toggleable__label-arrow\">SVC</label><div class=\"sk-toggleable__content\"><pre>SVC(C=10)</pre></div></div></div></div></div>"
            ]
          },
          "metadata": {},
          "execution_count": 42
        }
      ],
      "source": [
        "classifier = svm.SVC(kernel='rbf',C =10)\n",
        "classifier.fit(train_x_trans, train_y[LBL])"
      ]
    },
    {
      "cell_type": "markdown",
      "source": [
        "Prediction and evaluation for valid set."
      ],
      "metadata": {
        "id": "BnkIT8GPrs7r"
      }
    },
    {
      "cell_type": "code",
      "execution_count": null,
      "metadata": {
        "colab": {
          "base_uri": "https://localhost:8080/"
        },
        "id": "pthMHtS0sxPT",
        "outputId": "74555c65-af05-453a-b85c-4f636a48ab38"
      },
      "outputs": [
        {
          "output_type": "stream",
          "name": "stdout",
          "text": [
            "              precision    recall  f1-score   support\n",
            "\n",
            "        22.0       0.88      1.00      0.93         7\n",
            "        23.0       0.72      0.87      0.79        15\n",
            "        24.0       0.93      1.00      0.96        13\n",
            "        25.0       0.76      0.68      0.72        19\n",
            "        26.0       0.91      0.98      0.94        43\n",
            "        27.0       0.93      0.86      0.89        29\n",
            "        28.0       0.92      0.88      0.90        25\n",
            "        29.0       1.00      0.88      0.94        25\n",
            "        30.0       0.95      0.97      0.96        37\n",
            "        31.0       0.91      0.97      0.94        32\n",
            "        35.0       1.00      0.91      0.95        11\n",
            "        41.0       1.00      0.86      0.92        14\n",
            "\n",
            "    accuracy                           0.91       270\n",
            "   macro avg       0.91      0.90      0.90       270\n",
            "weighted avg       0.91      0.91      0.91       270\n",
            "\n"
          ]
        }
      ],
      "source": [
        "y_predict_valid = classifier.predict(valid_x_trans)\n",
        "print(classification_report(valid_y[LBL], y_predict_valid))"
      ]
    },
    {
      "cell_type": "markdown",
      "metadata": {
        "id": "UxEopbstv85s"
      },
      "source": [
        "Prediction for test dataset"
      ]
    },
    {
      "cell_type": "code",
      "execution_count": null,
      "metadata": {
        "id": "xtEJN-3Gv85s"
      },
      "outputs": [],
      "source": [
        "test_y[LBL] = classifier.predict(test_x_trans)"
      ]
    },
    {
      "cell_type": "markdown",
      "metadata": {
        "id": "BDuIrxjOicq_"
      },
      "source": [
        "# For Label 3"
      ]
    },
    {
      "cell_type": "code",
      "execution_count": null,
      "metadata": {
        "id": "S2urnfQwihtu"
      },
      "outputs": [],
      "source": [
        "LBL = 'label_3'"
      ]
    },
    {
      "cell_type": "markdown",
      "metadata": {
        "id": "zFiIPUcvicrA"
      },
      "source": [
        "## Applying Feature Engineering techniques"
      ]
    },
    {
      "cell_type": "markdown",
      "metadata": {
        "id": "oRy6m4thicrA"
      },
      "source": [
        "### Using Principal Component Analysis(PCA)"
      ]
    },
    {
      "cell_type": "markdown",
      "metadata": {
        "id": "WUfuMbV8icrB"
      },
      "source": [
        "Apply PCA on original features"
      ]
    },
    {
      "cell_type": "code",
      "execution_count": null,
      "metadata": {
        "colab": {
          "base_uri": "https://localhost:8080/",
          "height": 74
        },
        "id": "ZyeuZ15licrB",
        "outputId": "11dacef4-62a8-4bb0-e48c-ca387b71aa02"
      },
      "outputs": [
        {
          "output_type": "execute_result",
          "data": {
            "text/plain": [
              "PCA(n_components=0.85, svd_solver='full')"
            ],
            "text/html": [
              "<style>#sk-container-id-10 {color: black;background-color: white;}#sk-container-id-10 pre{padding: 0;}#sk-container-id-10 div.sk-toggleable {background-color: white;}#sk-container-id-10 label.sk-toggleable__label {cursor: pointer;display: block;width: 100%;margin-bottom: 0;padding: 0.3em;box-sizing: border-box;text-align: center;}#sk-container-id-10 label.sk-toggleable__label-arrow:before {content: \"▸\";float: left;margin-right: 0.25em;color: #696969;}#sk-container-id-10 label.sk-toggleable__label-arrow:hover:before {color: black;}#sk-container-id-10 div.sk-estimator:hover label.sk-toggleable__label-arrow:before {color: black;}#sk-container-id-10 div.sk-toggleable__content {max-height: 0;max-width: 0;overflow: hidden;text-align: left;background-color: #f0f8ff;}#sk-container-id-10 div.sk-toggleable__content pre {margin: 0.2em;color: black;border-radius: 0.25em;background-color: #f0f8ff;}#sk-container-id-10 input.sk-toggleable__control:checked~div.sk-toggleable__content {max-height: 200px;max-width: 100%;overflow: auto;}#sk-container-id-10 input.sk-toggleable__control:checked~label.sk-toggleable__label-arrow:before {content: \"▾\";}#sk-container-id-10 div.sk-estimator input.sk-toggleable__control:checked~label.sk-toggleable__label {background-color: #d4ebff;}#sk-container-id-10 div.sk-label input.sk-toggleable__control:checked~label.sk-toggleable__label {background-color: #d4ebff;}#sk-container-id-10 input.sk-hidden--visually {border: 0;clip: rect(1px 1px 1px 1px);clip: rect(1px, 1px, 1px, 1px);height: 1px;margin: -1px;overflow: hidden;padding: 0;position: absolute;width: 1px;}#sk-container-id-10 div.sk-estimator {font-family: monospace;background-color: #f0f8ff;border: 1px dotted black;border-radius: 0.25em;box-sizing: border-box;margin-bottom: 0.5em;}#sk-container-id-10 div.sk-estimator:hover {background-color: #d4ebff;}#sk-container-id-10 div.sk-parallel-item::after {content: \"\";width: 100%;border-bottom: 1px solid gray;flex-grow: 1;}#sk-container-id-10 div.sk-label:hover label.sk-toggleable__label {background-color: #d4ebff;}#sk-container-id-10 div.sk-serial::before {content: \"\";position: absolute;border-left: 1px solid gray;box-sizing: border-box;top: 0;bottom: 0;left: 50%;z-index: 0;}#sk-container-id-10 div.sk-serial {display: flex;flex-direction: column;align-items: center;background-color: white;padding-right: 0.2em;padding-left: 0.2em;position: relative;}#sk-container-id-10 div.sk-item {position: relative;z-index: 1;}#sk-container-id-10 div.sk-parallel {display: flex;align-items: stretch;justify-content: center;background-color: white;position: relative;}#sk-container-id-10 div.sk-item::before, #sk-container-id-10 div.sk-parallel-item::before {content: \"\";position: absolute;border-left: 1px solid gray;box-sizing: border-box;top: 0;bottom: 0;left: 50%;z-index: -1;}#sk-container-id-10 div.sk-parallel-item {display: flex;flex-direction: column;z-index: 1;position: relative;background-color: white;}#sk-container-id-10 div.sk-parallel-item:first-child::after {align-self: flex-end;width: 50%;}#sk-container-id-10 div.sk-parallel-item:last-child::after {align-self: flex-start;width: 50%;}#sk-container-id-10 div.sk-parallel-item:only-child::after {width: 0;}#sk-container-id-10 div.sk-dashed-wrapped {border: 1px dashed gray;margin: 0 0.4em 0.5em 0.4em;box-sizing: border-box;padding-bottom: 0.4em;background-color: white;}#sk-container-id-10 div.sk-label label {font-family: monospace;font-weight: bold;display: inline-block;line-height: 1.2em;}#sk-container-id-10 div.sk-label-container {text-align: center;}#sk-container-id-10 div.sk-container {/* jupyter's `normalize.less` sets `[hidden] { display: none; }` but bootstrap.min.css set `[hidden] { display: none !important; }` so we also need the `!important` here to be able to override the default hidden behavior on the sphinx rendered scikit-learn.org. See: https://github.com/scikit-learn/scikit-learn/issues/21755 */display: inline-block !important;position: relative;}#sk-container-id-10 div.sk-text-repr-fallback {display: none;}</style><div id=\"sk-container-id-10\" class=\"sk-top-container\"><div class=\"sk-text-repr-fallback\"><pre>PCA(n_components=0.85, svd_solver=&#x27;full&#x27;)</pre><b>In a Jupyter environment, please rerun this cell to show the HTML representation or trust the notebook. <br />On GitHub, the HTML representation is unable to render, please try loading this page with nbviewer.org.</b></div><div class=\"sk-container\" hidden><div class=\"sk-item\"><div class=\"sk-estimator sk-toggleable\"><input class=\"sk-toggleable__control sk-hidden--visually\" id=\"sk-estimator-id-10\" type=\"checkbox\" checked><label for=\"sk-estimator-id-10\" class=\"sk-toggleable__label sk-toggleable__label-arrow\">PCA</label><div class=\"sk-toggleable__content\"><pre>PCA(n_components=0.85, svd_solver=&#x27;full&#x27;)</pre></div></div></div></div></div>"
            ]
          },
          "metadata": {},
          "execution_count": 46
        }
      ],
      "source": [
        "pca = PCA(n_components=0.85, svd_solver='full')\n",
        "pca.fit(train_x[LBL])"
      ]
    },
    {
      "cell_type": "code",
      "execution_count": null,
      "metadata": {
        "colab": {
          "base_uri": "https://localhost:8080/"
        },
        "id": "HnjbZkVuicrC",
        "outputId": "4cb4b2f3-b9e5-455d-84e8-e3c69ffb3dc7"
      },
      "outputs": [
        {
          "output_type": "stream",
          "name": "stdout",
          "text": [
            "Shape after feature reduction: (28520, 120)\n",
            "Shape after feature reduction: (750, 120)\n",
            "Shape after feature reduction: (744, 120)\n"
          ]
        }
      ],
      "source": [
        "train_x_trans = pd.DataFrame(pca.transform(train_x[LBL]))\n",
        "valid_x_trans = pd.DataFrame(pca.transform(valid_x[LBL]))\n",
        "test_x_trans = pd.DataFrame(pca.transform(test_x[LBL]))\n",
        "\n",
        "print(\"Shape after feature reduction:\", train_x_trans.shape)\n",
        "print(\"Shape after feature reduction:\", valid_x_trans.shape)\n",
        "print(\"Shape after feature reduction:\", test_x_trans.shape)"
      ]
    },
    {
      "cell_type": "markdown",
      "source": [
        "Number of features are reduced to 120."
      ],
      "metadata": {
        "id": "kUhUTm3ApX6E"
      }
    },
    {
      "cell_type": "markdown",
      "metadata": {
        "id": "13PmEHsHicrC"
      },
      "source": [
        "## Model Selection"
      ]
    },
    {
      "cell_type": "markdown",
      "metadata": {
        "id": "WCLG_MGLicrC"
      },
      "source": [
        "### Cross Validation"
      ]
    },
    {
      "cell_type": "markdown",
      "metadata": {
        "id": "RHLIPKB3icrD"
      },
      "source": [
        "For Support Vector Machine(SVM) classifier"
      ]
    },
    {
      "cell_type": "code",
      "execution_count": null,
      "metadata": {
        "colab": {
          "base_uri": "https://localhost:8080/"
        },
        "id": "Isl_BQyLicrD",
        "outputId": "5844b3ef-382c-40f8-928e-e79e594bd4a9"
      },
      "outputs": [
        {
          "output_type": "stream",
          "name": "stdout",
          "text": [
            "Cross-validation scores: [0.99368864 0.9898317  0.99053296 0.9943899  0.9943899  0.98948107\n",
            " 0.99158485 0.98807854 0.9898317  0.99298738]\n",
            "Mean accuracy: 0.9914796633941092\n"
          ]
        }
      ],
      "source": [
        "svm_classifier = SVC(kernel='rbf')\n",
        "\n",
        "# Define the number of splits for k-fold cross-validation\n",
        "k_folds = 10\n",
        "kf = KFold(n_splits=k_folds, shuffle=True, random_state=42)\n",
        "\n",
        "# Perform k-fold cross-validation\n",
        "cv_scores = cross_val_score(svm_classifier, train_x_trans, train_y[LBL], cv=kf)\n",
        "\n",
        "# Print the cross-validation scores\n",
        "print(f\"Cross-validation scores: {cv_scores}\")\n",
        "print(f\"Mean accuracy: {np.mean(cv_scores)}\")\n"
      ]
    },
    {
      "cell_type": "markdown",
      "metadata": {
        "id": "XZlwaa6gicrD"
      },
      "source": [
        "For kNN classifier"
      ]
    },
    {
      "cell_type": "code",
      "execution_count": null,
      "metadata": {
        "colab": {
          "base_uri": "https://localhost:8080/"
        },
        "id": "peNNQwVwicrD",
        "outputId": "e4458fb6-68d6-4cff-c81d-33cecda85643"
      },
      "outputs": [
        {
          "name": "stdout",
          "output_type": "stream",
          "text": [
            "Cross-validation scores: [0.97791024 0.97615708 0.97335203 0.98141655 0.97545582 0.97791024\n",
            " 0.97685835 0.97545582 0.97826087 0.97826087]\n",
            "Mean accuracy: 0.9771037868162692\n"
          ]
        }
      ],
      "source": [
        "knn_classifier = KNeighborsClassifier(n_neighbors=5)\n",
        "\n",
        "# Perform k-fold cross-validation\n",
        "cv_scores = cross_val_score(knn_classifier, train_x_trans, train_y[LBL], cv=kf)\n",
        "\n",
        "# Print the cross-validation scores\n",
        "print(f\"Cross-validation scores: {cv_scores}\")\n",
        "print(f\"Mean accuracy: {np.mean(cv_scores)}\")"
      ]
    },
    {
      "cell_type": "markdown",
      "metadata": {
        "id": "-8faUNCwpqYb"
      },
      "source": [
        "For Logistic Regression"
      ]
    },
    {
      "cell_type": "code",
      "execution_count": null,
      "metadata": {
        "colab": {
          "base_uri": "https://localhost:8080/"
        },
        "id": "IDphEWLrpuCS",
        "outputId": "f639b009-a971-4262-b79d-f616197d11f2"
      },
      "outputs": [
        {
          "name": "stdout",
          "output_type": "stream",
          "text": [
            "Cross-validation scores: [0.99158485 0.98842917 0.98702665 0.98913043 0.9898317  0.98702665\n",
            " 0.98492286 0.98667602 0.98702665 0.98842917]\n",
            "Mean accuracy: 0.9880084151472651\n"
          ]
        }
      ],
      "source": [
        "logistic_regression_classifier = LogisticRegression(max_iter=10000)\n",
        "\n",
        "cv_scores = cross_val_score(logistic_regression_classifier, train_x_trans, train_y[LBL], cv=kf)\n",
        "\n",
        "# Print the cross-validation scores\n",
        "print(f\"Cross-validation scores: {cv_scores}\")\n",
        "print(f\"Mean accuracy: {np.mean(cv_scores)}\")\n"
      ]
    },
    {
      "cell_type": "markdown",
      "metadata": {
        "id": "24OtRC1bPsSY"
      },
      "source": [
        "For XGBoost classifier"
      ]
    },
    {
      "cell_type": "code",
      "execution_count": null,
      "metadata": {
        "colab": {
          "base_uri": "https://localhost:8080/"
        },
        "id": "zrHIJmB8Pw0q",
        "outputId": "d9423a94-3bb9-491d-8ecb-0eb4bcb6dd2c"
      },
      "outputs": [
        {
          "name": "stdout",
          "output_type": "stream",
          "text": [
            "Cross-validation scores: [0.98141655 0.97826087 0.98281907 0.98316971 0.98352034 0.98106592\n",
            " 0.98246844 0.98246844 0.98176718 0.98281907]\n",
            "Mean accuracy: 0.9819775596072932\n"
          ]
        }
      ],
      "source": [
        "xgb_classifier = xgb.XGBClassifier()\n",
        "\n",
        "cv_scores = cross_val_score(xgb_classifier, train_x_trans, train_y[LBL], cv=kf)\n",
        "\n",
        "# Print the cross-validation scores\n",
        "print(f\"Cross-validation scores: {cv_scores}\")\n",
        "print(f\"Mean accuracy: {np.mean(cv_scores)}\")"
      ]
    },
    {
      "cell_type": "markdown",
      "metadata": {
        "id": "HzJn9IdiicrE"
      },
      "source": [
        "Since SVM has the highest mean accuracy, SVM classifier is selected as the classification model"
      ]
    },
    {
      "cell_type": "markdown",
      "metadata": {
        "id": "iVj6ANexicrE"
      },
      "source": [
        "## Hyperparameter tuning"
      ]
    },
    {
      "cell_type": "markdown",
      "metadata": {
        "id": "pjd0G_eWicrE"
      },
      "source": [
        "### Using Grid search"
      ]
    },
    {
      "cell_type": "code",
      "execution_count": null,
      "metadata": {
        "colab": {
          "base_uri": "https://localhost:8080/"
        },
        "id": "IGmut4UYicrE",
        "outputId": "3fee7c90-547f-48fb-e60e-4d3844156c9c"
      },
      "outputs": [
        {
          "output_type": "stream",
          "name": "stdout",
          "text": [
            "Best Parameters: {'C': 10, 'kernel': 'rbf'}\n"
          ]
        }
      ],
      "source": [
        "# Define the parameter grid for grid search\n",
        "param_grid = {\n",
        "    'C' : [0.1, 1, 10],\n",
        "    'kernel': ['rbf','linear','poly']\n",
        "}\n",
        "\n",
        "# Create the SVM model\n",
        "svm_model = SVC()\n",
        "\n",
        "# Create Grid Search object\n",
        "grid_search = GridSearchCV(svm_model, param_grid, cv=3, scoring='accuracy')\n",
        "\n",
        "# Fit the model\n",
        "grid_search.fit(train_x_trans, train_y[LBL])\n",
        "\n",
        "# Get the best parameters\n",
        "best_params = grid_search.best_params_\n",
        "print(\"Best Parameters:\", best_params)"
      ]
    },
    {
      "cell_type": "markdown",
      "source": [
        "C = 10 and kernel = 'rbf' is used for training the SVM model"
      ],
      "metadata": {
        "id": "up9YGu_frbWQ"
      }
    },
    {
      "cell_type": "markdown",
      "metadata": {
        "id": "CjCg2S0oicrF"
      },
      "source": [
        "## Train, Evaluation and Prediction"
      ]
    },
    {
      "cell_type": "markdown",
      "metadata": {
        "id": "Z5thtnTvicrF"
      },
      "source": [
        "Train the SVM classifier\n"
      ]
    },
    {
      "cell_type": "code",
      "execution_count": null,
      "metadata": {
        "colab": {
          "base_uri": "https://localhost:8080/",
          "height": 74
        },
        "id": "xEXCLOpJicrF",
        "outputId": "42ec97b2-09a8-474b-83b1-4b6213d4d9de"
      },
      "outputs": [
        {
          "output_type": "execute_result",
          "data": {
            "text/plain": [
              "SVC(C=10)"
            ],
            "text/html": [
              "<style>#sk-container-id-11 {color: black;background-color: white;}#sk-container-id-11 pre{padding: 0;}#sk-container-id-11 div.sk-toggleable {background-color: white;}#sk-container-id-11 label.sk-toggleable__label {cursor: pointer;display: block;width: 100%;margin-bottom: 0;padding: 0.3em;box-sizing: border-box;text-align: center;}#sk-container-id-11 label.sk-toggleable__label-arrow:before {content: \"▸\";float: left;margin-right: 0.25em;color: #696969;}#sk-container-id-11 label.sk-toggleable__label-arrow:hover:before {color: black;}#sk-container-id-11 div.sk-estimator:hover label.sk-toggleable__label-arrow:before {color: black;}#sk-container-id-11 div.sk-toggleable__content {max-height: 0;max-width: 0;overflow: hidden;text-align: left;background-color: #f0f8ff;}#sk-container-id-11 div.sk-toggleable__content pre {margin: 0.2em;color: black;border-radius: 0.25em;background-color: #f0f8ff;}#sk-container-id-11 input.sk-toggleable__control:checked~div.sk-toggleable__content {max-height: 200px;max-width: 100%;overflow: auto;}#sk-container-id-11 input.sk-toggleable__control:checked~label.sk-toggleable__label-arrow:before {content: \"▾\";}#sk-container-id-11 div.sk-estimator input.sk-toggleable__control:checked~label.sk-toggleable__label {background-color: #d4ebff;}#sk-container-id-11 div.sk-label input.sk-toggleable__control:checked~label.sk-toggleable__label {background-color: #d4ebff;}#sk-container-id-11 input.sk-hidden--visually {border: 0;clip: rect(1px 1px 1px 1px);clip: rect(1px, 1px, 1px, 1px);height: 1px;margin: -1px;overflow: hidden;padding: 0;position: absolute;width: 1px;}#sk-container-id-11 div.sk-estimator {font-family: monospace;background-color: #f0f8ff;border: 1px dotted black;border-radius: 0.25em;box-sizing: border-box;margin-bottom: 0.5em;}#sk-container-id-11 div.sk-estimator:hover {background-color: #d4ebff;}#sk-container-id-11 div.sk-parallel-item::after {content: \"\";width: 100%;border-bottom: 1px solid gray;flex-grow: 1;}#sk-container-id-11 div.sk-label:hover label.sk-toggleable__label {background-color: #d4ebff;}#sk-container-id-11 div.sk-serial::before {content: \"\";position: absolute;border-left: 1px solid gray;box-sizing: border-box;top: 0;bottom: 0;left: 50%;z-index: 0;}#sk-container-id-11 div.sk-serial {display: flex;flex-direction: column;align-items: center;background-color: white;padding-right: 0.2em;padding-left: 0.2em;position: relative;}#sk-container-id-11 div.sk-item {position: relative;z-index: 1;}#sk-container-id-11 div.sk-parallel {display: flex;align-items: stretch;justify-content: center;background-color: white;position: relative;}#sk-container-id-11 div.sk-item::before, #sk-container-id-11 div.sk-parallel-item::before {content: \"\";position: absolute;border-left: 1px solid gray;box-sizing: border-box;top: 0;bottom: 0;left: 50%;z-index: -1;}#sk-container-id-11 div.sk-parallel-item {display: flex;flex-direction: column;z-index: 1;position: relative;background-color: white;}#sk-container-id-11 div.sk-parallel-item:first-child::after {align-self: flex-end;width: 50%;}#sk-container-id-11 div.sk-parallel-item:last-child::after {align-self: flex-start;width: 50%;}#sk-container-id-11 div.sk-parallel-item:only-child::after {width: 0;}#sk-container-id-11 div.sk-dashed-wrapped {border: 1px dashed gray;margin: 0 0.4em 0.5em 0.4em;box-sizing: border-box;padding-bottom: 0.4em;background-color: white;}#sk-container-id-11 div.sk-label label {font-family: monospace;font-weight: bold;display: inline-block;line-height: 1.2em;}#sk-container-id-11 div.sk-label-container {text-align: center;}#sk-container-id-11 div.sk-container {/* jupyter's `normalize.less` sets `[hidden] { display: none; }` but bootstrap.min.css set `[hidden] { display: none !important; }` so we also need the `!important` here to be able to override the default hidden behavior on the sphinx rendered scikit-learn.org. See: https://github.com/scikit-learn/scikit-learn/issues/21755 */display: inline-block !important;position: relative;}#sk-container-id-11 div.sk-text-repr-fallback {display: none;}</style><div id=\"sk-container-id-11\" class=\"sk-top-container\"><div class=\"sk-text-repr-fallback\"><pre>SVC(C=10)</pre><b>In a Jupyter environment, please rerun this cell to show the HTML representation or trust the notebook. <br />On GitHub, the HTML representation is unable to render, please try loading this page with nbviewer.org.</b></div><div class=\"sk-container\" hidden><div class=\"sk-item\"><div class=\"sk-estimator sk-toggleable\"><input class=\"sk-toggleable__control sk-hidden--visually\" id=\"sk-estimator-id-11\" type=\"checkbox\" checked><label for=\"sk-estimator-id-11\" class=\"sk-toggleable__label sk-toggleable__label-arrow\">SVC</label><div class=\"sk-toggleable__content\"><pre>SVC(C=10)</pre></div></div></div></div></div>"
            ]
          },
          "metadata": {},
          "execution_count": 48
        }
      ],
      "source": [
        "classifier = svm.SVC(kernel='rbf', C = 10)\n",
        "classifier.fit(train_x_trans, train_y[LBL])"
      ]
    },
    {
      "cell_type": "markdown",
      "source": [
        "Prediction and evaluation for valid set."
      ],
      "metadata": {
        "id": "yYfb7yiBrxwW"
      }
    },
    {
      "cell_type": "code",
      "execution_count": null,
      "metadata": {
        "colab": {
          "base_uri": "https://localhost:8080/"
        },
        "id": "ksfHqUyMicrF",
        "outputId": "170617f4-ad7e-4c05-bd25-96227a100fc6"
      },
      "outputs": [
        {
          "output_type": "stream",
          "name": "stdout",
          "text": [
            "              precision    recall  f1-score   support\n",
            "\n",
            "           0       0.99      1.00      0.99       142\n",
            "           1       1.00      1.00      1.00       608\n",
            "\n",
            "    accuracy                           1.00       750\n",
            "   macro avg       0.99      1.00      1.00       750\n",
            "weighted avg       1.00      1.00      1.00       750\n",
            "\n"
          ]
        }
      ],
      "source": [
        "y_predict_valid = classifier.predict(valid_x_trans)\n",
        "print(classification_report(valid_y[LBL], y_predict_valid))"
      ]
    },
    {
      "cell_type": "markdown",
      "metadata": {
        "id": "ZLMBDZDwicrF"
      },
      "source": [
        "Prediction for test dataset"
      ]
    },
    {
      "cell_type": "code",
      "execution_count": null,
      "metadata": {
        "id": "susXCP81icrG"
      },
      "outputs": [],
      "source": [
        "test_y[LBL] = classifier.predict(test_x_trans)"
      ]
    },
    {
      "cell_type": "markdown",
      "metadata": {
        "id": "1ESSgD_NjBpr"
      },
      "source": [
        "# For Label 4"
      ]
    },
    {
      "cell_type": "code",
      "execution_count": null,
      "metadata": {
        "id": "XL3TjnsfjL6L"
      },
      "outputs": [],
      "source": [
        "LBL = 'label_4'"
      ]
    },
    {
      "cell_type": "markdown",
      "metadata": {
        "id": "3ho7dnPyjBps"
      },
      "source": [
        "## Applying Feature Engineering techniques"
      ]
    },
    {
      "cell_type": "markdown",
      "metadata": {
        "id": "LVIcCJNyjBps"
      },
      "source": [
        "### Using Principal Component Analysis(PCA)\n"
      ]
    },
    {
      "cell_type": "markdown",
      "metadata": {
        "id": "6wVEBRyKjBps"
      },
      "source": [
        "Apply PCA on original features"
      ]
    },
    {
      "cell_type": "code",
      "execution_count": null,
      "metadata": {
        "colab": {
          "base_uri": "https://localhost:8080/",
          "height": 74
        },
        "id": "bVATBCf_jBpt",
        "outputId": "4cf98ee8-3fae-4c36-ef5a-8ac9b0bdcfb9"
      },
      "outputs": [
        {
          "output_type": "execute_result",
          "data": {
            "text/plain": [
              "PCA(n_components=0.99, svd_solver='full')"
            ],
            "text/html": [
              "<style>#sk-container-id-12 {color: black;background-color: white;}#sk-container-id-12 pre{padding: 0;}#sk-container-id-12 div.sk-toggleable {background-color: white;}#sk-container-id-12 label.sk-toggleable__label {cursor: pointer;display: block;width: 100%;margin-bottom: 0;padding: 0.3em;box-sizing: border-box;text-align: center;}#sk-container-id-12 label.sk-toggleable__label-arrow:before {content: \"▸\";float: left;margin-right: 0.25em;color: #696969;}#sk-container-id-12 label.sk-toggleable__label-arrow:hover:before {color: black;}#sk-container-id-12 div.sk-estimator:hover label.sk-toggleable__label-arrow:before {color: black;}#sk-container-id-12 div.sk-toggleable__content {max-height: 0;max-width: 0;overflow: hidden;text-align: left;background-color: #f0f8ff;}#sk-container-id-12 div.sk-toggleable__content pre {margin: 0.2em;color: black;border-radius: 0.25em;background-color: #f0f8ff;}#sk-container-id-12 input.sk-toggleable__control:checked~div.sk-toggleable__content {max-height: 200px;max-width: 100%;overflow: auto;}#sk-container-id-12 input.sk-toggleable__control:checked~label.sk-toggleable__label-arrow:before {content: \"▾\";}#sk-container-id-12 div.sk-estimator input.sk-toggleable__control:checked~label.sk-toggleable__label {background-color: #d4ebff;}#sk-container-id-12 div.sk-label input.sk-toggleable__control:checked~label.sk-toggleable__label {background-color: #d4ebff;}#sk-container-id-12 input.sk-hidden--visually {border: 0;clip: rect(1px 1px 1px 1px);clip: rect(1px, 1px, 1px, 1px);height: 1px;margin: -1px;overflow: hidden;padding: 0;position: absolute;width: 1px;}#sk-container-id-12 div.sk-estimator {font-family: monospace;background-color: #f0f8ff;border: 1px dotted black;border-radius: 0.25em;box-sizing: border-box;margin-bottom: 0.5em;}#sk-container-id-12 div.sk-estimator:hover {background-color: #d4ebff;}#sk-container-id-12 div.sk-parallel-item::after {content: \"\";width: 100%;border-bottom: 1px solid gray;flex-grow: 1;}#sk-container-id-12 div.sk-label:hover label.sk-toggleable__label {background-color: #d4ebff;}#sk-container-id-12 div.sk-serial::before {content: \"\";position: absolute;border-left: 1px solid gray;box-sizing: border-box;top: 0;bottom: 0;left: 50%;z-index: 0;}#sk-container-id-12 div.sk-serial {display: flex;flex-direction: column;align-items: center;background-color: white;padding-right: 0.2em;padding-left: 0.2em;position: relative;}#sk-container-id-12 div.sk-item {position: relative;z-index: 1;}#sk-container-id-12 div.sk-parallel {display: flex;align-items: stretch;justify-content: center;background-color: white;position: relative;}#sk-container-id-12 div.sk-item::before, #sk-container-id-12 div.sk-parallel-item::before {content: \"\";position: absolute;border-left: 1px solid gray;box-sizing: border-box;top: 0;bottom: 0;left: 50%;z-index: -1;}#sk-container-id-12 div.sk-parallel-item {display: flex;flex-direction: column;z-index: 1;position: relative;background-color: white;}#sk-container-id-12 div.sk-parallel-item:first-child::after {align-self: flex-end;width: 50%;}#sk-container-id-12 div.sk-parallel-item:last-child::after {align-self: flex-start;width: 50%;}#sk-container-id-12 div.sk-parallel-item:only-child::after {width: 0;}#sk-container-id-12 div.sk-dashed-wrapped {border: 1px dashed gray;margin: 0 0.4em 0.5em 0.4em;box-sizing: border-box;padding-bottom: 0.4em;background-color: white;}#sk-container-id-12 div.sk-label label {font-family: monospace;font-weight: bold;display: inline-block;line-height: 1.2em;}#sk-container-id-12 div.sk-label-container {text-align: center;}#sk-container-id-12 div.sk-container {/* jupyter's `normalize.less` sets `[hidden] { display: none; }` but bootstrap.min.css set `[hidden] { display: none !important; }` so we also need the `!important` here to be able to override the default hidden behavior on the sphinx rendered scikit-learn.org. See: https://github.com/scikit-learn/scikit-learn/issues/21755 */display: inline-block !important;position: relative;}#sk-container-id-12 div.sk-text-repr-fallback {display: none;}</style><div id=\"sk-container-id-12\" class=\"sk-top-container\"><div class=\"sk-text-repr-fallback\"><pre>PCA(n_components=0.99, svd_solver=&#x27;full&#x27;)</pre><b>In a Jupyter environment, please rerun this cell to show the HTML representation or trust the notebook. <br />On GitHub, the HTML representation is unable to render, please try loading this page with nbviewer.org.</b></div><div class=\"sk-container\" hidden><div class=\"sk-item\"><div class=\"sk-estimator sk-toggleable\"><input class=\"sk-toggleable__control sk-hidden--visually\" id=\"sk-estimator-id-12\" type=\"checkbox\" checked><label for=\"sk-estimator-id-12\" class=\"sk-toggleable__label sk-toggleable__label-arrow\">PCA</label><div class=\"sk-toggleable__content\"><pre>PCA(n_components=0.99, svd_solver=&#x27;full&#x27;)</pre></div></div></div></div></div>"
            ]
          },
          "metadata": {},
          "execution_count": 52
        }
      ],
      "source": [
        "pca = PCA(n_components=0.99, svd_solver='full')\n",
        "pca.fit(train_x[LBL])"
      ]
    },
    {
      "cell_type": "code",
      "execution_count": null,
      "metadata": {
        "colab": {
          "base_uri": "https://localhost:8080/"
        },
        "id": "A0sHRNp2jBpt",
        "outputId": "cfdef182-a729-4665-bea3-177ac993a558"
      },
      "outputs": [
        {
          "output_type": "stream",
          "name": "stdout",
          "text": [
            "Shape after feature reduction: (28520, 572)\n",
            "Shape after feature reduction: (750, 572)\n",
            "Shape after feature reduction: (744, 572)\n"
          ]
        }
      ],
      "source": [
        "train_x_trans = pd.DataFrame(pca.transform(train_x[LBL]))\n",
        "valid_x_trans = pd.DataFrame(pca.transform(valid_x[LBL]))\n",
        "test_x_trans = pd.DataFrame(pca.transform(test_x[LBL]))\n",
        "\n",
        "print(\"Shape after feature reduction:\", train_x_trans.shape)\n",
        "print(\"Shape after feature reduction:\", valid_x_trans.shape)\n",
        "print(\"Shape after feature reduction:\", test_x_trans.shape)"
      ]
    },
    {
      "cell_type": "markdown",
      "source": [
        "Number of features are reduced to 572."
      ],
      "metadata": {
        "id": "-oHrWNPbpbWI"
      }
    },
    {
      "cell_type": "markdown",
      "metadata": {
        "id": "XybXsRH-jBpu"
      },
      "source": [
        "## Model Selection"
      ]
    },
    {
      "cell_type": "markdown",
      "metadata": {
        "id": "0RFEdmFHjBpu"
      },
      "source": [
        "### Cross Validation"
      ]
    },
    {
      "cell_type": "markdown",
      "metadata": {
        "id": "EEgnvvx6jBpu"
      },
      "source": [
        "For Support Vector Machine(SVM) classifier"
      ]
    },
    {
      "cell_type": "code",
      "execution_count": null,
      "metadata": {
        "colab": {
          "background_save": true
        },
        "id": "eVkrFufYjBpu",
        "outputId": "c2a7b3e2-5200-4005-be63-5d3976a9815f"
      },
      "outputs": [
        {
          "name": "stdout",
          "output_type": "stream",
          "text": [
            "Cross-validation scores: [0.94319776 0.94635344 0.94074334 0.95056101 0.95056101 0.94600281\n",
            " 0.94600281 0.9470547  0.94915849 0.94249649]\n",
            "Mean accuracy: 0.9462131837307155\n"
          ]
        }
      ],
      "source": [
        "svm_classifier = SVC(kernel='rbf')\n",
        "\n",
        "# Define the number of splits for k-fold cross-validation\n",
        "k_folds = 10\n",
        "kf = KFold(n_splits=k_folds, shuffle=True, random_state=42)\n",
        "\n",
        "# Perform k-fold cross-validation\n",
        "cv_scores = cross_val_score(svm_classifier, train_x_trans, train_y[LBL], cv=kf)\n",
        "\n",
        "# Print the cross-validation scores\n",
        "print(f\"Cross-validation scores: {cv_scores}\")\n",
        "print(f\"Mean accuracy: {np.mean(cv_scores)}\")\n"
      ]
    },
    {
      "cell_type": "markdown",
      "metadata": {
        "id": "hFa25lJ8jBpv"
      },
      "source": [
        "For kNN classifier"
      ]
    },
    {
      "cell_type": "code",
      "execution_count": null,
      "metadata": {
        "colab": {
          "background_save": true
        },
        "id": "4VPb1HGPjBpv",
        "outputId": "4badb533-05e9-45d6-e8f6-3777e58cf300"
      },
      "outputs": [
        {
          "name": "stdout",
          "output_type": "stream",
          "text": [
            "Cross-validation scores: [0.91690042 0.93197756 0.92356241 0.92952314 0.9302244  0.92671809\n",
            " 0.92496494 0.92987377 0.92882188 0.9200561 ]\n",
            "Mean accuracy: 0.9262622720897615\n"
          ]
        }
      ],
      "source": [
        "knn_classifier = KNeighborsClassifier(n_neighbors=5)\n",
        "\n",
        "# Perform k-fold cross-validation\n",
        "cv_scores = cross_val_score(knn_classifier, train_x_trans, train_y[LBL], cv=kf)\n",
        "\n",
        "# Print the cross-validation scores\n",
        "print(f\"Cross-validation scores: {cv_scores}\")\n",
        "print(f\"Mean accuracy: {np.mean(cv_scores)}\")"
      ]
    },
    {
      "cell_type": "markdown",
      "metadata": {
        "id": "ftqVuU1jjBpw"
      },
      "source": [
        "For Random Forest classifier"
      ]
    },
    {
      "cell_type": "code",
      "execution_count": null,
      "metadata": {
        "colab": {
          "background_save": true
        },
        "id": "OhTQx_-yjBpx",
        "outputId": "3ff2cb9d-e0c1-4922-e819-cb93aeeb9457"
      },
      "outputs": [
        {
          "name": "stdout",
          "output_type": "stream",
          "text": [
            "Cross-validation scores: [0.69565217 0.707223   0.70021038 0.71388499 0.72265077 0.71423562\n",
            " 0.71178121 0.71072931 0.71037868 0.69670407]\n",
            "Mean accuracy: 0.7083450210378681\n"
          ]
        }
      ],
      "source": [
        "random_forest_classifier = RandomForestClassifier(n_estimators=100, random_state=42)\n",
        "\n",
        "# Perform k-fold cross-validation\n",
        "cv_scores = cross_val_score(random_forest_classifier, train_x_trans, train_y[LBL], cv=kf)\n",
        "\n",
        "# Print the cross-validation scores\n",
        "print(f\"Cross-validation scores: {cv_scores}\")\n",
        "print(f\"Mean accuracy: {np.mean(cv_scores)}\")\n"
      ]
    },
    {
      "cell_type": "markdown",
      "metadata": {
        "id": "glLOWbAAjBpx"
      },
      "source": [
        "Since SVM has the highest mean accuracy, SVM classifier is selected as the classification model"
      ]
    },
    {
      "cell_type": "markdown",
      "metadata": {
        "id": "Hie6p-hnjBpx"
      },
      "source": [
        "## Hyperparameter tuning"
      ]
    },
    {
      "cell_type": "markdown",
      "metadata": {
        "id": "3GLaACvQjBpx"
      },
      "source": [
        "### Using Grid search"
      ]
    },
    {
      "cell_type": "code",
      "execution_count": null,
      "metadata": {
        "id": "qafFNTAxjBpx",
        "colab": {
          "base_uri": "https://localhost:8080/"
        },
        "outputId": "e2694295-df56-416a-ae60-381315dfb38a"
      },
      "outputs": [
        {
          "output_type": "stream",
          "name": "stdout",
          "text": [
            "Best Parameters: {'C': 10, 'kernel': 'rbf'}\n"
          ]
        }
      ],
      "source": [
        "# Define the parameter grid for grid search\n",
        "param_grid = {\n",
        "    'C': [1, 10, 100],\n",
        "    'kernel': ['rbf','linear','poly']\n",
        "}\n",
        "\n",
        "# Create the SVM model\n",
        "svm_model = SVC()\n",
        "\n",
        "# Create Grid Search object\n",
        "grid_search = GridSearchCV(svm_model, param_grid, cv=3, scoring='accuracy')\n",
        "\n",
        "# Fit the model\n",
        "grid_search.fit(train_x_trans, train_y[LBL])\n",
        "\n",
        "# Get the best parameters\n",
        "best_params = grid_search.best_params_\n",
        "print(\"Best Parameters:\", best_params)"
      ]
    },
    {
      "cell_type": "markdown",
      "source": [
        "C = 10 and kernel = 'rbf' are used for training the SVM model"
      ],
      "metadata": {
        "id": "kOK4D4XQrfap"
      }
    },
    {
      "cell_type": "markdown",
      "metadata": {
        "id": "0nioCiI8jBpy"
      },
      "source": [
        "## Train, Evaluation and Prediction"
      ]
    },
    {
      "cell_type": "markdown",
      "metadata": {
        "id": "4T60anIKjBpy"
      },
      "source": [
        "*Train* the SVM classifier\n"
      ]
    },
    {
      "cell_type": "code",
      "execution_count": null,
      "metadata": {
        "id": "-2e2g25fjBpy",
        "colab": {
          "base_uri": "https://localhost:8080/",
          "height": 74
        },
        "outputId": "d47a6a64-3b32-45dc-cbe9-35aa0027e954"
      },
      "outputs": [
        {
          "output_type": "execute_result",
          "data": {
            "text/plain": [
              "SVC(C=10)"
            ],
            "text/html": [
              "<style>#sk-container-id-13 {color: black;background-color: white;}#sk-container-id-13 pre{padding: 0;}#sk-container-id-13 div.sk-toggleable {background-color: white;}#sk-container-id-13 label.sk-toggleable__label {cursor: pointer;display: block;width: 100%;margin-bottom: 0;padding: 0.3em;box-sizing: border-box;text-align: center;}#sk-container-id-13 label.sk-toggleable__label-arrow:before {content: \"▸\";float: left;margin-right: 0.25em;color: #696969;}#sk-container-id-13 label.sk-toggleable__label-arrow:hover:before {color: black;}#sk-container-id-13 div.sk-estimator:hover label.sk-toggleable__label-arrow:before {color: black;}#sk-container-id-13 div.sk-toggleable__content {max-height: 0;max-width: 0;overflow: hidden;text-align: left;background-color: #f0f8ff;}#sk-container-id-13 div.sk-toggleable__content pre {margin: 0.2em;color: black;border-radius: 0.25em;background-color: #f0f8ff;}#sk-container-id-13 input.sk-toggleable__control:checked~div.sk-toggleable__content {max-height: 200px;max-width: 100%;overflow: auto;}#sk-container-id-13 input.sk-toggleable__control:checked~label.sk-toggleable__label-arrow:before {content: \"▾\";}#sk-container-id-13 div.sk-estimator input.sk-toggleable__control:checked~label.sk-toggleable__label {background-color: #d4ebff;}#sk-container-id-13 div.sk-label input.sk-toggleable__control:checked~label.sk-toggleable__label {background-color: #d4ebff;}#sk-container-id-13 input.sk-hidden--visually {border: 0;clip: rect(1px 1px 1px 1px);clip: rect(1px, 1px, 1px, 1px);height: 1px;margin: -1px;overflow: hidden;padding: 0;position: absolute;width: 1px;}#sk-container-id-13 div.sk-estimator {font-family: monospace;background-color: #f0f8ff;border: 1px dotted black;border-radius: 0.25em;box-sizing: border-box;margin-bottom: 0.5em;}#sk-container-id-13 div.sk-estimator:hover {background-color: #d4ebff;}#sk-container-id-13 div.sk-parallel-item::after {content: \"\";width: 100%;border-bottom: 1px solid gray;flex-grow: 1;}#sk-container-id-13 div.sk-label:hover label.sk-toggleable__label {background-color: #d4ebff;}#sk-container-id-13 div.sk-serial::before {content: \"\";position: absolute;border-left: 1px solid gray;box-sizing: border-box;top: 0;bottom: 0;left: 50%;z-index: 0;}#sk-container-id-13 div.sk-serial {display: flex;flex-direction: column;align-items: center;background-color: white;padding-right: 0.2em;padding-left: 0.2em;position: relative;}#sk-container-id-13 div.sk-item {position: relative;z-index: 1;}#sk-container-id-13 div.sk-parallel {display: flex;align-items: stretch;justify-content: center;background-color: white;position: relative;}#sk-container-id-13 div.sk-item::before, #sk-container-id-13 div.sk-parallel-item::before {content: \"\";position: absolute;border-left: 1px solid gray;box-sizing: border-box;top: 0;bottom: 0;left: 50%;z-index: -1;}#sk-container-id-13 div.sk-parallel-item {display: flex;flex-direction: column;z-index: 1;position: relative;background-color: white;}#sk-container-id-13 div.sk-parallel-item:first-child::after {align-self: flex-end;width: 50%;}#sk-container-id-13 div.sk-parallel-item:last-child::after {align-self: flex-start;width: 50%;}#sk-container-id-13 div.sk-parallel-item:only-child::after {width: 0;}#sk-container-id-13 div.sk-dashed-wrapped {border: 1px dashed gray;margin: 0 0.4em 0.5em 0.4em;box-sizing: border-box;padding-bottom: 0.4em;background-color: white;}#sk-container-id-13 div.sk-label label {font-family: monospace;font-weight: bold;display: inline-block;line-height: 1.2em;}#sk-container-id-13 div.sk-label-container {text-align: center;}#sk-container-id-13 div.sk-container {/* jupyter's `normalize.less` sets `[hidden] { display: none; }` but bootstrap.min.css set `[hidden] { display: none !important; }` so we also need the `!important` here to be able to override the default hidden behavior on the sphinx rendered scikit-learn.org. See: https://github.com/scikit-learn/scikit-learn/issues/21755 */display: inline-block !important;position: relative;}#sk-container-id-13 div.sk-text-repr-fallback {display: none;}</style><div id=\"sk-container-id-13\" class=\"sk-top-container\"><div class=\"sk-text-repr-fallback\"><pre>SVC(C=10)</pre><b>In a Jupyter environment, please rerun this cell to show the HTML representation or trust the notebook. <br />On GitHub, the HTML representation is unable to render, please try loading this page with nbviewer.org.</b></div><div class=\"sk-container\" hidden><div class=\"sk-item\"><div class=\"sk-estimator sk-toggleable\"><input class=\"sk-toggleable__control sk-hidden--visually\" id=\"sk-estimator-id-13\" type=\"checkbox\" checked><label for=\"sk-estimator-id-13\" class=\"sk-toggleable__label sk-toggleable__label-arrow\">SVC</label><div class=\"sk-toggleable__content\"><pre>SVC(C=10)</pre></div></div></div></div></div>"
            ]
          },
          "metadata": {},
          "execution_count": 54
        }
      ],
      "source": [
        "classifier = svm.SVC(kernel='rbf', C = 10)\n",
        "classifier.fit(train_x_trans, train_y[LBL])"
      ]
    },
    {
      "cell_type": "markdown",
      "source": [
        "Prediction and evaluation for valid set."
      ],
      "metadata": {
        "id": "6YxODdcbr0OV"
      }
    },
    {
      "cell_type": "code",
      "execution_count": null,
      "metadata": {
        "id": "lOPez6PEjBpy",
        "colab": {
          "base_uri": "https://localhost:8080/"
        },
        "outputId": "0659d9bd-38a0-4873-c06c-5dd504766cf7"
      },
      "outputs": [
        {
          "output_type": "stream",
          "name": "stdout",
          "text": [
            "              precision    recall  f1-score   support\n",
            "\n",
            "           0       1.00      0.90      0.95        21\n",
            "           1       1.00      0.91      0.95        11\n",
            "           2       1.00      1.00      1.00        27\n",
            "           3       1.00      1.00      1.00         8\n",
            "           4       1.00      0.80      0.89        15\n",
            "           5       1.00      0.82      0.90        11\n",
            "           6       0.97      1.00      0.98       532\n",
            "           7       1.00      0.94      0.97        32\n",
            "           8       0.94      0.84      0.89        19\n",
            "           9       1.00      0.82      0.90        17\n",
            "          10       1.00      0.90      0.95        10\n",
            "          11       1.00      0.91      0.95        11\n",
            "          12       1.00      0.92      0.96        26\n",
            "          13       1.00      1.00      1.00        10\n",
            "\n",
            "    accuracy                           0.97       750\n",
            "   macro avg       0.99      0.91      0.95       750\n",
            "weighted avg       0.97      0.97      0.97       750\n",
            "\n"
          ]
        }
      ],
      "source": [
        "y_predict_valid = classifier.predict(valid_x_trans)\n",
        "print(classification_report(valid_y[LBL], y_predict_valid))"
      ]
    },
    {
      "cell_type": "markdown",
      "metadata": {
        "id": "gpIzH2YvjBpy"
      },
      "source": [
        "Prediction for test dataset"
      ]
    },
    {
      "cell_type": "code",
      "execution_count": null,
      "metadata": {
        "id": "kOI64M_2jBpy"
      },
      "outputs": [],
      "source": [
        "test_y[LBL] = classifier.predict(test_x_trans)"
      ]
    },
    {
      "cell_type": "code",
      "execution_count": null,
      "metadata": {
        "id": "LEFmUPasjbNm"
      },
      "outputs": [],
      "source": [
        "IDs = [i for i in range(1, 745)]\n",
        "output_df = pd.DataFrame({\n",
        "    'ID': IDs,\n",
        "})\n",
        "for l in LABELS:\n",
        "  lbl_df = pd.DataFrame({l : test_y[l]})\n",
        "  output_df = pd.concat([output_df, lbl_df], axis=1)\n"
      ]
    },
    {
      "cell_type": "code",
      "execution_count": null,
      "metadata": {
        "id": "Q14VbO5yke3b"
      },
      "outputs": [],
      "source": [
        "output_df.to_csv('/content/drive/MyDrive/ML_Project/output.csv', index=False)"
      ]
    }
  ],
  "metadata": {
    "colab": {
      "provenance": []
    },
    "kernelspec": {
      "display_name": "Python 3",
      "name": "python3"
    },
    "language_info": {
      "name": "python"
    }
  },
  "nbformat": 4,
  "nbformat_minor": 0
}